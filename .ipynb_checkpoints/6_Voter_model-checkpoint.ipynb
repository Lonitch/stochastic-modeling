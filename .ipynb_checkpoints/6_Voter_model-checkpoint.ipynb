{
 "cells": [
  {
   "cell_type": "markdown",
   "metadata": {},
   "source": [
    "Even though it does not depend on any parameter, the voter model exhibits very rich dynamics with various behaviors depending on the spatial dimension. *This contrasts with the contact process that has behavior similar in any dimension.*\n",
    "\n",
    "## Duality with coalescing random walks\n",
    "\n",
    "The dual process of the voter model consists of a system of coalescing random walks: there is one symmetric random walk starting at each point in $A$ **moving backward in time and each time one random walk jumps onto another one, both random walks coalesce**.\n",
    "\n",
    "## Theorem of convergence to a stationary distribution\n",
    "\n",
    "Let $d>2 .$ Then, the voter model converges in distribution to an invariant measure in which there is a positive density of both types.\n",
    "\n",
    "## Theorems for clustering and coexistence in voter model\n",
    "\n",
    "- Theorem 1: Starting with a density $\\rho$ of type I individuals,\n",
    "\n",
    "    - Consensus: $\\xi_{t} \\stackrel{d}{\\longrightarrow}(1-\\rho) \\delta_{0}+\\rho \\delta_{1}$ when $d \\leq 2,$ where $\\delta_{i}$ is the measure that concentrates on the configuration in which all sites are of type i.\n",
    "    \n",
    "    - Coexistence: $\\xi_{t} \\stackrel{d}{\\longrightarrow} \\xi_{\\infty}$ when $d>2,$ where $P\\left(\\xi_{\\infty (x)=1\\right)=\\rho$\n",
    "    \n",
    "The first statement says that, any bounded region is, with probability close to one at large times, either occupied by only type 1 individuals with probability $\\rho$ or occupied by only type 0 individuals with probability $1-\\rho .$ This indicates that the process clusters. The second statement says that, **in higher dimensions, both types\n",
    "coexist at equilibrium.**\n",
    "\n",
    "In higher dimensions, because coexistence occurs, two fixed vertices are never totally correlated, even at equilibrium. However, due to the presence of local interactions, sites are not independent either and a natural question is: **How strong are the spatial correlations?** To quantify the spatial correlations, the basic idea is to look at **how much the number of vertices of type 1 in a large box deviates from its mean**.\n",
    "\n",
    "Since initially sites are independently of type 1 with probability $\\rho,$ the central limit theorem implies that, as $n \\rightarrow \\infty$,\n",
    "\n",
    "$$\n",
    "\\left(\\frac{1}{\\sqrt{n}}\\right)^{d} \\sum_{\\|x\\|<n}\\left(\\xi_{0}(x)-\\rho\\right) \\stackrel{d}{\\longrightarrow} \\operatorname{Normal}\\left(0, \\sigma^{2}\\right)\n",
    "$$\n",
    "\n",
    "- Theorem 2: Spatial correlation s in $d>2$\n",
    "$$\n",
    "A s n \\rightarrow \\infty\n",
    "$$\n",
    "$$\n",
    "\\left(\\frac{1}{\\sqrt{n}}\\right)^{d+2} \\sum_{\\|x\\|<n}\\left(\\xi_{\\infty}(x)-\\rho\\right) \\stackrel{d}{\\longrightarrow} \\operatorname{Normal}\\left(0, \\sigma^{2}\\right)\n",
    "$$\n",
    "To have a central limit type theorem, *one has to further divide the sum by an extra n (the geometrical scale of samples)*, showing that, **even in high dimensions where both types coexist, spatial correlations due to local interactions are still quite strong**.\n",
    "\n",
    "- Theorem 3: Occupation time:\n",
    "\n",
    "Assume that $d \\geq 2 .$ Then,\n",
    "$$\n",
    "\\frac{1}{t} \\int_{0}^{t} \\xi_{s}(x) d s \\stackrel{a . s .}{\\longrightarrow} \\rho \\quad \\text { as } \\quad t \\rightarrow \\infty\n",
    "$$"
   ]
  },
  {
   "cell_type": "markdown",
   "metadata": {},
   "source": [
    "## Observe clustering in d=2\n",
    "\n",
    "Let's first implement an algorithm of voter model on a 2D space to see if the clustering is happening "
   ]
  },
  {
   "cell_type": "code",
   "execution_count": 15,
   "metadata": {},
   "outputs": [],
   "source": [
    "import numpy as np\n",
    "from numpy.random import choice\n",
    "from scipy.stats import expon\n",
    "\n",
    "def voter(n, n1, T):\n",
    "    N = n**2\n",
    "    universe = np.zeros(n**2,dtype=int)\n",
    "    universe[choice(N,size=n1, replace=False).tolist()]=1\n",
    "    rv = expon(scale=1/N)\n",
    "    t = 0\n",
    "    nbs = [[0,1],[0,-1],[1,0],[-1,0]]\n",
    "    while t<T:\n",
    "        t+=rv.rvs()\n",
    "        curr = choice(N)\n",
    "        curx,cury=np.unravel_index(curr,(n,n))\n",
    "        b = nbs[choice(4)]\n",
    "        curx=(b[0]+curx+n)%n\n",
    "        cury=(b[1]+cury+n)%n\n",
    "        nb = np.ravel_multi_index((curx,cury),(n,n))\n",
    "        universe[nb]=universe[curr]\n",
    "    return universe"
   ]
  },
  {
   "cell_type": "code",
   "execution_count": 19,
   "metadata": {},
   "outputs": [
    {
     "data": {
      "text/plain": [
       "<matplotlib.image.AxesImage at 0x1ab7f4d59c8>"
      ]
     },
     "execution_count": 19,
     "metadata": {},
     "output_type": "execute_result"
    },
    {
     "data": {
      "image/png": "[encoded data removed]",
      "text/plain": [
       "<Figure size 432x288 with 1 Axes>"
      ]
     },
     "metadata": {
      "needs_background": "light"
     },
     "output_type": "display_data"
    }
   ],
   "source": [
    "%matplotlib inline\n",
    "import matplotlib.pyplot as plt\n",
    "\n",
    "sz = 80\n",
    "ntyp1 = 40**2\n",
    "Tscale= 100\n",
    "u = voter(sz,ntyp1,Tscale)\n",
    "fig, ax = plt.subplots()\n",
    "ax.matshow(u.reshape((sz,sz)), cmap=plt.cm.Blues)"
   ]
  },
  {
   "cell_type": "markdown",
   "metadata": {},
   "source": [
    "With type-1 sites distributed randomly, and $\\rho_1=0.25$, we see multiple clusters are showing above at $T=100$"
   ]
  },
  {
   "cell_type": "markdown",
   "metadata": {},
   "source": [
    "## Axelrod Model\n",
    "\n",
    "In the two feature two-state Axelrod model, each site of the `d-dimensional` integer lattice is occupied by an individual who is characterized by her opinion about two different cultural features, so the state at time $t$ is a spatial configuration:\n",
    "\n",
    "$$\n",
    "\\xi_{t}: \\mathbb{Z}^{d} \\rightarrow\\{0,1\\}^{2}\n",
    "$$\n",
    "\n",
    "**Pairs of nearest neighbors interact at a rate equal to the number of cultural features they share, which results in a perfect agreement between the two neighbors.**"
   ]
  },
  {
   "cell_type": "code",
   "execution_count": 16,
   "metadata": {},
   "outputs": [],
   "source": [
    "import numpy as np\n",
    "from numpy.random import choice\n",
    "from scipy.stats import expon\n",
    "from numpy import ravel_multi_index as ravid\n",
    "from joblib import Parallel, delayed\n",
    "\n",
    "def calcBeta(u,n,c):\n",
    "    # Calculate the opinion differences between each individual\n",
    "    # and its neighbors\n",
    "    # Return the min time needed for the inidividual 'c' to interact with its neighbors\n",
    "    # and the neighbor id that is going to interact with 'c'\n",
    "    beta=0\n",
    "    mintau = 2**32\n",
    "    x,y = np.unravel_index(c,(n,n))\n",
    "    p=0\n",
    "    for i, j in zip([1,-1,0,0],[0,0,1,-1]):\n",
    "        bx = (x+i+n)%n\n",
    "        by = (y+j+n)%n\n",
    "        nb = ravid((bx,by),(n,n))\n",
    "        beta = np.sum(np.abs(u[:,c]-\n",
    "                                u[:,nb]))\n",
    "        tau = expon(1/beta).rvs()\n",
    "        if tau<mintau:\n",
    "            mintau=tau\n",
    "            pair = nb\n",
    "    return tau,nb\n",
    "    \n",
    "    \n",
    "def axelrod(n, n1, n2, T): \n",
    "    # n1: num of individuals agree with opinion 1\n",
    "    # n2: num of individuals agree with opinion 2\n",
    "    N = n**2\n",
    "    universe = np.zeros((2,N),dtype=int)\n",
    "    universe[0][choice(N,size=n1, replace=False).tolist()]=1\n",
    "    universe[1][choice(N,size=n2, replace=False).tolist()]=1\n",
    "    t = 0\n",
    "    while t<T: # We parallels the for loop here to speed up code.\n",
    "        r = Parallel(n_jobs=6)(delayed(calcBeta)(u=universe,n=n,c=i) for i in range(N))\n",
    "        dt, nbs = zip(*r)\n",
    "        t+=np.min(dt)\n",
    "        cur = np.argmin(dt)\n",
    "        curb = nbs[cur]\n",
    "        universe[:,curb]=universe[:,cur]\n",
    "        \n",
    "    return universe"
   ]
  },
  {
   "cell_type": "code",
   "execution_count": 17,
   "metadata": {},
   "outputs": [],
   "source": [
    "sz = 10\n",
    "op1=50\n",
    "op2=50\n",
    "tscal=60\n",
    "u = axelrod(sz, op1, op2, tscal)"
   ]
  },
  {
   "cell_type": "code",
   "execution_count": 18,
   "metadata": {},
   "outputs": [
    {
     "data": {
      "text/plain": [
       "<matplotlib.image.AxesImage at 0x1e4aeec5bc8>"
      ]
     },
     "execution_count": 18,
     "metadata": {},
     "output_type": "execute_result"
    },
    {
     "data": {
      "image/png": "[encoded data removed]",
      "text/plain": [
       "<Figure size 432x288 with 1 Axes>"
      ]
     },
     "metadata": {
      "needs_background": "light"
     },
     "output_type": "display_data"
    }
   ],
   "source": [
    "%matplotlib inline\n",
    "import matplotlib.pyplot as plt\n",
    "\n",
    "final = u[0]+u[1]*2\n",
    "fig, ax = plt.subplots()\n",
    "ax.matshow(final.reshape((sz,sz)), cmap=plt.cm.Blues)"
   ]
  },
  {
   "cell_type": "markdown",
   "metadata": {},
   "source": [
    "**Blocks with different colors above indicate individuals with different opinions.** There are 4 kinds of individuals with opinion of `[1,0],[1,1],[0,1],[0,0]`. At time 60, we can see that the individuals with opinion of `[1,0]`(sky blue blocks) are staying together. The individuals with opinion of `[1,1]`(Navy blocks) are forming some clusters on the plot also."
   ]
  }
 ],
 "metadata": {
  "kernelspec": {
   "display_name": "Python 3",
   "language": "python",
   "name": "python3"
  },
  "language_info": {
   "codemirror_mode": {
    "name": "ipython",
    "version": 3
   },
   "file_extension": ".py",
   "mimetype": "text/x-python",
   "name": "python",
   "nbconvert_exporter": "python",
   "pygments_lexer": "ipython3",
   "version": "3.7.4"
  }
 },
 "nbformat": 4,
 "nbformat_minor": 2
}
