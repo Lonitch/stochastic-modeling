{
 "cells": [
  {
   "cell_type": "markdown",
   "metadata": {},
   "source": [
    "## Formulate SSA for the System from (6.1)\n",
    "\n",
    "1. For each molecule, compute its x-coordinate at time $t+\\Delta t$ according to the following steps:\n",
    "\n",
    "    - Generate a normally distributed (with zero mean and unit variance) random number $\\xi .$\n",
    "    \n",
    "    - $X(t+\\Delta t)=X(t)+\\sqrt{2 D \\Delta t} \\xi$\n",
    "    \n",
    "    - If $X(t+\\Delta t)<0$, $X(t+\\Delta t)=-X(t)-\\sqrt{2 D \\Delta t} \\xi$\n",
    "    \n",
    "    - If $X(t+\\Delta t)>L$, $X(t+\\Delta t)=2 L-X(t)-\\sqrt{2 D \\Delta t} \\xi$\n",
    "    \n",
    "    - continue\n",
    "    \n",
    "2. For each molecule, generate a random number $r_{1}$ uniformly distributed in the interval $(0,1) .$ If $r_{1}<k_{1} \\Delta t,$ then remove the molecule from the system.\n",
    "\n",
    "3. Generate a random number $r_{2}$ uniformly distributed in the interval $(0,1) .$ If $r_{2}<\\left(k_{2} h^{2} L / 5\\right) \\Delta t,$ then generate another random number $r_{3}$ uniformly distributed in the interval $(0,1)$ and introduce a new molecule at the position with $x$ -coordinate equal to $r_{3} L / 5$\n",
    "\n",
    "4. Go back to 1"
   ]
  },
  {
   "cell_type": "markdown",
   "metadata": {},
   "source": [
    "## SSA for Reaction-Diffusion System with Velocity-Jump Process\n",
    "\n",
    "To include velocity-jump process, we replace the step 1 in the algorithm above with the following steps:\n",
    "\n",
    "- Generate a random number $r$ uniformly distributed in $(0,1) .$\n",
    "\n",
    "- Compute the position of the molecule at time $t+\\Delta t$ by $X(t+\\Delta t)=X(t)+V(t) \\Delta t$\n",
    "\n",
    "- If $X(t+\\Delta t)<0$, $X(t+\\Delta t)=-X(t)-V(t) \\Delta t$ and $V(t+\\Delta t)=-V(t)$\n",
    "\n",
    "- If $X(t+\\Delta t)>0$, then $X(t+\\Delta t)=2 L-X(t)-V(t) \\Delta t$ and $V(t+\\Delta t)=-V(t)$\n",
    "\n",
    "- Let $\\lambda=\\frac{s^{2}}{2 D}$, where $s$ is the magnitude of velocity. If $r<\\lambda\\Delta t$, then put $V(t+\\Delta t)=-V(t)$.\n",
    "\n",
    "The following code implements what describes above:"
   ]
  },
  {
   "cell_type": "code",
   "execution_count": 11,
   "metadata": {},
   "outputs": [],
   "source": [
    "import numpy as np\n",
    "from numpy.random import uniform\n",
    "\n",
    "def evol1d(length,dt,ttot,lam,dcoeff,k1,k2):\n",
    "    v = []\n",
    "    xs = [] # no molecule at the beginning\n",
    "    t = 0\n",
    "    while t<ttot:\n",
    "        for i,x in enumerate(xs):\n",
    "            x = x+v[i]*dt\n",
    "            r = uniform()\n",
    "            if x<0:\n",
    "                xs[i] = -x\n",
    "                v[i] = -v[i]\n",
    "            elif x>length:\n",
    "                xs[i] = 2*length-x\n",
    "                v[i] = -v[i]\n",
    "            else:\n",
    "                xs[i] = x\n",
    "                if r<lam*dt:\n",
    "                    v[i] = -v[i]\n",
    "            if uniform()<k1*dt:\n",
    "                xs.pop(i)\n",
    "                v.pop(i)\n",
    "        if uniform()<k2:\n",
    "            xs.append(uniform()*length/5)\n",
    "            v.append(np.sqrt(2*lam*dcoeff))\n",
    "        t+=dt\n",
    "    return xs"
   ]
  },
  {
   "cell_type": "code",
   "execution_count": 12,
   "metadata": {},
   "outputs": [],
   "source": [
    "D = 0.0001\n",
    "Lam = 1\n",
    "Dt = 0.1\n",
    "L = 1\n",
    "T = 600\n",
    "K1 = 0.0001\n",
    "K2 = 0.025\n",
    "rep = 1\n",
    "res = []\n",
    "for p in range(rep):\n",
    "    res+=evol1d(L,Dt,T,Lam,D,K1,K2)"
   ]
  },
  {
   "cell_type": "code",
   "execution_count": 17,
   "metadata": {},
   "outputs": [
    {
     "data": {
      "text/plain": [
       "Text(0, 0.5, 'Pr{x(10min)=x}')"
      ]
     },
     "execution_count": 17,
     "metadata": {},
     "output_type": "execute_result"
    },
    {
     "data": {
      "image/png": "[encoded data removed]",
      "text/plain": [
       "<Figure size 432x288 with 1 Axes>"
      ]
     },
     "metadata": {
      "needs_background": "light"
     },
     "output_type": "display_data"
    }
   ],
   "source": [
    "%matplotlib inline\n",
    "import matplotlib.pyplot as plt\n",
    "plt.hist(res,bins=40,width=0.01)\n",
    "plt.xlabel('x')\n",
    "plt.ylabel('Pr{x(10min)=x}')"
   ]
  },
  {
   "cell_type": "code",
   "execution_count": null,
   "metadata": {},
   "outputs": [],
   "source": []
  }
 ],
 "metadata": {
  "kernelspec": {
   "display_name": "Python 3",
   "language": "python",
   "name": "python3"
  },
  "language_info": {
   "codemirror_mode": {
    "name": "ipython",
    "version": 3
   },
   "file_extension": ".py",
   "mimetype": "text/x-python",
   "name": "python",
   "nbconvert_exporter": "python",
   "pygments_lexer": "ipython3",
   "version": "3.7.4"
  }
 },
 "nbformat": 4,
 "nbformat_minor": 2
}
