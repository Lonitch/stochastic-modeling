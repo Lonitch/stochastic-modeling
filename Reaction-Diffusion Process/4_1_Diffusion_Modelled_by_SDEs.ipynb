{
 "cells": [
  {
   "cell_type": "markdown",
   "metadata": {},
   "source": [
    "## Brownian Motion Revisited\n",
    "\n",
    "In notebook (3.1) we have shown that the trajectories of a Brownian motion can be solved by the following SDEs:\n",
    "\n",
    "$$\n",
    "\\begin{array}{l}{X(t+\\mathrm{d} t)=X(t)+\\sqrt{2 D} \\mathrm{d} W_{x}} \\\\ {Y(t+\\mathrm{d} t)=Y(t)+\\sqrt{2 D} \\mathrm{d} W_{y}} \\\\ {Z(t+\\mathrm{d} t)=Z(t)+\\sqrt{2 D} \\mathrm{d} W_{z}}\\end{array}\\text{---(1)}\n",
    "$$\n",
    "\n",
    "In this notebook, we relate the system of SDEs (1) to the classic deterministic description of diffusion."
   ]
  },
  {
   "cell_type": "markdown",
   "metadata": {},
   "source": [
    "## Fokker-Planck Equation\n",
    "\n",
    "Compare the SDE system (1) with the following SDE:\n",
    "\n",
    "$$\n",
    "X(t+\\Delta t)=X(t)+f(X(t), t) \\Delta t+g(X(t), t)dW\n",
    "$$\n",
    "\n",
    "we know that $f(X(t), t)=0$ and $g(X(t), t)=\\sqrt{2D}$. Because the Fokker-Planck equation has the form of\n",
    "\n",
    "$$\n",
    "\\frac{\\partial p}{\\partial t}(x, t)=\\frac{\\partial^{2}}{\\partial x^{2}}\\left(\\frac{g^{2}(x, t)}{2} p(x, t)\\right)-\\frac{\\partial}{\\partial x}(f(x, t) p(x, t))\n",
    "$$\n",
    "\n",
    "we know that the probability density $p_{x}(x, t)$ satisfies:\n",
    "\n",
    "$$\n",
    "\\frac{\\partial p_{x}}{\\partial t}(x, t)=D \\frac{\\partial^{2} p_{x}}{\\partial x^{2}}(x, t)\n",
    "$$\n",
    "\n",
    "where $ p_{x}(x, t) \\mathrm{d} x$ is the probability that $X(t) \\in[x, x+\\mathrm{d} x)$.\n",
    "\n",
    "Now let $p(x, y, z, t) \\mathrm{d} x \\mathrm{d} y \\mathrm{d} z$ be the probability that $X(t) \\in[x, x+\\mathrm{d} x), Y(t) \\in$ $[y, y+\\mathrm{d} y)$ and $Z(t) \\in[z, z+\\mathrm{d} z)$ at time $t .$ And we have\n",
    "\n",
    "$$\n",
    "p(x, y, z, t)=p_{x}(x, t) p_{y}(y, t) p_{z}(z, t)\n",
    "$$\n",
    "\n",
    "Therefore,\n",
    "\n",
    "$$\n",
    "\\begin{array}{l}{\\frac{\\partial}{\\partial t}\\left(p_{x}(x, t) p_{y}(y, t) p_{z}(z, t)\\right)} \\\\ {\\quad=D \\frac{\\partial^{2} p_{x}}{\\partial x^{2}}(x, t) p_{y}(y, t) p_{z}(z, t)+D p_{x}(x, t) \\frac{\\partial^{2} p_{y}}{\\partial y^{2}}(y, t) p_{z}(z, t)} \\\\ {\\quad+D p_{x}(x, t) p_{y}(y, t) \\frac{\\partial^{2} p_{z}}{\\partial z^{2}}(z, t)}\\end{array}\n",
    "$$\n",
    "\n",
    "Rewrite the equation above, we have the following PDE:\n",
    "\n",
    "$$\n",
    "\\frac{\\partial p}{\\partial t}=D\\left(\\frac{\\partial^{2} p}{\\partial x^{2}}+\\frac{\\partial^{2} p}{\\partial y^{2}}+\\frac{\\partial^{2} p}{\\partial z^{2}}\\right)\\text{---(2)}\n",
    "$$\n",
    "\n",
    "which is the **diffusion equation in three-dimensional space.** Again, we solve (2) with the initial condition of $p(x, y, z, 0)=\\delta(x, y, z)$ to get:\n",
    "\n",
    "$$\n",
    "p(x, y, z, t)=\\frac{1}{(4 D \\pi t)^{3 / 2}} \\exp \\left[-\\frac{x^{2}+y^{2}+z^{2}}{4 D t}\\right]\\text{---(3)}\n",
    "$$"
   ]
  },
  {
   "cell_type": "markdown",
   "metadata": {},
   "source": [
    "## One-Dimensional Diffusion with Reflecting Boundary\n",
    "\n",
    "The 1D diffusion with reflecting boundary is solved by the following equation :\n",
    "$$\n",
    "\\frac{\\partial p}{\\partial t}=D\\frac{\\partial^{2} p}{\\partial x^{2}}\\text{---(4)}\n",
    "$$\n",
    "and B.C. for the reflecting boundaries are:\n",
    "\n",
    "$$\n",
    "\\frac{\\partial p_{x}}{\\partial x}(0, t)=\\frac{\\partial p_{x}}{\\partial x}(L, t)=0\n",
    "$$\n",
    "\n",
    "Also, we can use SSA to simulate the 1D diffusion as:\n",
    "\n",
    "1. Generate a normally distributed (with zero mean and unit variance) random number $\\xi .$\n",
    "\n",
    "2. Compute the position of the molecule at time $t+\\Delta t$ by $X(t+\\Delta t)=X(t)+\\sqrt{2 D \\Delta t} \\xi$\n",
    "\n",
    "3. If $X(t+\\Delta t)$ is less than 0 , then $X(t+\\Delta t)=-X(t)-\\sqrt{2 D \\Delta t} \\xi$\n",
    "\n",
    "4. If $X(t+\\Delta t)$ is greater than $L$, then $ X(t+\\Delta t)=2 L-X(t)-\\sqrt{2 D \\Delta t} \\xi$\n",
    "\n",
    "5. Continue with step $(1)$ for time $t+\\Delta t$"
   ]
  },
  {
   "cell_type": "code",
   "execution_count": 21,
   "metadata": {},
   "outputs": [],
   "source": [
    "import numpy as np\n",
    "from scipy.stats import norm\n",
    "\n",
    "def diff1D(x0,D,L,dt,Tend):\n",
    "    xs = [x0]\n",
    "    nstep=int(Tend/dt)\n",
    "    ts = np.linspace(0,Tend,nstep)\n",
    "    rv = norm()\n",
    "    for i in range(nstep-1):\n",
    "        temp = xs[-1]+np.sqrt(2*D*dt)*rv.rvs()\n",
    "        if temp<0:\n",
    "            temp = -temp\n",
    "        elif temp>L:\n",
    "            temp = 2*L-temp\n",
    "        xs.append(temp)\n",
    "    return ts,xs\n",
    "\n",
    "# Here we use simple Euler Forward method to solve eqn.(4)\n",
    "\n",
    "def fem(x0,D,L,N,dt,ttot):\n",
    "    xs = np.linspace(0,L,N,endpoint=True)\n",
    "    dx = xs[1]-xs[0]\n",
    "    ps = np.zeros(N)\n",
    "    ps[x0]=1\n",
    "    # prep RHS at t\n",
    "    rhs = np.zeros(N)\n",
    "    curt = 0\n",
    "    while curt<ttot:\n",
    "        for i in range(1,N-1):\n",
    "            rhs[i] = (D/dx**2)*(ps[i+1] - 2*ps[i] + ps[i-1])\n",
    "        rhs[N-1] = (2*D/dx**2)*(ps[N-2]-ps[N-1]) # B.C.\n",
    "        rhs[0] = (2*D/dx**2)*(ps[1]-ps[0]) # B.C.\n",
    "        rhs = rhs*dt\n",
    "        ps += rhs\n",
    "        curt+=dt\n",
    "    return xs, ps"
   ]
  },
  {
   "cell_type": "code",
   "execution_count": 41,
   "metadata": {},
   "outputs": [],
   "source": [
    "Dcoeff = 0.0001\n",
    "T = 600\n",
    "dt = 0.1\n",
    "length = 1\n",
    "Nn=40\n",
    "X0=0.5\n",
    "\n",
    "_,Xs=diff1D(X0,Dcoeff,length,dt,T)"
   ]
  },
  {
   "cell_type": "code",
   "execution_count": 39,
   "metadata": {},
   "outputs": [],
   "source": [
    "Xs2,Ps=fem(16,Dcoeff,length,Nn,0.01,T)"
   ]
  },
  {
   "cell_type": "code",
   "execution_count": 40,
   "metadata": {},
   "outputs": [
    {
     "data": {
      "text/plain": [
       "<matplotlib.legend.Legend at 0x2acb5490308>"
      ]
     },
     "execution_count": 40,
     "metadata": {},
     "output_type": "execute_result"
    },
    {
     "data": {
      "image/png": "[encoded data removed]",
      "text/plain": [
       "<Figure size 432x288 with 1 Axes>"
      ]
     },
     "metadata": {
      "needs_background": "light"
     },
     "output_type": "display_data"
    }
   ],
   "source": [
    "%matplotlib inline\n",
    "import matplotlib.pyplot as plt\n",
    "plt.plot(Xs2,Ps,'r-',linewidth=2,label='PDE')\n",
    "plt.xlabel('x')\n",
    "plt.ylabel('$p(x)$')\n",
    "plt.legend()"
   ]
  },
  {
   "cell_type": "code",
   "execution_count": null,
   "metadata": {},
   "outputs": [],
   "source": []
  },
  {
   "cell_type": "code",
   "execution_count": 46,
   "metadata": {},
   "outputs": [
    {
     "data": {
      "text/plain": [
       "(array([ 138.,  126.,  513.,  849.,  880.,  738., 1180.,  995.,  454.,\n",
       "         127.]),\n",
       " array([0.08078599, 0.12509171, 0.16939742, 0.21370314, 0.25800886,\n",
       "        0.30231458, 0.34662029, 0.39092601, 0.43523173, 0.47953745,\n",
       "        0.52384316]),\n",
       " <a list of 10 Patch objects>)"
      ]
     },
     "execution_count": 46,
     "metadata": {},
     "output_type": "execute_result"
    },
    {
     "data": {
      "image/png": "[encoded data removed]",
      "text/plain": [
       "<Figure size 432x288 with 1 Axes>"
      ]
     },
     "metadata": {
      "needs_background": "light"
     },
     "output_type": "display_data"
    }
   ],
   "source": [
    "plt.hist(np.array(Xs),width=0.01)"
   ]
  },
  {
   "cell_type": "code",
   "execution_count": 48,
   "metadata": {},
   "outputs": [
    {
     "data": {
      "text/plain": [
       "0.08078598986285035"
      ]
     },
     "execution_count": 48,
     "metadata": {},
     "output_type": "execute_result"
    }
   ],
   "source": [
    "min(Xs)"
   ]
  },
  {
   "cell_type": "code",
   "execution_count": null,
   "metadata": {},
   "outputs": [],
   "source": []
  }
 ],
 "metadata": {
  "kernelspec": {
   "display_name": "Python 3",
   "language": "python",
   "name": "python3"
  },
  "language_info": {
   "codemirror_mode": {
    "name": "ipython",
    "version": 3
   },
   "file_extension": ".py",
   "mimetype": "text/x-python",
   "name": "python",
   "nbconvert_exporter": "python",
   "pygments_lexer": "ipython3",
   "version": "3.7.4"
  }
 },
 "nbformat": 4,
 "nbformat_minor": 2
}
