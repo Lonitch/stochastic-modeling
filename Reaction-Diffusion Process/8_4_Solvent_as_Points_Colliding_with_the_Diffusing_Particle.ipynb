{
 "cells": [
  {
   "cell_type": "markdown",
   "metadata": {},
   "source": [
    "Another analytically tractable solvent model which lies at the other theoretical extreme: **it only includes interactions between nearby particles (in fact, they only interact when they are in contact) and does not have any long-range forces at all**.\n",
    "\n",
    "We consider a (heavy) diffusing particle with mass $m_p$, and radius $R$, with the coordinates of its centre denoted by $\\mathbf{X}=\\left[X_{1}, X_{2}, X_{3}\\right]$ and its velocity by $\\mathbf{V}=\\left[V_{1}, V_{2}, V_{3}\\right]$.\n",
    "\n",
    "The diffusing particle collides with a large number of (light) point solvent particles with masses $m_{s} \\ll m_{p},$ positions $\\mathbf{x}^{i}$ and velocities $\\mathbf{v}^{i}, i=1,2,3, \\ldots .$\n",
    "\n",
    ">The collisions of particles are without friction, which means that post-collision velocities can be computed using the conservation of momentum and energy.\n",
    "\n",
    "Assuming that $\\mathbf{v}^{j}$ is the velocity of the heat bath molecule that collided with the heavy molecule, we obtain\n",
    "\n",
    "$$\n",
    "\\begin{aligned} \\widetilde{\\mathbf{V}} &=[\\mathbf{V}]^{\\|}+\\frac{\\mu-1}{\\mu+1}[\\mathbf{V}]^{\\perp}+\\frac{2}{\\mu+1}\\left[\\mathbf{v}^{j}\\right]^{\\perp} \\\\ \\widetilde{\\mathbf{v}}^{j} &=\\left[\\mathbf{v}^{j}\\right]^{\\|}+\\frac{1-\\mu}{\\mu+1}\\left[\\mathbf{v}^{j}\\right]^{\\perp}+\\frac{2 \\mu}{\\mu+1}[\\mathbf{V}]^{\\perp} \\end{aligned}\\text{---(1)}\n",
    "$$\n",
    "\n",
    "where tildes denote post-collision velocities, superscripts $\\perp$ denote projections of velocities on the line through the centre of the molecule and the collision point on its surface, superscripts I denote tangential components of velocity, and we define $\\mu$ as the dimensionless ratio of masses,\n",
    "\n",
    "$$\n",
    "\\mu=\\frac{m_{p}}{m_{s}}\n",
    "$$\n",
    "\n",
    "If we consider the limit of $\\mu \\rightarrow \\infty$, to get a **non-trivial limiting behaviour, we need to simultaneously increase the number and velocities of solvent molecules as we increase $\\mu$.** The Langevin description of the diffusing molecule can then be written in the form:\n",
    "\n",
    "$$\n",
    "\\begin{array}{l}{X_{i}(t+\\mathrm{d} t)=X_{i}(t)+V_{i}(t) \\mathrm{d} t} \\\\ {V_{i}(t+\\mathrm{d} t)=V_{i}(t)-\\beta V_{i}(t) \\mathrm{d} t+\\beta \\sqrt{2 D} \\mathrm{d} W_{i}, \\quad i=1,2,3}\\end{array}\n",
    "$$\n",
    "\n",
    "where $D$ is the diffusion coefficient and $\\beta=\\gamma / m_{p}$ is the friction coefficient."
   ]
  },
  {
   "cell_type": "markdown",
   "metadata": {},
   "source": [
    "## Initial Condition\n",
    "\n",
    "We assume that the density of solvent particles in any finite subdomain $\\Omega \\in \\mathbb{R}^{3}$ is given by $\\lambda_{\\mu}|\\Omega|,$ where $|\\Omega|$ is the volume of $\\Omega$ and $|$ the constant $\\lambda_{\\mu}$ is given by\n",
    "\n",
    "$$\n",
    "\\lambda_{\\mu}=\\frac{3}{8 R^{2}} \\sqrt{\\frac{(\\mu+1) \\beta}{2 \\pi D}}\n",
    "$$\n",
    "\n",
    "More precisely, we assume that the number of solvent particles in a set $\\Omega \\in \\mathbb{R}^{3}$ is distributed according to the Poisson distribution with mean $\\lambda_{\\mu}|\\Omega|,$ which is sometimes shortened to saying that **heat bath particles are distributed according to the (spatial) Poisson distribution (or process) with density $\\lambda_{\\mu}$**.\n",
    "\n",
    "In addition to positions $\\mathbf{x}^{i}$ of heat bath particles, we also have to initialize their velocities $\\mathbf{v}^{i}, i=1,2,3, \\ldots$ Again, we assume that their velocities are taken from a distribution with a suitably scaled mean. We assume that each initial velocity $\\mathbf{v}^{i}=\\left[v_{1}^{i}, v_{2}^{i}, v_{3}^{i}\\right]$ is sampled according to the distribution with distribution function\n",
    "\n",
    "$$\n",
    "\\begin{array}{c}{f_{\\mu}\\left(\\mathbf{v}^{i}\\right)=\\frac{1}{\\sigma_{\\mu}^{3}(2 \\pi)^{3 / 2}} \\exp \\left[-\\frac{\\left(v_{1}^{i}\\right)^{2}+\\left(v_{2}^{i}\\right)^{2}+\\left(v_{3}^{i}\\right)^{2}}{2 \\sigma_{\\mu}^{2}}\\right]} \\\\ {\\sigma_{\\mu}=\\sqrt{(\\mu+1) D \\beta}}\\end{array}\\text{---(2)}\n",
    "$$"
   ]
  },
  {
   "cell_type": "markdown",
   "metadata": {},
   "source": [
    "**This is again a Maxwell distribution.**"
   ]
  }
 ],
 "metadata": {
  "kernelspec": {
   "display_name": "Python 3",
   "language": "python",
   "name": "python3"
  },
  "language_info": {
   "codemirror_mode": {
    "name": "ipython",
    "version": 3
   },
   "file_extension": ".py",
   "mimetype": "text/x-python",
   "name": "python",
   "nbconvert_exporter": "python",
   "pygments_lexer": "ipython3",
   "version": "3.7.4"
  }
 },
 "nbformat": 4,
 "nbformat_minor": 2
}
