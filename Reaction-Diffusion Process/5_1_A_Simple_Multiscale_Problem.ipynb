{
 "cells": [
  {
   "cell_type": "markdown",
   "metadata": {},
   "source": [
    "## Overview\n",
    "\n",
    "Unfortunately, SSA(e.g. Gillespie SSA) introduced in previous notebooks are computationally intensive, and do not run in a short time. If this is the case, then we have to look for a way to speed up the computation.\n",
    "\n",
    "There can be several reasons why the Gillespie SSA is computationally intensive:\n",
    "\n",
    "1. The Gillespie SSA computes one reaction event per time step. Some reactions happen more often than others.\n",
    "\n",
    "2. we are often interested in the time evolution on the time scale of the slowest reactions in the system.\n",
    "\n",
    "3. The computational intensity of the Gillespie SSA increases with the number of chemical reactions and the number of chemical species in the model.\n",
    "\n",
    "## A Simple Multiscale Problem\n",
    "\n",
    "We consider chemical species $A, B$ and $C$ in a container of volume $v$ which are subject to the following chemical reactions:\n",
    "\n",
    "$$\n",
    "\\emptyset \\stackrel{k_{1}}{\\longrightarrow} A \\overset{k_{2}}{\\underset{k_3}{\\longleftrightarrow}} B \\stackrel{k_{4}}{\\longrightarrow} C\\text{--(1)}\n",
    "$$\n",
    "\n",
    "We choose the rate constants:\n",
    "\n",
    "$$\n",
    "k_{1} v=1 \\sec ^{-1}, \\quad k_{2}=50 \\sec ^{-1}, \\quad k_{3}=200 \\sec ^{-1}, \\quad k_{4}=0.1 \\sec ^{-1}\n",
    "$$\n",
    "\n",
    "and the initial conditions $A(0)=0, B(0)=0$ and $C(0)=0$"
   ]
  },
  {
   "cell_type": "markdown",
   "metadata": {},
   "source": [
    "Let $p(a, b, c, t)$ be the probability that $A(t)=a, B(t)=b$ and $C(t)=c,$ i.e. the probability that there are $a$ molecules of the chemical species $A, b$ molecules of the chemical species $B$ and $c$ molecules of the chemical species $C$ at time $t$ in the system. The chemical master equation for the model (1) reads as follows:\n",
    "\n",
    "$$\n",
    "\\begin{aligned} \\frac{\\partial}{\\partial t} p(a, b, c, t)=& k_{1} v p(a-1, b, c, t)-k_{1} v p(a, b, c, t) \\\\ &+k_{2}(a+1) p(a+1, b-1, c, t)-k_{2} a p(a, b, c, t) \\\\ &+k_{3}(b+1) p(a-1, b+1, c, t)-k_{3} b p(a, b, c, t) \\\\ &+k_{4}(b+1) p(a, b+1, c-1, t)-k_{4} b p(a, b, c, t) \\end{aligned}\n",
    "$$\n",
    "\n",
    "Let $p_{c}(n, t)$ be the probability that $C(t)=n$, then\n",
    "\n",
    "$$\n",
    "p_{c}(n, t)=\\sum_{a=0}^{\\infty} \\sum_{b=0}^{\\infty} p(a, b, n, t)\n",
    "$$\n",
    "\n",
    "Given the reaction constants, it is clear that the reaction $A\\overset{k_2}{\\underset{k_3}\\leftrightarrow}B$ is the **fast reaction**. And the change of the fast chemical species $A$ and $B$ happen more frequently than the changes of the slow chemical species $C$."
   ]
  },
  {
   "cell_type": "markdown",
   "metadata": {},
   "source": [
    "**If we want to calculate $p_c(n,t)$, we can definitely use SSA and run many realizations to calculate the mean number of molecule C at each time point. However, we can only get relatively exact result by running more than $10^6$ cases.**"
   ]
  },
  {
   "cell_type": "markdown",
   "metadata": {},
   "source": [
    "## Multiscale SSA with Partial Equilibrium Assumption\n",
    "\n",
    "In this notebook, we present an approximate SSA for chemical systems with fast and slow reactions which can be applied to **any system that has reactions happening on diparate time scales**. In the system (1), the fast chemical species are A and B and the slow chemical species is C.\n",
    "\n",
    "The main assumption of the approximate SSA is that **the fast reactions are effectively at equilibrium**, which means that the distributions of fast species are steady on a time scale that is larger than the typical time scale of the fast reactions and shorter than the time scale of the slow reactions.\n",
    "\n",
    "It is often the case that **we are interested only in the time evolution of the slow chemical species**, and this is what the approximate SSA simulates. Thus we focus on the computation of the time evolution of C in the multiscale model. \n",
    "\n",
    "In general, the slow reactions can be divided into two categories:\n",
    "\n",
    "1) slow relactions whose propensities do not depend on the fast chemical species;\n",
    "\n",
    "2) slow reactions whose propensities do depend on the fast chemical species.\n",
    "\n",
    "Let $\\delta t$ be a time interval so that $T_{\\mathrm{fast}} \\ll \\delta t \\ll T_{\\mathrm{slow}}$. We define **the effective propensity function** $\\bar{\\alpha}(t)$ of a slow chemical reaction so that $\\bar{\\alpha}(t) \\delta t$ gives approximately the probability that the slow reaction occurs in the time interval $[t,t+\\delta t)$."
   ]
  },
  {
   "cell_type": "markdown",
   "metadata": {},
   "source": [
    "## Derive Effective Propensity $\\bar{a}(t)$\n",
    "\n",
    "Let us assume that there are $A(t), B(t)$ and $C(t)$ molecules of the chemical species $A, B$ and $C$ at time $t,$ respectively. We want to find the effective propen-\n",
    "sity functions $\\bar{\\alpha}_{1}(t)$ and $\\bar{\\alpha}_{4}(t)$ of the slow reactions in the system (1).\n",
    "\n",
    "The reaction of $\\emptyset \\stackrel{k_{1}}{\\longrightarrow} A $ is of type 1), its effective propensity function is just:\n",
    "\n",
    "$$\n",
    "\\bar{\\alpha}_{1}(t)=\\alpha_{1}(t)=k_{1} v\\text{---(2)}\n",
    "$$\n",
    "\n",
    "To compute the effective propensity functions of slow reactions of type 2), we first **study only the fast system under the condition that the numbers of molecules of the slow chemical species do not change**. Thus, in the case of $A \\overset{k_{2}}{\\underset{k_3}{\\longleftrightarrow}} B$, we have the following conservation relation:\n",
    "\n",
    "$$\n",
    "A(\\tilde{t})+B(\\tilde{t})=A(t)+B(t), \\quad \\text { for } \\tilde{t} \\geq t\n",
    "$$\n",
    "\n",
    "Now, we define the auxiliary variable:\n",
    "\n",
    "$$\n",
    "Q(t)=A(t)+B(t)\n",
    "$$\n",
    "and\n",
    "$$\n",
    "A(\\tilde{t})=Q(t)-B(\\tilde{t}), \\quad \\text { for } \\tilde{t} \\geq t\n",
    "$$\n",
    "Now let $p(\\tilde{b}, \\tilde{t})$ be the probability that $B(\\tilde{t})=\\tilde{b}$ given that $A(t)=a, B(t)=b$\n",
    "and $\\tilde{t} \\geq t .$ The distribution $p(\\tilde{b}, \\tilde{t})$ satisfies the chemical master equation:\n",
    "\n",
    "$$\n",
    "\\begin{aligned} \\frac{\\partial}{\\partial \\tilde{t}} p(\\tilde{b}, \\tilde{t})=& k_{2}(Q(t)-\\tilde{b}+1) p(\\tilde{b}-1, \\tilde{t})-k_{2}(Q(t)-\\tilde{b}) p(\\tilde{b}, \\tilde{t}) \\\\ &+k_{3}(\\tilde{b}+1) p(\\tilde{b}+1, \\tilde{t})-k_{3} \\tilde{b} p(\\tilde{b}, \\tilde{t}) \\end{aligned}\\text{---(3)}\n",
    "$$\n",
    "\n",
    "since $T_{\\text {fast }} \\ll \\delta t,$ we can assume that the fast reactions reach the steady distribution on a time scale shorter than $\\delta t$. The steady distribution satisfies:\n",
    "\n",
    "$$\n",
    "\\begin{aligned} 0=& k_{2}(Q(t)-\\tilde{b}+1) p_{s}(\\tilde{b}-1)-k_{2}(Q(t)-\\tilde{b}) p_{s}(\\tilde{b}) \\\\ &+k_{3}(\\tilde{b}+1) p_{s}(\\tilde{b}+1)-k_{3} \\tilde{b} p_{s}(\\tilde{b}) \\end{aligned}\n",
    "$$\n",
    "\n",
    "Multiplying this equation by $\\tilde{b}$ and summing the resulting equation over $\\tilde{b},$ we obtain \n",
    "\n",
    "$$\n",
    "\\sum_{\\tilde{b}=0}^{Q(t)} \\tilde{b} p_{s}(\\tilde{b})=\\frac{k_{2} Q(t)}{k_{2}+k_{3}}\\text{---(4)}\n",
    "$$\n",
    "\n",
    "Now for $\\tilde{t} \\in(t, t+\\delta t),$ we know that if $B(\\tilde{t})=\\tilde{b}$ then the probability that the\n",
    "slow reaction $B\\overset{k_4}{\\rightarrow}C$ occurs in the infinitesimally small time interval $[\\tilde{t}, \\tilde{t}+\\mathrm{d} t)$ is equal to\n",
    "\n",
    "$$\n",
    "\\alpha_{4}(\\tilde{b}) \\mathrm{d} t=k_{4} B(\\tilde{t}) \\mathrm{d} t=k_{4} \\tilde{b} \\mathrm{d} t\\text{---(5)}\n",
    "$$\n",
    "\n",
    "**With the partial equilibrium assumption, the variable $B(\\tilde{t})$ is distributed according to the stationary distribution $p_s(\\tilde{b})$.** Thus the probability that the slow reaction occurs in the infinitesimally small time interval $[\\tilde{t},\\tilde{t}+dt)$ is equal to:\n",
    "\n",
    "$$\n",
    "\\sum_{\\tilde{b}=0}^{Q(t)} p_{s}(\\tilde{b}) k_{4} \\tilde{b} \\mathrm{d} t=k_{4}\\left(\\sum_{\\tilde{b}=0}^{Q(t)} \\tilde{b} p_{s}(\\tilde{b})\\right) \\mathrm{d} t=\\frac{k_{2} k_{4} Q(t)}{k_{2}+k_{3}} \\mathrm{d} t\n",
    "$$\n",
    "\n",
    "Therefore, the effective propensity function of the slow reaction is:\n",
    "\n",
    "$$\n",
    "\\bar{\\alpha}_{4}(t)=\\frac{k_{2} k_{4} Q(t)}{k_{2}+k_{3}}\\text{---(6)}\n",
    "$$"
   ]
  },
  {
   "cell_type": "markdown",
   "metadata": {},
   "source": [
    "## Simple Multi-scale SSA\n",
    "\n",
    "With the expression of $\\bar{a}_1$ and $\\bar{a}_1$ of the slow reactions, we do not have to simulate the fast reactions. **All we need to keep track of is the slow variable $C(t)$ and the auxiliary quantity $Q(t)$.** The approximate SSA can be formulated for the system (1) as follows. Starting with the initial condition $A(0)=a_{0}, B(0)=b_{0}$ and $C(0)=c_{0}$ at time $t=0$. We initialize $Q=a_0+b_0$ and we perform the following five steps at time $t$:\n",
    "\n",
    "1. Generate two random numbers $r_{1}, r_{2}$ uniformly distributed in $(0,1)$\n",
    "\n",
    "2. Compute the effective propensity functions $\\bar{\\alpha}_{1}(t)$ and $\\bar{\\alpha}_{4}(t)$ by (2) and (6) Compute $\\bar{\\alpha}_{0}=\\bar{\\alpha}_{1}+\\bar{\\alpha}_{4}$\n",
    "\n",
    "3. Compute the time when the next slow chemical reaction takes place as $t+\\tau,$ where\n",
    "$$\n",
    "\\tau=\\frac{1}{\\bar{\\alpha}_{0}} \\ln \\left[\\frac{1}{r_{1}}\\right]\n",
    "$$\n",
    "4. Compute the number of molecules of the slow chemical species $C$ at time $t+\\tau$ by\n",
    "$$\n",
    "C(t+\\tau)=\\left\\{\\begin{array}{cc}{C(t)} & {\\text { if } r_{2}<\\bar{\\alpha}_{1} / \\bar{\\alpha}_{0}} \\\\ {C(t)+1} & {\\text { if } r_{2} \\geq \\bar{\\alpha}_{1} / \\bar{\\alpha}_{0}}\\end{array}\\right.\n",
    "$$\n",
    "5. Update the auxiliary variable $Q$ by\n",
    "$$\n",
    "Q(t+\\tau)=\\left\\{\\begin{array}{ll}{Q(t)+1} & {\\text { if } r_{2}<\\bar{\\alpha}_{1} / \\bar{\\alpha}_{0}} \\\\ {Q(t)-1} & {\\text { if } r_{2} \\geq \\bar{\\alpha}_{1} / \\bar{\\alpha}_{0}}\\end{array}\\right.\n",
    "$$\n",
    "6. Go back to step 1."
   ]
  },
  {
   "cell_type": "code",
   "execution_count": 1,
   "metadata": {},
   "outputs": [],
   "source": [
    "import numpy as np\n",
    "from numpy.random import uniform\n",
    "\n",
    "def multiSSA(k1,k2,k3,k4,v,ttot,x0):\n",
    "    a0,b0,c0 = x0\n",
    "    Q = a0+b0\n",
    "    al1 = k1*v\n",
    "    al4 = k2*k4*Q/(k2+k3)\n",
    "    tlst = [0]\n",
    "    clst = [c0]\n",
    "    while tlst[-1]<ttot:\n",
    "        al0=al1+al4 \n",
    "        r1,r2 = uniform(size=2)\n",
    "        tau = 1/al0*np.log(1/r1)\n",
    "        tlst.append(tlst[-1]+tau)\n",
    "        p=al1/al0\n",
    "        if r2<p:\n",
    "            Q+=1\n",
    "            clst.append(clst[-1])\n",
    "        elif Q>0:\n",
    "            Q-=1\n",
    "            clst.append(clst[-1]+1)\n",
    "        al4 = k2*k4*Q/(k2+k3)\n",
    "    return tlst, clst"
   ]
  },
  {
   "cell_type": "code",
   "execution_count": 9,
   "metadata": {},
   "outputs": [],
   "source": [
    "K1=1\n",
    "K2=50\n",
    "K3=200\n",
    "K4=0.1\n",
    "T = 50 # sec\n",
    "V=1\n",
    "rep =100000\n",
    "c50 = []\n",
    "for i in range(rep):\n",
    "    ts, cs = multiSSA(K1,K2,K3,K4,V,T,[0,0,0])\n",
    "    c50.append(cs[-1])"
   ]
  },
  {
   "cell_type": "code",
   "execution_count": 11,
   "metadata": {},
   "outputs": [
    {
     "data": {
      "text/plain": [
       "Text(0, 0.5, 'Pr{C(50)=n}')"
      ]
     },
     "execution_count": 11,
     "metadata": {},
     "output_type": "execute_result"
    },
    {
     "data": {
      "image/png": "[encoded data removed]",
      "text/plain": [
       "<Figure size 432x288 with 1 Axes>"
      ]
     },
     "metadata": {
      "needs_background": "light"
     },
     "output_type": "display_data"
    }
   ],
   "source": [
    "%matplotlib inline\n",
    "import matplotlib.pyplot as plt\n",
    "plt.hist(c50,width=0.9,density=True)\n",
    "plt.xlabel('n')\n",
    "plt.ylabel('Pr{C(50)=n}')"
   ]
  },
  {
   "cell_type": "markdown",
   "metadata": {},
   "source": [
    "## Distributions of the Fast Variables?\n",
    "\n",
    "**How do we compute the distributions of the fast variables?** To answer this question, we modify the algorithm above slightly.\n",
    "\n",
    "Like the $C$, we let $p_{a}(n, t)$ be the probability that $A(t)=n$ and $p_{b}(n, t)$ be the probability\n",
    "that $B(t)=n,$ i.e. the probability that there are $n$ molecules of $A$ or $n$ molecules of $B$ in the system at time $t .$ These are related to the probability $p(a, b, c, t)$ by\n",
    "$$\n",
    "p_{a}(n, t)=\\sum_{b=0}^{\\infty} \\sum_{c=0}^{\\infty} p(n, b, c, t), \\quad \\quad p_{b}(n, t)=\\sum_{a=0}^{\\infty} \\sum_{c=0}^{\\infty} p(a, n, c, t)\n",
    "$$\n",
    "\n",
    "We now let $T_{\\text {fast }} \\ll \\delta t$. Then, we run many realizations of the multiscale SSA until the time $t=t_{target}-\\delta t$. In the example shown in the code, $t_{target}=50sec$. Then we run the Gillespie for the remaining time interval."
   ]
  },
  {
   "cell_type": "code",
   "execution_count": 32,
   "metadata": {},
   "outputs": [],
   "source": [
    "def multiSSA2(k1,k2,k3,k4,v,ttot,x0,delta):\n",
    "    a0,b0,c0 = x0\n",
    "    Q = a0+b0\n",
    "    al1 = k1*v\n",
    "    al4 = k2*k4*Q/(k2+k3)\n",
    "    t = 0\n",
    "    c50 = c0\n",
    "    while t<ttot-delta:\n",
    "        al0=al1+al4 \n",
    "        r1,r2 = uniform(size=2)\n",
    "        tau = 1/al0*np.log(1/r1)\n",
    "        t+=tau\n",
    "        p=al1/al0\n",
    "        if r2<p:\n",
    "            Q+=1\n",
    "        elif Q>0:\n",
    "            Q-=1\n",
    "            c50+=1\n",
    "        al4 = k2*k4*Q/(k2+k3)\n",
    "    b50 = int(Q/(1+k3/k2)) \n",
    "    a50 = Q-b50 # equilibrium assumption: A(t)*k2=B(t)*k3\n",
    "    while t<ttot:\n",
    "        al2 = a50*k2\n",
    "        al3 = b50*k3\n",
    "        al4 = b50*k4\n",
    "        al0 = al1+al2+al3+al4\n",
    "        plst = np.cumsum([al1,al2,al3,al4])/al0\n",
    "        r1,r2 = uniform(size=2)\n",
    "        tau = 1/al0*np.log(1/r1)\n",
    "        t+=tau\n",
    "        resp = np.sum(plst<r2)\n",
    "        if resp==0:\n",
    "            a50+=1\n",
    "        elif resp==1 and a50>0:\n",
    "            a50-=1\n",
    "            b50+=1\n",
    "        elif resp==2 and b50>0:\n",
    "            b50-=1\n",
    "            a50+=1\n",
    "        elif b50>0:\n",
    "            b50-=1\n",
    "            c50+=1\n",
    "    return a50,b50,c50"
   ]
  },
  {
   "cell_type": "code",
   "execution_count": 36,
   "metadata": {},
   "outputs": [],
   "source": [
    "dt = 0.01\n",
    "rep = 10000\n",
    "A=[]\n",
    "B=[]\n",
    "C=[]\n",
    "for i in range(rep):\n",
    "    a,b,c = multiSSA2(K1,K2,K3,K4,V,T,[0,0,0],dt)\n",
    "    A.append(a)\n",
    "    B.append(b)\n",
    "    C.append(c)"
   ]
  },
  {
   "cell_type": "code",
   "execution_count": 37,
   "metadata": {},
   "outputs": [
    {
     "data": {
      "text/plain": [
       "Text(0, 0.5, 'Pr{A(50)=n}')"
      ]
     },
     "execution_count": 37,
     "metadata": {},
     "output_type": "execute_result"
    },
    {
     "data": {
      "image/png": "[encoded data removed]",
      "text/plain": [
       "<Figure size 432x288 with 1 Axes>"
      ]
     },
     "metadata": {
      "needs_background": "light"
     },
     "output_type": "display_data"
    }
   ],
   "source": [
    "%matplotlib inline\n",
    "import matplotlib.pyplot as plt\n",
    "plt.hist(A,width=0.9,density=True)\n",
    "plt.xlabel('n')\n",
    "plt.ylabel('Pr{A(50)=n}')"
   ]
  },
  {
   "cell_type": "code",
   "execution_count": 38,
   "metadata": {},
   "outputs": [
    {
     "data": {
      "text/plain": [
       "Text(0, 0.5, 'Pr{B(50)=n}')"
      ]
     },
     "execution_count": 38,
     "metadata": {},
     "output_type": "execute_result"
    },
    {
     "data": {
      "image/png": "[encoded data removed]",
      "text/plain": [
       "<Figure size 432x288 with 1 Axes>"
      ]
     },
     "metadata": {
      "needs_background": "light"
     },
     "output_type": "display_data"
    }
   ],
   "source": [
    "%matplotlib inline\n",
    "import matplotlib.pyplot as plt\n",
    "plt.hist(B,width=0.9,density=True)\n",
    "plt.xlabel('n')\n",
    "plt.ylabel('Pr{B(50)=n}')"
   ]
  },
  {
   "cell_type": "markdown",
   "metadata": {},
   "source": [
    "## How to determine which reaction is fast?\n",
    "\n",
    "Using the Gillespie SSA, we can compute the relative occurrences of the chemical reactions in the model. **It is important to note that the relative occurrence can be obtained by running the Gillespie SSA for a short time only.** Similar approaches have been applied in the literature to classify reactions as slow and fast in much larger systems of chemical reactions, for example, in the eukaryotic cell cycle by [Liu et al. (2012)](https://aip.scitation.org/doi/abs/10.1063/1.3677190), where\n",
    "a mixed (hybrid) SSA is presented combining deterministic and stochastic modelling frameworks.\n",
    "\n",
    "## Multiscale Modelling Using Fokker-Planck Equation\n",
    "\n",
    "If we assume that the system is effectively described by the chemical Fokker-Planck equation written in terms of slow variables. **Even if this equation is not explicitly available, we can use short bursts of appropriately initialized stochastic simulation of the full model (Gillespie SSA) to estimate the drift and diffusion coefficients numerically.** Once we know the drift and diffusion coefficients, the results in notebook (3.4) can be applied directly, see [Erban et al. (2006)](https://aip.scitation.org/doi/abs/10.1063/1.2149854) and [Cotter et al.(2011)](https://epubs.siam.org/doi/abs/10.1137/120877374?casa_token=IIb-JGoaAEYAAAAA%3AzCAtWC3GDWKCNDOT-mj1RD5KoR44h7ldUkPEdD-NMZRHzKhkVL2dQt0P6cPFemGU8qpcmfFbc5c&) for details. **Such an approach is especially useful when estimating stationary distributions and switching times between favourable states of the multiscale system.**"
   ]
  },
  {
   "cell_type": "code",
   "execution_count": null,
   "metadata": {},
   "outputs": [],
   "source": []
  }
 ],
 "metadata": {
  "kernelspec": {
   "display_name": "Python 3",
   "language": "python",
   "name": "python3"
  },
  "language_info": {
   "codemirror_mode": {
    "name": "ipython",
    "version": 3
   },
   "file_extension": ".py",
   "mimetype": "text/x-python",
   "name": "python",
   "nbconvert_exporter": "python",
   "pygments_lexer": "ipython3",
   "version": "3.7.4"
  }
 },
 "nbformat": 4,
 "nbformat_minor": 2
}
