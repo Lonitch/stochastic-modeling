{
 "cells": [
  {
   "cell_type": "markdown",
   "metadata": {},
   "source": [
    "## Derivation of Chemical Fokker-Planck Equation for a Simple System\n",
    "\n",
    "The methods developed in this note can then be used to determine, for example, **the mean switching time between equilibrium states of a chemical system.**\n",
    "\n",
    "We first consider the following two chemical reactions:\n",
    "$$\n",
    "A \\stackrel{k_{1}}{\\longrightarrow} \\emptyset, \\quad \\emptyset \\stackrel{k_{2}}{\\longrightarrow} A\n",
    "$$\n",
    "\n",
    "The chemical master equation for this system are given in the notebook (1.2):\n",
    "\n",
    "$$\n",
    "\\frac{\\mathrm{d} p_{n}}{\\mathrm{d} t}(t)=h_{1}(n+1, t)-h_{1}(n, t)+h_{2}(n-1, t)-h_{2}(n, t)\\text{---(1)}\n",
    "$$\n",
    "\n",
    "where \n",
    "\n",
    "$$\n",
    "h_{1}(n, t)=k_{1} n p_{n}(t), \\quad h_{2}(n, t)=k_{2} v p_{n}(t)\n",
    "$$\n",
    "\n",
    "We now introduce a fixed large number $\\omega,$ so that **we are interested in the values of $p_{n}$ for $n$ around the same size as $\\omega$.** We now write $n=\\eta \\omega$ and $p_{n}(t)=p(\\eta, t),$ treating $\\eta$ as a continuous variable. The same change of variables gives the real-valued functions:\n",
    "$$\n",
    "h_{1}(\\eta, t)=k_{1} \\eta \\omega p(\\eta, t), \\quad h_{2}(\\eta, t)=k_{2} v p(\\eta, t)\\text{---(2)}\n",
    "$$\n",
    "\n",
    "and we have the following PDE, **Notice that $\\frac{\\mathrm{d} p_{n}}{\\mathrm{d} t}(t)$ becomes $\\frac{\\partial p}{\\partial t}(\\eta, t)$**:\n",
    "\n",
    "$$\n",
    "\\frac{\\partial p}{\\partial t}(\\eta, t)=h_{1}\\left(\\eta+\\frac{1}{\\omega}, t\\right)-h_{1}(\\eta, t)+h_{2}\\left(\\eta-\\frac{1}{\\omega}, t\\right)-h_{2}(\\eta, t)\n",
    "$$\n",
    "\n",
    "**since $\\omega$ is large we can approximate the right-hand side by a Taylor series about the point $(\\eta, t):$**\n",
    "$$\n",
    "\\begin{array}{l}{h_{1}\\left(\\eta+\\frac{1}{\\omega}, t\\right)=h_{1}(\\eta, t)+\\frac{1}{\\omega} \\frac{\\partial h_{1}}{\\partial \\eta}(\\eta, t)+\\frac{1}{2 \\omega^{2}} \\frac{\\partial^{2} h_{1}}{\\partial \\eta^{2}}(\\eta, t)+O\\left(\\frac{h_{1}}{\\omega^{3}}\\right)} \\\\ {h_{2}\\left(\\eta-\\frac{1}{\\omega}, t\\right)=h_{2}(\\eta, t)-\\frac{1}{\\omega} \\frac{\\partial h_{2}}{\\partial \\eta}(\\eta, t)+\\frac{1}{2 \\omega^{2}} \\frac{\\partial^{2} h_{2}}{\\partial \\eta^{2}}(\\eta, t)+O\\left(\\frac{h_{2}}{\\omega^{3}}\\right)}\\end{array}\n",
    "$$\n",
    "and the PDE becomes\n",
    "\n",
    "$$\n",
    "\\frac{\\partial p}{\\partial t}(\\eta, t)=\\frac{1}{\\omega} \\frac{\\partial h_{1}}{\\partial \\eta}(\\eta, t)+\\frac{1}{2 \\omega^{2}} \\frac{\\partial^{2} h_{1}}{\\partial \\eta^{2}}(\\eta, t)-\\frac{1}{\\omega} \\frac{\\partial h_{2}}{\\partial \\eta}(\\eta, t)+\\frac{1}{2 \\omega^{2}} \\frac{\\partial^{2} h_{2}}{\\partial \\eta^{2}}(\\eta, t)\n",
    "$$\n",
    "\n",
    "Let us write the equation above in terms of $x=\\eta \\omega$:\n",
    "\n",
    "$$\n",
    "\\frac{\\partial p}{\\partial t}(x, t)=\\frac{\\partial h_{1}}{\\partial x}(x, t)+\\frac{1}{2} \\frac{\\partial^{2} h_{1}}{\\partial x^{2}}(x, t)-\\frac{\\partial h_{2}}{\\partial x}(x, t)+\\frac{1}{2} \\frac{\\partial^{2} h_{2}}{\\partial x^{2}}(x, t) \\text{---(3)}\n",
    "$$\n",
    "\n",
    "**Remember, this equation is only valid for large values of $x$**. Using equation (2), (3) can be written as the Fokker-Planck equation:\n",
    "\n",
    "$$\n",
    "\\frac{\\partial p}{\\partial t}(x, t)=\\frac{\\partial^{2}}{\\partial x^{2}}(d(x) p(x, t))-\\frac{\\partial}{\\partial x}(f(x) p(x, t))\\text{---(4)}\n",
    "$$\n",
    "\n",
    "where\n",
    "\n",
    "$$\n",
    "\\begin{array}{l}{f(x)=-k_{1} x+k_{2} v} \\\\ {d(x)=\\left(k_{1} x+k_{2} v\\right) / 2}\\end{array}\\text{---(5)}\n",
    "$$\n",
    "\n",
    "We found previously that the stationary distribution is given by:\n",
    "\n",
    "$$\n",
    "p_{s}(x)=\\frac{C}{d(x)} \\exp \\left[\\int_{0}^{x} \\frac{f(y)}{d(y)} \\mathrm{d} y\\right]\\text{---(6)}\n",
    "$$\n",
    "\n",
    "$$\n",
    "C=\\left(\\int_{\\mathbb{R}} \\frac{1}{d(x)} \\exp \\left[\\int_{0}^{x} \\frac{f(y)}{d(y)} \\mathrm{d} y\\right] \\mathrm{d} x\\right)^{-1}\n",
    "$$\n",
    "\n",
    "Substituting (5) into (6), we obtain:\n",
    "\n",
    "$$\n",
    "\\begin{aligned} p_{s}(x) &=\\frac{2 C}{k_{1} x+k_{2} v} \\exp \\left[2 \\int_{0}^{x} \\frac{-k_{1} y+k_{2} v}{k_{1} y+k_{2} v} \\mathrm{d} y\\right] \\\\ &=\\frac{2 C}{k_{1} x+k_{2} v} \\exp \\left[-2 x+4 k_{2} v \\int_{0}^{x} \\frac{1}{k_{1} y+k_{2} v} \\mathrm{d} y\\right] \\\\ &=\\frac{2 C}{k_{1} x+k_{2} v} \\exp \\left[-2 x+\\frac{4 k_{2} v}{k_{1}} \\log \\left(k_{1} x+k_{2} v\\right)\\right] \\\\ &=2 C \\exp \\left[-2 x+\\left(\\frac{4 k_{2} v}{k_{1}}-1\\right) \\log \\left(k_{1} x+k_{2} v\\right)\\right] \\end{aligned}\\text{---(7)}\n",
    "$$\n",
    "\n",
    "Since $x$ approximates the number of molecules, equation (7) is only meaningful for positive values of $x,$ i.e. the normalization constant $2 C$ can be obtained by integrating $p_{s}(x)$ over interval $(0, \\infty)$ to get:\n",
    "\n",
    "$$\n",
    "2 C=\\left(\\int_{0}^{\\infty} \\exp \\left[-2 x+\\left(\\frac{4 k_{2} v}{k_{1}}-1\\right) \\log \\left(k_{1} x+k_{2} v\\right)\\right] \\mathrm{d} x\\right)^{-1}\n",
    "$$"
   ]
  },
  {
   "cell_type": "markdown",
   "metadata": {},
   "source": [
    "## Estimate Mean Transition Times\n",
    "\n",
    "Define $\\tau(n), n=1,2, \\ldots, 18,$ to be the average time to leave the interval $[0,18]$ when the initial condition is $A(0)=n$. **If we set unstable state $x_u=19$, i.e. we are looking for the average time to leave the interval $(-\\infty, 19)$ where we postulate $\\left.p_{s}(x) \\equiv 0 \\text { on }(-\\infty, 0)\\right),$ we get, from notebook(3.3)**:\n",
    "\n",
    "$$\n",
    "\\tau(y)=\\int_{y}^{19} \\frac{1}{d(z) p_{s}(z)} \\int_{0}^{z} p_{s}(x) \\mathrm{d} x \\mathrm{d} z\n",
    "$$\n",
    "\n",
    "where $p_{s}(z)$ is given by (7) and $d(z)$ is given by (5)"
   ]
  },
  {
   "cell_type": "code",
   "execution_count": 3,
   "metadata": {},
   "outputs": [
    {
     "data": {
      "text/plain": [
       "Text(0, 0.5, '$\\tau$(y)')"
      ]
     },
     "execution_count": 3,
     "metadata": {},
     "output_type": "execute_result"
    },
    {
     "data": {
      "image/png": "[encoded data removed]",
      "text/plain": [
       "<Figure size 432x288 with 1 Axes>"
      ]
     },
     "metadata": {
      "needs_background": "light"
     },
     "output_type": "display_data"
    }
   ],
   "source": [
    "## Now we use the following code to calculate tau(y)\n",
    "import numpy as np\n",
    "from scipy.integrate import quad\n",
    "\n",
    "K1=0.1\n",
    "K2=1\n",
    "V=1\n",
    "Xu = 19\n",
    "\n",
    "def tau(k1,k2,v, xu):\n",
    "    # calculate the constant 2C\n",
    "    def intC(x,k1,k2,v):\n",
    "        return np.exp(-2*x+(4*k2*v/k1-1)*np.log(k1*x+k2*v))\n",
    "    C = 1/quad(intC, 0, np.inf, args=(k1,k2, v))[0]\n",
    "    \n",
    "    def ps(z,k1,k2,v):\n",
    "        return C*np.exp(-2*z+(4*k2*v/k1-1)*np.log(k1*z+k2*v))\n",
    "    \n",
    "    def intTau(z,k1,k2,v):\n",
    "        inner = quad(ps, 0, z, args=(k1,k2, v))[0]\n",
    "        return inner/((k1*z+k2*v)/2*ps(z,k1,k2,v))\n",
    "    \n",
    "    ylst = np.linspace(0,xu,100)\n",
    "    taulst = [0]\n",
    "    for i in range(1,len(ylst)):\n",
    "        taulst.append(quad(intTau,ylst[i],xu,args=(k1,k2,v))[0])\n",
    "        \n",
    "    return ylst, taulst\n",
    "\n",
    "x,y = tau(K1,K2,V,Xu)\n",
    "%matplotlib inline\n",
    "import matplotlib.pyplot as plt\n",
    "plt.plot(x[1:],y[1:],'*-')\n",
    "plt.xlabel('y')\n",
    "plt.ylabel('$\\tau$(y)')"
   ]
  },
  {
   "cell_type": "markdown",
   "metadata": {},
   "source": [
    "## Chemical Langevin equation\n",
    "\n",
    "The SDE(Chemical Langevin equation) for the chemical system at the beginning is:\n",
    "\n",
    "$$\n",
    "X(t+\\mathrm{d} t)=X(t)+\\left(-k_{1} x+k_{2} v\\right) \\mathrm{d} t-\\sqrt{k_{1} x} \\mathrm{d} W_{1}+\\sqrt{k_{2} v} \\mathrm{d} W_{2}\\text{---(8)}\n",
    "$$\n",
    "\n",
    "The equation (8) is based on (5). And we split the **noise term $d(x)dW$ into two parts to speed up the Gillespie algorithm.**\n",
    "\n",
    "We suppose that there are enough molecules\n",
    "of each species that during the small but finite time step $\\Delta t$ the propensity functions do not change appreciably, even though there are many reactions\n",
    "that take place. **Since the reaction rates are then constant for this time interval, the number of times that each reaction occurs is given by a Poisson distribution.\n",
    "If we now assume that each reaction occurs many times then this Poisson distribution is well approximated by a normal distribution**. This leads to the equation:\n",
    "\n",
    "$$\n",
    "X(t+\\Delta t)=X(t)+\\left(-k_{1} x+k_{2} v\\right) \\Delta t-\\sqrt{k_{1} x} \\sqrt{\\Delta t} \\xi_{1}+\\sqrt{k_{2} v} \\sqrt{\\Delta t} \\xi_{2}\n",
    "$$\n",
    "\n",
    "where $\\xi_{1}$ and $\\xi_{2}$ are two random numbers which are sampled from the normal distribution with zero mean and unit variance. "
   ]
  },
  {
   "cell_type": "markdown",
   "metadata": {},
   "source": [
    "## General Chemical Fokker-Planck Equation\n",
    "\n",
    "Let us now consider a general well-stirred mixture of $N \\geq 1$ molecular species that chemically interact through $q \\geq 1$ chemical reactions $R_{j}, j=1,2, \\ldots, q$. The state of this system is described by $\\mathbf{X}=\\left[X_{1}, X_{2}, \\ldots, X_{N}\\right],$ where $X_{i} \\equiv X_{i}(t)$ is the number of molecules of the $i$ th chemical species, $i=1,2, \\ldots, N .$ Let $\\alpha_{j}(\\mathbf{x})$ be the propensity function of the chemical reaction $R_{j}, j=1,2, \\ldots, q,$ i.e. $\\alpha_{j}(\\mathbf{x}) \\mathrm{d} t$ is the probability that, given\n",
    "$\\mathbf{X}(t)=\\mathbf{x},$ one $R_{j}$ reaction will occur in the next infinitesimal time interval $[t, t+\\mathrm{d} t) .$ Let $v_{j i}$ be the change in the number of $X_{i}$ by one occurrence of the reaction $R_{j}, i=1,2, \\ldots, N, j=1,2, \\ldots, q$. Then the chemical system can be described by the chemical master equation:\n",
    "\n",
    "$$\n",
    "\\frac{\\partial}{\\partial t} p(\\mathbf{x}, t)=\\sum_{j=1}^{q}\\left[\\alpha_{j}\\left(\\mathbf{x}-v_{j}\\right) p\\left(\\mathbf{x}-v_{j}, t\\right)-\\alpha_{j}(\\mathbf{x}) p(\\mathbf{x}, t)\\right]\n",
    "$$\n",
    "\n",
    "where $p(\\mathbf{x}, t)$ is the probability that $\\mathbf{X}(t)=\\mathbf{x} .$ Then the chemical Langevin equation can be written in the following form:\n",
    "\n",
    "$$\n",
    "\\mathrm{d} X_{i}=\\left(\\sum_{j=1}^{q} v_{j i} \\alpha_{j}(\\mathbf{X}(t))\\right) \\mathrm{d} t+\\sum_{j=1}^{q} v_{j i} \\sqrt{\\alpha_{j}(\\mathbf{X}(t))} \\mathrm{d} W_{j}\n",
    "$$\n",
    "\n",
    "which corresponds to the chemical Fokker–Planck equation\n",
    "\n",
    "$$\n",
    "\\begin{aligned} \\frac{\\partial}{\\partial t} p(\\mathbf{x}, t)=& \\sum_{i=1}^{N} \\frac{\\partial}{\\partial x_{i}}\\left[-\\left(\\sum_{j=1}^{q} v_{j i} \\alpha_{j}(\\mathbf{x})\\right) p(\\mathbf{x}, t)\\right] \\\\ &+\\frac{1}{2} \\sum_{i=1}^{N} \\frac{\\partial^{2}}{\\partial x_{i}^{2}}\\left[\\left(\\sum_{j=1}^{q} v_{j i}^{2} \\alpha_{j}(\\mathbf{x})\\right) p(\\mathbf{x}, t)\\right] \\\\ &+\\sum_{i=1}^{N} \\sum_{k=1}^{i-1} \\frac{\\partial^{2}}{\\partial x_{i} \\partial x_{k}}\\left[\\left(\\sum_{j=1}^{q} v_{j i} v_{j k} \\alpha_{j}(\\mathbf{x})\\right) p(\\mathbf{x}, t)\\right] \\end{aligned}\n",
    "$$"
   ]
  }
 ],
 "metadata": {
  "kernelspec": {
   "display_name": "Python 3",
   "language": "python",
   "name": "python3"
  },
  "language_info": {
   "codemirror_mode": {
    "name": "ipython",
    "version": 3
   },
   "file_extension": ".py",
   "mimetype": "text/x-python",
   "name": "python",
   "nbconvert_exporter": "python",
   "pygments_lexer": "ipython3",
   "version": "3.7.4"
  }
 },
 "nbformat": 4,
 "nbformat_minor": 2
}
