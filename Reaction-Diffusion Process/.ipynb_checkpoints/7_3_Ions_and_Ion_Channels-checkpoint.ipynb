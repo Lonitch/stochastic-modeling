{
 "cells": [
  {
   "cell_type": "markdown",
   "metadata": {},
   "source": [
    "## Overview\n",
    "---\n",
    "SDEs in notebook(7.1) can be used to model the trajectory of a charged particle (ion) in an external electrical field described by $\\mathcal{f}$. These equations can be\n",
    "further modified to model a collection of ions, developing the so-called **Brownian dynamics simulation approach**. Using the heuristic notations we can write Newton's second law of motion for an ion of mass $m$ in the form:\n",
    "\n",
    "$$\n",
    "m \\frac{\\mathrm{d} \\mathbf{V}}{\\mathrm{d} t}(t)=-\\gamma \\mathbf{V}(t)+\\mathbf{F}_{e}+\\gamma \\sqrt{2 D} \\stackrel{\\mathrm{u}}{\\mathrm{d} t}\\text{---(1)}\n",
    "$$\n",
    "\n",
    "where $\\left.\\mathbf{V}(t)=\\left[V_{x}(t), V_{y} t\\right), V_{z}(t)\\right]$ is the velocity of the ion. Now there are three forces on the right-hand side: \n",
    "\n",
    "1) the frictional force $-\\gamma \\mathbf{V}(t),$ where $\\gamma$ is the frictional drag coefficient; \n",
    "\n",
    "2) the electrical force $\\mathbf{F}_{e}$ that is exerted by neighbouring ions and/or by the external electrical field\n",
    "\n",
    "3) the random force describing the collisions with the surrounding molecules in the solution.\n",
    "\n",
    "If we multiply the equation (1) by $dt$, we can interpret it as an SDE. Dividing (1) by $\\gamma$, we obtain:\n",
    "\n",
    "$$\n",
    "\\frac{1}{\\beta} \\frac{\\mathrm{d} \\mathbf{V}}{\\mathrm{d} t}(t)=-\\mathbf{V}(t)+\\frac{\\mathbf{F}_{e}}{\\gamma}+\\sqrt{2 D} \\frac{\\mathrm{d}W}{\\mathrm{d}t} \\text{---(2)}\n",
    "$$\n",
    "\n",
    "where $\\beta=\\gamma / m$. The frictional drag coefficient $\\gamma$ is related to the diffusion coefficient D by the Einstein–Smoluchowski relation:\n",
    "\n",
    "$$\n",
    "D=\\frac{k_{B} T}{\\gamma}\\text{---(3)}\n",
    "$$\n",
    "\n",
    "The typical value of $D$ for ions in aqueous solution at room temperature is $D \\approx10^{-3}\\mathrm{mm}^{2} \\mathrm{sec}^{-1}$. Consequently, (3) implies that $\\beta=\\gamma / m=k_{B} T /(D m) \\approx10^{14} \\mathrm{sec}^{-1} .$ In stochastic simulations, **we will use the time step $\\Delta t=10^{-12} \\mathrm{sec}$**. Consequently, we can assume that (2) is at equilibrium, that is,\n",
    "$$\n",
    "\\mathbf{V}(t)=\\frac{\\mathbf{F}_{e}}{\\gamma}+\\sqrt{2 D} \\frac{\\mathrm{d} \\mathbf{W}}{\\mathrm{d} t}\n",
    "$$\n",
    "and we have a new SDE as:\n",
    "\n",
    "$$\n",
    "\\mathbf{X}(t+d t)=\\mathbf{X}(t)+\\gamma^{-1} \\mathbf{F}_{e} \\mathrm{d} t+\\sqrt{2 D} \\mathrm{d} \\mathbf{W}\n",
    "$$"
   ]
  },
  {
   "cell_type": "code",
   "execution_count": null,
   "metadata": {},
   "outputs": [],
   "source": []
  }
 ],
 "metadata": {
  "kernelspec": {
   "display_name": "Python 3",
   "language": "python",
   "name": "python3"
  },
  "language_info": {
   "codemirror_mode": {
    "name": "ipython",
    "version": 3
   },
   "file_extension": ".py",
   "mimetype": "text/x-python",
   "name": "python",
   "nbconvert_exporter": "python",
   "pygments_lexer": "ipython3",
   "version": "3.7.4"
  }
 },
 "nbformat": 4,
 "nbformat_minor": 2
}
