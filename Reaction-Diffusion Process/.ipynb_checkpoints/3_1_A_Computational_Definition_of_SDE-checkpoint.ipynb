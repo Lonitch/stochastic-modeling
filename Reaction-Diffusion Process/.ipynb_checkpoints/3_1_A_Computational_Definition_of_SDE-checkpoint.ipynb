{
 "cells": [
  {
   "cell_type": "markdown",
   "metadata": {},
   "source": [
    "## Overview\n",
    "\n",
    "Consider first a variable $x \\equiv x(t) \\in \\mathbb{R}$ which evolves according to the ODE\n",
    "$$\n",
    "\\frac{\\mathrm{d} x}{\\mathrm{d} t}=f(x, t) \\text{---(1)}\n",
    "$$\n",
    "we rewrite the ODE (1) formally as:\n",
    "$$\n",
    "\\mathrm{d} x=f(x, t) \\mathrm{d} t\n",
    "$$\n",
    "**Roughly speaking, an SDE is an ODE such as (1) with an additional noise term describing stochastic fluctuations.** we may write the computational definition of the corresponding SDE with Gaussian noise as\n",
    "$$\n",
    "X(t+\\Delta t)=X(t)+f(X(t), t) \\Delta t+g(X(t), t) \\sqrt{\\Delta t} \\xi \\text{ ---(2) }\n",
    "$$\n",
    "where $g: \\mathbb{R} \\times[0, \\infty) \\rightarrow \\mathbb{R}$ is a given strength of the noise and $\\xi$ is a random number, which is sampled from the normal distribution with zero mean and unit variance.\n",
    "\n",
    "Given the initial condition $X(0)=x_{0},$ we can use formula (2) to find the values of $X(t)$ at times $t>0$ iteratively, by performing two steps at time $t$ :\n",
    "### Simple SDE algorithm (SSA):\n",
    "1. Generate a normally distributed (with zero mean and unit variance) random number $\\xi$.\n",
    "\n",
    "2. Compute $X(t+\\Delta t)$ from $X(t)$ by (2)\n",
    "\n",
    "3. Then continue with step $(\\text { (1) for time } t+\\Delta t$.\n",
    "\n",
    "The algorithm above gives the approximate solution of the SDE which can be formally written in the following form:\n",
    "$$\n",
    "X(t+\\mathrm{d} t)=X(t)+f(X(t), t) \\mathrm{d} t+g(X(t), t) \\mathrm{d} W \\text{ ---(3) }\n",
    "$$\n",
    "where dW is so-clalled white noise (also known as the differential of the Wiener process). Consequently, whenever we write SDEs in the form (3), we understand them in terms of the computational definition, **i.e. we replace dW by the product of $\\sqrt{\\Delta t}$ and the random number $\\xi$**.\n",
    "\n",
    "## Examples of SDE\n",
    "We now consider that both time $t$ and the variable $X(t)$ are dimensionless, i.e. they have no physical units. Let us start by choosing $f(x, t) \\equiv 0$ and $g(x, t) \\equiv 1$,then:\n",
    "$$\n",
    "\\begin{aligned} X(t+\\mathrm{d} t) &=X(t)+\\mathrm{d} W \\\\ X(t+\\Delta t) &=X(t)+\\sqrt{\\Delta t} \\xi \\end{aligned} \\text{ ---(4) }\n",
    "$$\n",
    "Let:\n",
    "$$\n",
    "\\begin{aligned} M(t) &=\\mathrm{E}[X(t)] \\\\ V(t) &=\\mathrm{E}\\left[(X(t)-M(t))^{2}\\right]=\\mathrm{E}\\left[X(t)^{2}\\right]-M(t)^{2} \\end{aligned}\n",
    "$$\n",
    "Using eqn. (4), we have:\n",
    "$$\n",
    "\\begin{aligned} M(t+\\Delta t) &=\\mathrm{E}[X(t+\\Delta t)]=\\mathrm{E}[X(t)+\\sqrt{\\Delta t} \\xi] \\\\ &=\\mathrm{E}[X(t)]+\\sqrt{\\Delta t} \\mathrm{E}[\\xi]=\\mathrm{E}[X(t)]=M(t) \\text{---(5)} \\end{aligned}\n",
    "$$\n",
    "Therefore, we found a **martingale**. The initial condition $X(0)=0$ implies $M(0)=0$, thus, eqn. (5) indicates:\n",
    "$$\n",
    "M(t)=0\n",
    "$$\n",
    "Similarly:\n",
    "$$\n",
    "\\begin{aligned} V(t+\\Delta t) &=\\mathrm{E}\\left[X(t+\\Delta t)^{2}\\right]-M(t+\\Delta t)^{2}=\\mathrm{E}\\left[X(t+\\Delta t)^{2}\\right] \\\\ &=\\mathrm{E}\\left[(X(t)+\\sqrt{\\Delta t} \\xi)^{2}\\right]=\\mathrm{E}\\left[X(t)^{2}+2 X(t) \\sqrt{\\Delta t} \\xi+\\Delta t \\xi^{2}\\right] \\\\ &=\\mathrm{E}\\left[X(t)^{2}\\right]+2 \\mathrm{E}[X(t)] \\sqrt{\\Delta t} \\mathrm{E}[\\xi]+\\Delta t \\mathrm{E}\\left[\\xi^{2}\\right] \\\\ &=\\mathrm{E}\\left[X(t)^{2}\\right]+\\Delta t=\\mathrm{E}\\left[X(t)^{2}\\right]-M(t)^{2}+\\Delta t \\\\ &=V(t)+\\Delta t \\end{aligned}\n",
    "$$\n",
    "where we have used the fact that $\\mathrm{E}[\\xi]=0$ and $\\mathrm{E}\\left[\\xi^{2}\\right]=1$. Since all realizations start at $X(0)=0,$ we have $V(0)=0$, and\n",
    "$$\n",
    "V(t)=t\n",
    "$$\n",
    "Using the fact that $\\xi$ is sampled from the normal distribution, one can actually show that any moment $\\mathrm{E}\\left[X(t)^{k}\\right], k=1,2,3, \\ldots,$ is independent of the time step $\\delta t$. This is one of the reasons we chose the noise term in the form $\\sqrt{\\Delta t} \\xi$ in the computational definitions ( 3) and $(4) .$ **If the noise term did not scale with the time step as $\\sqrt{\\Delta t}$, then $V(t)$ would depend on the time step $\\Delta t$. If $\\xi$ was not sampled from the normal distribution, then the third\n",
    "moment, $E[X(t)^{3}]$, would be dependent on the time step $\\Delta t$.**\n",
    "\n",
    "Now, consider the eqn.(3) again. $f(x, t)$ gives the deterministic component of the dynamics. It is often called the drift coefficient. Let us now return to dimensionless $X(t)$ and $t,$ and add a non-zero drift to our SDE. We consider the case $f(x, t) \\equiv 1$ and $g(x, t) \\equiv 1$. Then eqn.(3) reads as:\n",
    "$$\n",
    "X(t+\\mathrm{d} t)=X(t)+\\mathrm{d} t+\\mathrm{d} W\n",
    "$$\n",
    "and we have the mean is:\n",
    "$$\n",
    "\\begin{aligned} M(t+\\Delta t) &=\\mathrm{E}[X(t+\\Delta t)]=\\mathrm{E}[X(t)+\\Delta t+\\sqrt{\\Delta t} \\xi] \\\\ &=\\mathrm{E}[X(t)]+\\Delta t+\\sqrt{\\Delta t} \\mathrm{E}[\\xi]=\\mathrm{E}[X(t)]+\\Delta t=M(t)+\\Delta t \\end{aligned}\n",
    "$$\n",
    "and the variance is still $V(t)=t$.\n",
    "\n",
    "The final SDE examole has **two favourable states, and is motivated by the ODE presented in the notebook(2.1).** We choose:\n",
    "$$\n",
    "\\begin{array}{l}{f(x, t) \\equiv f(x)=-k_{1} x^{3}+k_{2} x^{2}-k_{3} x+k_{4}} \\\\ {g(x, t) \\equiv g(x)=k_{5}}\\end{array}\n",
    "$$\n",
    "Now, we have:\n",
    "$$\n",
    "X(t+\\mathrm{d} t)=X(t)+\\left(-k_{1} X(t)^{3}+k_{2} X(t)^{2}-k_{3} X(t)+k_{4}\\right) \\mathrm{d} t+k_{5} \\mathrm{d} W\n",
    "$$\n",
    "In the following code, we implement the system described here with $k_5=0$ and $k_5=200$."
   ]
  },
  {
   "cell_type": "code",
   "execution_count": 6,
   "metadata": {},
   "outputs": [],
   "source": [
    "import numpy as np\n",
    "from scipy.stats import norm\n",
    "\n",
    "def solvSDE(k1,k2,k3,k4,k5,n,dt):\n",
    "    rv = norm()\n",
    "    xs = np.zeros(n)\n",
    "    sqrtdt = np.sqrt(dt)\n",
    "    \n",
    "    for i in range(1,n):\n",
    "        dW = k5*sqrtdt*rv.rvs()\n",
    "        xs[i] = xs[i-1]+(-k1*xs[i-1]**3+k2*xs[i-1]**2-\n",
    "                         k3*xs[i-1]+k4)*dt+dW\n",
    "    return xs\n",
    "\n",
    "def solvODE(k1,k2,k3,k4,T,X0=0,nstep=100000):\n",
    "    \n",
    "    def func(y,t,f1,f2,f3,f4):\n",
    "        return -f1*y**3+f2*y**2-f3*y+f4\n",
    "    \n",
    "    tt = np.linspace(0, T, nstep)\n",
    "    sol = odeint(func, X0, tt, args=(k1,k2,k3,k4))\n",
    "    return tt,sol"
   ]
  },
  {
   "cell_type": "code",
   "execution_count": 7,
   "metadata": {},
   "outputs": [],
   "source": [
    "from scipy.integrate import odeint\n",
    "%matplotlib inline\n",
    "import matplotlib.pyplot as plt\n",
    "\n",
    "K1=0.001\n",
    "K2=0.75\n",
    "K3=165\n",
    "K4=10000\n",
    "K5=0\n",
    "T=800\n",
    "odet,odec = solvODE(K1,K2,K3,K4,T)\n",
    "sdec = solvSDE(K1,K2,K3,K4,K5,len(odet),odet[1]-odet[0])"
   ]
  },
  {
   "cell_type": "code",
   "execution_count": 11,
   "metadata": {},
   "outputs": [
    {
     "data": {
      "text/plain": [
       "<matplotlib.legend.Legend at 0x22aac602cc8>"
      ]
     },
     "execution_count": 11,
     "metadata": {},
     "output_type": "execute_result"
    },
    {
     "data": {
      "image/png": "[encoded data removed]",
      "text/plain": [
       "<Figure size 432x288 with 1 Axes>"
      ]
     },
     "metadata": {
      "needs_background": "light"
     },
     "output_type": "display_data"
    }
   ],
   "source": [
    "plt.plot(odet,sdec,'b-',linewidth=5,label='SDE')\n",
    "plt.plot(odet,odec,'r-',linewidth=2,label='ODE')\n",
    "plt.xlabel('Time')\n",
    "plt.ylabel('X')\n",
    "plt.legend()"
   ]
  },
  {
   "cell_type": "markdown",
   "metadata": {},
   "source": [
    "**Now, change $k_5$ to 200, we will see SDE and ODE now behave differently.**"
   ]
  },
  {
   "cell_type": "code",
   "execution_count": 15,
   "metadata": {},
   "outputs": [],
   "source": [
    "K5=200\n",
    "odet,odec = solvODE(K1,K2,K3,K4,T)\n",
    "sdec = solvSDE(K1,K2,K3,K4,K5,len(odet),odet[1]-odet[0])"
   ]
  },
  {
   "cell_type": "code",
   "execution_count": 16,
   "metadata": {},
   "outputs": [
    {
     "data": {
      "text/plain": [
       "<matplotlib.legend.Legend at 0x22aadb13e48>"
      ]
     },
     "execution_count": 16,
     "metadata": {},
     "output_type": "execute_result"
    },
    {
     "data": {
      "image/png": "[encoded data removed]",
      "text/plain": [
       "<Figure size 432x288 with 1 Axes>"
      ]
     },
     "metadata": {
      "needs_background": "light"
     },
     "output_type": "display_data"
    }
   ],
   "source": [
    "plt.plot(odet,sdec,'b-',linewidth=1,label='SDE')\n",
    "plt.plot(odet,odec,'r-',linewidth=2,label='ODE')\n",
    "plt.xlabel('Time')\n",
    "plt.ylabel('X')\n",
    "plt.legend()"
   ]
  },
  {
   "cell_type": "code",
   "execution_count": null,
   "metadata": {},
   "outputs": [],
   "source": []
  }
 ],
 "metadata": {
  "kernelspec": {
   "display_name": "Python 3",
   "language": "python",
   "name": "python3"
  },
  "language_info": {
   "codemirror_mode": {
    "name": "ipython",
    "version": 3
   },
   "file_extension": ".py",
   "mimetype": "text/x-python",
   "name": "python",
   "nbconvert_exporter": "python",
   "pygments_lexer": "ipython3",
   "version": "3.7.4"
  }
 },
 "nbformat": 4,
 "nbformat_minor": 2
}
