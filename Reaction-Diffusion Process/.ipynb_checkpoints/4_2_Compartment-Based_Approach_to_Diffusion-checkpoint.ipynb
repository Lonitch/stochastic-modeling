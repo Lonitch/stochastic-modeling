{
 "cells": [
  {
   "cell_type": "markdown",
   "metadata": {},
   "source": [
    "## Overview\n",
    "\n",
    "Unlike the method explained in notebook(4.1), here we directly simulate the time evolution of 40 compartments. To do that, we divide the computational domain $[0, L]$ into $K=40$ compartments of length $h=L / K=25 \\mu \\mathrm{m} .$ We denote the number of molecules of chemical species $A$ in the $i$ th compartment $[(i-1) h, i h)$ by $A_{i}, i=1,2, \\ldots, K$ As a result of Brownian motion, molecules jump between neighbouring compartments. Thus we model diffusion as the following chain of “**chemical reactions**\":\n",
    "\n",
    "$$\n",
    "A_1 \\overset{d}{\\underset{d}\\leftrightarrow} A_2 \\overset{d}{\\underset{d}\\leftrightarrow} A_3 \\overset{d}{\\underset{d}\\leftrightarrow}\\dots \\overset{d}{\\underset{d}\\leftrightarrow} A_k\n",
    "$$\n",
    "\n",
    "where, as usual,\n",
    "$$\n",
    "A_i \\overset{d}{\\leftrightarrow} A_{i+1} \n",
    "$$\n",
    "and\n",
    "$$\n",
    "A_{i+1} \\overset{d}{\\leftrightarrow} A_{i} \n",
    "$$"
   ]
  },
  {
   "cell_type": "markdown",
   "metadata": {},
   "source": [
    "## SSA algorithm\n",
    "\n",
    "Now **The system of chemical reactions can be simulated by the Gillespie SSA, provided that the rate constant d:**\n",
    "\n",
    "$$\n",
    "d=\\frac{D}{h^{2}}\n",
    "$$\n",
    "\n",
    "where $D$ is the diffusion constant and $h$ is the compartment length. The propensities are:\n",
    "$$\n",
    "\\alpha_{i}(t) \\equiv A_{i}(t) d=A_{i}(t) \\frac{D}{h^{2}}, \\quad \\text { for } i=1,2, \\ldots, K\n",
    "$$\n",
    "\n",
    "Because we have $2K-2$ \"reactions\", the total propensity is:\n",
    "\n",
    "$$\n",
    "\\alpha_{0}=\\sum_{i=1}^{K-1} \\alpha_{i}(t)+\\sum_{i=2}^{K} \\alpha_{i}(t)\\text{---(1)}\n",
    "$$\n",
    "\n",
    "No matter how the next reaction proceeds, whether it jumps to the right or it jumps to the left, **there are only two compartments for which the number of molecules changes.** More over, the eqn.(1) can be simplified as:\n",
    "\n",
    "$$\n",
    "\\begin{aligned} \\alpha_{0} &=\\sum_{i=1}^{K-1} \\alpha_{i}(t)+\\sum_{i=2}^{K} \\alpha_{i}(t)=2\\left(\\sum_{i=1}^{K} \\alpha_{i}(t)\\right)-\\alpha_{1}(t)-\\alpha_{K}(t) \\\\ &=2 d\\left(\\sum_{i=1}^{K} A_{i}(t)\\right)-\\alpha_{1}(t)-\\alpha_{K}(t)=2 d N-\\alpha_{1}(t)-\\alpha_{K}(t) \\end{aligned}\n",
    "$$\n",
    "\n",
    "where N is the total number of molecules in the simulation (this number is conserved because there is no creation or degradation of the molecules in the system). system). In particular, **we need to recompute $\\alpha_{0}$ only when there is a change in $\\alpha_{1}(t)$ or $\\alpha_{K}(t),$** Taking effects above into account, we now reformulate the SSA as:\n",
    "\n",
    "1. Generate two random numbers $r_{1}, r_{2}$ uniformly distributed in $(0,1) .$\n",
    "\n",
    "2. Compute propensity functions of reactions $\\alpha_{i}(t)$ and $\\alpha_{0}$\n",
    "\n",
    "3. Compute the time at which the next chemical reaction takes place as $t+\\tau$ \n",
    "\n",
    "4. If $r_{2}<\\sum_{i=1}^{K-1} \\alpha_{i} / \\alpha_{0},$ then find $j \\in\\{1,2, \\ldots, K-1\\}$ such that\n",
    "\n",
    "$$\n",
    "r_{2} \\geq \\frac{1}{\\alpha_{0}} \\sum_{i=1}^{j-1} \\alpha_{i} \\quad \\text { and } \\quad r_{2}<\\frac{1}{\\alpha_{0}} \\sum_{i=1}^{j} \\alpha_{i}\n",
    "$$\n",
    "\n",
    "to do:\n",
    "$$\n",
    "\\begin{aligned} A_{j}(t+\\tau) &=A_{j}(t)-1 \\\\ A_{j+1}(t+\\tau) &=A_{j+1}(t)+1 \\\\ A_{i}(t+\\tau) &=A_{i}(t), \\quad \\text { for } i \\neq j, i \\neq j+1 \\end{aligned}\n",
    "$$\n",
    "\n",
    "5. If $r_{2} \\geq \\sum_{i=1}^{K-1} \\alpha_{i} / \\alpha_{0},$ then find $j \\in\\{2,3, \\ldots, K\\}$ such that\n",
    "\n",
    "$$\n",
    "r_{2} \\geq \\frac{1}{\\alpha_{0}}\\left(\\sum_{i=1}^{K-1} \\alpha_{i}+\\sum_{i=2}^{j-1} \\alpha_{i}\\right) \\quad \\text { and } \\quad r_{2}<\\frac{1}{\\alpha_{0}}\\left(\\sum_{i=1}^{K-1} \\alpha_{i}+\\sum_{i=2}^{j} \\alpha_{i}\\right)\n",
    "$$\n",
    "\n",
    "to do:\n",
    "$$\n",
    "\\begin{aligned} A_{j}(t+\\tau) &=A_{j}(t)-1 \\\\ A_{j-1}(t+\\tau) &=A_{j-1}(t)+1 \\\\ A_{i}(t+\\tau) &=A_{i}(t), \\quad \\text { for } i \\neq j, i \\neq j-1 \\end{aligned}\n",
    "$$\n",
    "\n",
    "6. Return to 1 and repeat\n",
    "\n",
    "Let's implement this algorithm below"
   ]
  },
  {
   "cell_type": "code",
   "execution_count": 43,
   "metadata": {},
   "outputs": [],
   "source": [
    "import numpy as np\n",
    "from numpy.random import uniform\n",
    "\n",
    "def compartment(nc,x0,ntot,d,ttot):\n",
    "    t = 0\n",
    "    alst = np.zeros(nc,dtype=int)\n",
    "    alst[x0]=ntot//len(x0)\n",
    "    fw = d*alst[:-1]\n",
    "    bk = d*alst[1:]\n",
    "    \n",
    "    while t<ttot:\n",
    "        \n",
    "        a0 = np.sum(fw)+np.sum(bk)\n",
    "        r1,r2 = uniform(size=2)\n",
    "        t += 1/a0*np.log(1/r1)\n",
    "        plst = np.cumsum(fw.tolist()+bk.tolist())/a0\n",
    "        i = int(np.sum(plst<r2))\n",
    "  \n",
    "        if i<=nc-2 and alst[i]>0:\n",
    "            alst[i]-=1\n",
    "            alst[i+1]+=1\n",
    "        elif alst[i-nc+2]>0:\n",
    "            alst[i-nc+2]-=1\n",
    "            alst[i-nc+1]+=1\n",
    "                \n",
    "        fw = d*alst[:-1]\n",
    "        bk = d*alst[1:]\n",
    "        \n",
    "    return alst"
   ]
  },
  {
   "cell_type": "code",
   "execution_count": 44,
   "metadata": {},
   "outputs": [],
   "source": [
    "import numpy as np\n",
    "\n",
    "D_h2 = 0.16\n",
    "X0=[16,17]\n",
    "N = 1000\n",
    "T = 240\n",
    "Nc = 40\n",
    "As = compartment(Nc,X0,N,D_h2,T)"
   ]
  },
  {
   "cell_type": "code",
   "execution_count": 45,
   "metadata": {},
   "outputs": [
    {
     "data": {
      "text/plain": [
       "Text(0, 0.5, 'count')"
      ]
     },
     "execution_count": 45,
     "metadata": {},
     "output_type": "execute_result"
    },
    {
     "data": {
      "image/png": "[encoded data removed]",
      "text/plain": [
       "<Figure size 432x288 with 1 Axes>"
      ]
     },
     "metadata": {
      "needs_background": "light"
     },
     "output_type": "display_data"
    }
   ],
   "source": [
    "%matplotlib inline\n",
    "import matplotlib.pyplot as plt\n",
    "plt.ticklabel_format(useOffset=False)\n",
    "xs = np.round(np.linspace(0,1,Nc),2)\n",
    "plt.bar(xs,As.tolist(),width=0.01)\n",
    "plt.xlabel('x')\n",
    "plt.ylabel('count')"
   ]
  },
  {
   "cell_type": "code",
   "execution_count": null,
   "metadata": {},
   "outputs": [],
   "source": []
  }
 ],
 "metadata": {
  "kernelspec": {
   "display_name": "Python 3",
   "language": "python",
   "name": "python3"
  },
  "language_info": {
   "codemirror_mode": {
    "name": "ipython",
    "version": 3
   },
   "file_extension": ".py",
   "mimetype": "text/x-python",
   "name": "python",
   "nbconvert_exporter": "python",
   "pygments_lexer": "ipython3",
   "version": "3.7.4"
  }
 },
 "nbformat": 4,
 "nbformat_minor": 2
}
