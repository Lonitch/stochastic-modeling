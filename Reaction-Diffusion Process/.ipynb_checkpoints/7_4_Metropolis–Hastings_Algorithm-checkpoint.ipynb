{
 "cells": [
  {
   "cell_type": "markdown",
   "metadata": {},
   "source": [
    "## Purpose of Metropolis–Hastings Algorithm\n",
    "---\n",
    "**Useful for computing stationary distributions (equilibrium properties) of many interacting particles\n",
    "without the need of running long-time dynamical simulations.**\n",
    "\n",
    "## Review\n",
    "---\n",
    "Suppose that we want to generate many points $x^{i} \\in[0,1], i=1,2,3, \\ldots,$ according to a given probability distribution function $C p(x),$ where $p:[0,1] \\rightarrow$ $[0, \\infty)$ and\n",
    "$$\n",
    "C=\\left(\\int_{0}^{1} p(x) \\mathrm{d} x\\right)^{-1}\n",
    "$$\n",
    "\n",
    "We will generate these points in an iterative way. To that end, we will make use of an auxiliary function $q \\equiv q(x, y):[0,1] \\times$ $[0,1] \\rightarrow(0, \\infty)$ which satisfies the symmetry assumption\n",
    "\n",
    "$$\n",
    "q(x, y)=q(y, x), \\quad \\text { for all } x \\in[0,1], y \\in[0,1]\n",
    "$$\n",
    "$$\n",
    "\\int_{0}^{1} q(x, y) \\mathrm{d} y=1, \\quad \\text { for all } x \\in[0,1]\n",
    "$$\n",
    "\n",
    "The Metropolis algorithm computes the sequence $x^{\\prime}, i=1,2,3, \\ldots .$, iteratively as follows. Given $x^{\\prime},$ we first generate a candidate $y$ for $x^{\\prime+1}$ according to the distribution $q\\left(x^{i}, \\cdot\\right) .$ Then we generate a random number $r$ uniformly distributed in $(0,1) .$ If\n",
    "$$\n",
    "r<\\frac{p(y)}{p\\left(x^{i}\\right)}\n",
    "$$\n",
    "\n",
    "then we put $x^{i+1}=y .$ Otherwise, we put $x^{i+1}=x^{i}$. **The resulting sequence $x^{1}$,\n",
    "$x^{2}, x^{3}, x^{4}, \\ldots$ contains random numbers sampled according to the probability distribution $C p(x),$ provided that $x^{1}$ is sampled from this distribution**."
   ]
  },
  {
   "cell_type": "markdown",
   "metadata": {},
   "source": [
    "## Algorithm for Interacting Particles\n",
    "---\n",
    "We consider a system of $N$ particles. The Metropolis algorithm will iteratively compute a sequence of configurations of the system, i.e. it will compte\n",
    "vectors $x^{i}=\\left[x_{1}^{i}, x_{2}^{i}, \\ldots, x_{N}^{i}\\right]$ where $x_{k}^{i}$ is the position of the $k$ th particle, $k=1,2, \\ldots, N,$ at the $i$ th iteration of the algorithm. In order to run this algorithm, we will first distribute particles uniformly in the dormain of $[0,L]$.\n",
    "\n",
    "At the $i$ th iteration, we will create a proposed configuration $y$ by randomly choosing one particle and displacing it by a small distance (controlled\n",
    "by parameter $h>0$ below). We define the potential $\\Phi:[0, L]^{N} \\rightarrow \\mathbb{R}$ by:\n",
    "$$\n",
    "\\Phi\\left(x_{1}, x_{2}, \\ldots, x_{N}\\right)=-\\sum_{i=1}^{N} \\frac{S\\left(x_{i}\\right)}{D}\n",
    "$$\n",
    "We extend $\\Phi$ to $\\mathbb{R}^{N}$ by postulating that $\\Phi(\\mathbf{x})=\\infty$ for $\\mathbf{x} \\notin[0, L]^{N} .$ Then the following four steps will be performed at the $i$ th iteration of the algorithm:\n",
    "\n",
    "1. Choose randomly one particle, i.e. choose $j$ uniformly distributed in the set of indices $\\{1,2,3, \\ldots, N\\}$\n",
    "\n",
    "2. Generate a random number $r_{1}$ uniformly distributed in the interval $(0,1)$ and compute the proposed system configuration y by $y_{j}=x_{j}^{i}+h\\left(r_{1}-0.5\\right)$ and $y_{k}=x_{k}^{i}$ for $k \\neq j$\n",
    "\n",
    "3. Compute $\\Delta \\Phi=\\Phi(\\mathbf{y})-\\Phi\\left(\\mathbf{x}^{i}\\right) .$\n",
    "\n",
    "4. Generate a random number $r_{2}$ uniformly distributed in the interval $(0,1) .$ If $r_{2}<\\exp (-\\Delta \\Phi),$ then put $\\mathbf{x}^{i+1}=\\mathbf{y} .$ Otherwise, put $\\mathbf{x}^{i+1}=\\mathbf{x}^{i}$"
   ]
  },
  {
   "cell_type": "code",
   "execution_count": null,
   "metadata": {},
   "outputs": [],
   "source": []
  }
 ],
 "metadata": {
  "kernelspec": {
   "display_name": "Python 3",
   "language": "python",
   "name": "python3"
  },
  "language_info": {
   "codemirror_mode": {
    "name": "ipython",
    "version": 3
   },
   "file_extension": ".py",
   "mimetype": "text/x-python",
   "name": "python",
   "nbconvert_exporter": "python",
   "pygments_lexer": "ipython3",
   "version": "3.7.4"
  }
 },
 "nbformat": 4,
 "nbformat_minor": 2
}
