{
 "cells": [
  {
   "cell_type": "markdown",
   "metadata": {},
   "source": [
    "## Overview\n",
    "\n",
    "Let's come back to the following SDE:\n",
    "\n",
    "$$\n",
    "X(t+\\mathrm{d} t)=X(t)+\\left(-k_{1} X(t)^{3}+k_{2} X(t)^{2}-k_{3} X(t)+k_{4}\\right) \\mathrm{d} t+k_{5} \\mathrm{d} W \\text{---(1)}\n",
    "$$\n",
    "\n",
    "Its deterministic description is:\n",
    "\n",
    "$$\n",
    "\\frac{\\mathrm{d} x}{\\mathrm{d} t}=-k_{1} x^{3}+k_{2} x^{2}-k_{3} x+k_{4}\\text{---(2)}\n",
    "$$\n",
    "\n",
    "where we obtain two stable states $x_{s1}=100$,$x_{s2}=400$ and a unstable state $x_{u}=250$. We denote by $\\bar{\\tau}$ **the average time for simulation to reach the point $x_{u}$ provided that it started at $X(0)=x_{s 1}$.** If the simulation reaches $x_{u},$ there is a $50 \\%$ chance that it will return back to $x_{s 1}$ and a $50 \\%$ chance to continue on to $x_{s 2}$. **Thus the mean switching time from $x_{s 1}$ to $x_{s 2}$ is simply $2 \\bar{\\tau} .$**\n",
    "\n",
    "We can estimate $\\bar{\\tau}$ using SSA as follows:\n",
    "\n",
    "- We start at $X(0)=x_{s 1}$\n",
    "\n",
    "- We wait until the first time the simulation leaves the interval $\\left(-\\infty, x_{u}\\right)$.\n",
    "\n",
    "- We calculate the mean value of $\\bar{\\tau}$ over multiple realizations.\n",
    "\n",
    "## Analytical formula for $\\bar{\\tau}$"
   ]
  }
 ],
 "metadata": {
  "kernelspec": {
   "display_name": "Python 3",
   "language": "python",
   "name": "python3"
  },
  "language_info": {
   "codemirror_mode": {
    "name": "ipython",
    "version": 3
   },
   "file_extension": ".py",
   "mimetype": "text/x-python",
   "name": "python",
   "nbconvert_exporter": "python",
   "pygments_lexer": "ipython3",
   "version": "3.7.4"
  }
 },
 "nbformat": 4,
 "nbformat_minor": 2
}
