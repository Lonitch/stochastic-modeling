{
 "cells": [
  {
   "cell_type": "markdown",
   "metadata": {},
   "source": [
    "## Overview\n",
    "\n",
    "Unfortunately, SSA(e.g. Gillespie SSA) introduced in previous notebooks are computationally intensive, and do not run in a short time. If this is the case, then we have to look for a way to speed up the computation.\n",
    "\n",
    "There can be several reasons why the Gillespie SSA is computationally intensive:\n",
    "\n",
    "1. The Gillespie SSA computes one reaction event per time step. Some reactions happen more often than others.\n",
    "\n",
    "2. we are often interested in the time evolution on the time scale of the slowest reactions in the system.\n",
    "\n",
    "3. The computational intensity of the Gillespie SSA increases with the number of chemical reactions and the number of chemical species in the model.\n",
    "\n",
    "## A Simple Multiscale Problem\n",
    "\n",
    "We consider chemical species $A, B$ and $C$ in a container of volume $v$ which are subject to the following chemical reactions:\n",
    "\n",
    "$$\n",
    "\\emptyset \\stackrel{k_{1}}{\\longrightarrow} A \\overset{k_{2}}{\\underset{k_3}{\\longleftrightarrow}} B \\stackrel{k_{4}}{\\longrightarrow} C\\text{--(1)}\n",
    "$$\n",
    "\n",
    "We choose the rate constants:\n",
    "\n",
    "$$\n",
    "k_{1} v=1 \\sec ^{-1}, \\quad k_{2}=50 \\sec ^{-1}, \\quad k_{3}=200 \\sec ^{-1}, \\quad k_{4}=0.1 \\sec ^{-1}\n",
    "$$\n",
    "\n",
    "and the initial conditions $A(0)=0, B(0)=0$ and $C(0)=0$"
   ]
  },
  {
   "cell_type": "markdown",
   "metadata": {},
   "source": [
    "Let $p(a, b, c, t)$ be the probability that $A(t)=a, B(t)=b$ and $C(t)=c,$ i.e. the probability that there are $a$ molecules of the chemical species $A, b$ molecules of the chemical species $B$ and $c$ molecules of the chemical species $C$ at time $t$ in the system. The chemical master equation for the model (1) reads as follows:\n",
    "\n",
    "$$\n",
    "\\begin{aligned} \\frac{\\partial}{\\partial t} p(a, b, c, t)=& k_{1} v p(a-1, b, c, t)-k_{1} v p(a, b, c, t) \\\\ &+k_{2}(a+1) p(a+1, b-1, c, t)-k_{2} a p(a, b, c, t) \\\\ &+k_{3}(b+1) p(a-1, b+1, c, t)-k_{3} b p(a, b, c, t) \\\\ &+k_{4}(b+1) p(a, b+1, c-1, t)-k_{4} b p(a, b, c, t) \\end{aligned}\n",
    "$$\n",
    "\n",
    "Let $p_{c}(n, t)$ be the probability that $C(t)=n$, then\n",
    "\n",
    "$$\n",
    "p_{c}(n, t)=\\sum_{a=0}^{\\infty} \\sum_{b=0}^{\\infty} p(a, b, n, t)\n",
    "$$\n",
    "\n",
    "Given the reaction constants, it is clear that the reaction $A\\overset{k_2}{\\underset{k_3}\\leftrightarrow}B$ is the **fast reaction**. And the change of the fast chemical species $A$ and $B$ happen more frequently than the changes of the slow chemical species $C$."
   ]
  },
  {
   "cell_type": "markdown",
   "metadata": {},
   "source": [
    "**If we want to calculate $p_c(n,t)$, we can definitely use SSA and run many realizations to calculate the mean number of molecule C at each time point. However, we can only get relatively exact result by running more than $10^6$ cases.**"
   ]
  },
  {
   "cell_type": "markdown",
   "metadata": {},
   "source": [
    "## Multiscale SSA with Partial Equilibrium Assumption\n",
    "\n",
    "In this notebook, we present an approximate SSA for chemical systems with fast and slow reactions which can be applied to **any system that has reactions happening on diparate time scales**. In the system (1), the fast chemical species are A and B and the slow chemical species is C.\n",
    "\n",
    "The main assumption of the approximate SSA is that **the fast reactions are effectively at equilibrium**, which means that the distributions of fast species are steady on a time scale that is larger than the typical time scale of the fast reactions and shorter than the time scale of the slow reactions.\n",
    "\n",
    "It is often the case that **we are interested only in the time evolution of the slow chemical species**, and this is what the approximate SSA simulates. Thus we focus on the computation of the time evolution of C in the multiscale model. \n",
    "\n",
    "In general, the slow reactions can be divided into two categories:\n",
    "\n",
    "1) slow relactions whose propensities do not depend on the fast chemical species;\n",
    "\n",
    "2) slow reactions whose propensities do depend on the fast chemical species.\n",
    "\n",
    "Let $\\delta t$ be a time interval so that $T_{\\mathrm{fast}} \\ll \\delta t \\ll T_{\\mathrm{slow}}$. We define **the effective propensity function** $\\bar{\\alpha}(t)$ of a slow chemical reaction so that $\\bar{\\alpha}(t) \\delta t$ gives approximately the probability that the slow reaction occurs in the time interval $[t,t+\\delta t)$."
   ]
  },
  {
   "cell_type": "markdown",
   "metadata": {},
   "source": [
    "## Derive Effective Propensity $\\bar{a}(t)$\n",
    "\n",
    "Let us assume that there are $A(t), B(t)$ and $C(t)$ molecules of the chemical species $A, B$ and $C$ at time $t,$ respectively. We want to find the effective propen-\n",
    "sity functions $\\bar{\\alpha}_{1}(t)$ and $\\bar{\\alpha}_{4}(t)$ of the slow reactions in the system (1).\n",
    "\n",
    "The reaction of $\\emptyset \\stackrel{k_{1}}{\\longrightarrow} A $ is of type 1), its effective propensity function is just:\n",
    "\n",
    "$$\n",
    "\\bar{\\alpha}_{1}(t)=\\alpha_{1}(t)=k_{1} v\n",
    "$$\n",
    "\n",
    "To compute the effective propensity functions of slow reactions of type 2), we first **study only the fast system under the condition that the numbers of molecules of the slow chemical species do not change**. Thus, in the case of $A \\overset{k_{2}}{\\underset{k_3}{\\longleftrightarrow}} B$, we have the following conservation relation:\n",
    "\n",
    "$$\n",
    "A(\\tilde{t})+B(\\tilde{t})=A(t)+B(t), \\quad \\text { for } \\tilde{t} \\geq t\n",
    "$$\n",
    "\n",
    "Now, we define the auxiliary variable:\n",
    "\n",
    "$$\n",
    "Q(t)=A(t)+B(t)\n",
    "$$\n",
    "and\n",
    "$$\n",
    "A(\\tilde{t})=Q(t)-B(\\tilde{t}), \\quad \\text { for } \\tilde{t} \\geq t\n",
    "$$\n",
    "Now let $p(\\tilde{b}, \\tilde{t})$ be the probability that $B(\\tilde{t})=\\tilde{b}$ given that $A(t)=a, B(t)=b$\n",
    "and $\\tilde{t} \\geq t .$ The distribution $p(\\tilde{b}, \\tilde{t})$ satisfies the chemical master equation:\n",
    "\n",
    "$$\n",
    "\\begin{aligned} \\frac{\\partial}{\\partial \\tilde{t}} p(\\tilde{b}, \\tilde{t})=& k_{2}(Q(t)-\\tilde{b}+1) p(\\tilde{b}-1, \\tilde{t})-k_{2}(Q(t)-\\tilde{b}) p(\\tilde{b}, \\tilde{t}) \\\\ &+k_{3}(\\tilde{b}+1) p(\\tilde{b}+1, \\tilde{t})-k_{3} \\tilde{b} p(\\tilde{b}, \\tilde{t}) \\end{aligned}\\text{---(2)}\n",
    "$$\n",
    "\n",
    "since $T_{\\text {fast }} \\ll \\delta t,$ we can assume that the fast reactions reach the steady distribution on a time scale shorter than $\\delta t$. The steady distribution satisfies:\n",
    "\n",
    "$$\n",
    "\\begin{aligned} 0=& k_{2}(Q(t)-\\tilde{b}+1) p_{s}(\\tilde{b}-1)-k_{2}(Q(t)-\\tilde{b}) p_{s}(\\tilde{b}) \\\\ &+k_{3}(\\tilde{b}+1) p_{s}(\\tilde{b}+1)-k_{3} \\tilde{b} p_{s}(\\tilde{b}) \\end{aligned}\n",
    "$$\n",
    "\n",
    "Multiplying this equation by $\\tilde{b}$ and summing the resulting equation over $\\tilde{b},$ we obtain \n",
    "\n",
    "$$\n",
    "\\sum_{\\tilde{b}=0}^{Q(t)} \\tilde{b} p_{s}(\\tilde{b})=\\frac{k_{2} Q(t)}{k_{2}+k_{3}}\n",
    "$$"
   ]
  },
  {
   "cell_type": "code",
   "execution_count": null,
   "metadata": {},
   "outputs": [],
   "source": []
  }
 ],
 "metadata": {
  "kernelspec": {
   "display_name": "Python 3",
   "language": "python",
   "name": "python3"
  },
  "language_info": {
   "codemirror_mode": {
    "name": "ipython",
    "version": 3
   },
   "file_extension": ".py",
   "mimetype": "text/x-python",
   "name": "python",
   "nbconvert_exporter": "python",
   "pygments_lexer": "ipython3",
   "version": "3.7.4"
  }
 },
 "nbformat": 4,
 "nbformat_minor": 2
}
