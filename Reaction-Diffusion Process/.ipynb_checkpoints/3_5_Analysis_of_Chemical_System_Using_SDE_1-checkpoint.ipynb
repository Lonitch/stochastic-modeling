{
 "cells": [
  {
   "cell_type": "markdown",
   "metadata": {},
   "source": [
    "## Chemical Fokker-Planck Equation\n",
    "\n",
    "We now re-consider the following system:\n",
    "$$\n",
    "3 A \\overset{k_1}{\\underset{k_2}\\leftrightarrow} 2 A\n",
    "$$\n",
    "$$\n",
    "A \\overset{k_3}{\\underset{k_4}\\longleftrightarrow}\\emptyset\n",
    "$$\n",
    "\n",
    "We have used SSA to find out that **the system randomly switches between its two favourable states**. In this notebook, we use **chemical Fokker-Planck equation to find an approximate formula for the mean switching time between these states.**\n",
    "\n",
    "First, the propensity functions:\n",
    "\n",
    "$$\n",
    "\\begin{array}{ll}{\\alpha_{1}(x)=x(x-1)(x-2) k_{1} / v^{2},} & {\\alpha_{2}(x)=x(x-1) k_{2} / v} \\\\ {\\alpha_{3}(x)=x k_{3},} & {\\alpha_{4}(x)=k_{4} v}\\end{array}\\text{---(1)}\n",
    "$$\n",
    "\n",
    "From notebook (3.4), we substitute the equation (1) into the generalized chemical Fokker-Planck equation:\n",
    "\n",
    "$$\n",
    "\\begin{aligned} \\frac{\\partial}{\\partial t} p(\\mathbf{x}, t)=& \\sum_{i=1}^{N} \\frac{\\partial}{\\partial x_{i}}\\left[-\\left(\\sum_{j=1}^{q} v_{j i} \\alpha_{j}(\\mathbf{x})\\right) p(\\mathbf{x}, t)\\right] \\\\ &+\\frac{1}{2} \\sum_{i=1}^{N} \\frac{\\partial^{2}}{\\partial x_{i}^{2}}\\left[\\left(\\sum_{j=1}^{q} v_{j i}^{2} \\alpha_{j}(\\mathbf{x})\\right) p(\\mathbf{x}, t)\\right] \\\\ &+\\sum_{i=1}^{N} \\sum_{k=1}^{i-1} \\frac{\\partial^{2}}{\\partial x_{i} \\partial x_{k}}\\left[\\left(\\sum_{j=1}^{q} v_{j i} v_{j k} \\alpha_{j}(\\mathbf{x})\\right) p(\\mathbf{x}, t)\\right] \\end{aligned}\\text{---(2)}\n",
    "$$\n",
    "\n",
    "we obtain:\n",
    "\n",
    "$$\n",
    "\\frac{\\partial p}{\\partial t}(x, t)=\\frac{\\partial^{2}}{\\partial x^{2}}(d(x) p(x, t))-\\frac{\\partial}{\\partial x}(f(x) p(x, t))\n",
    "$$\n",
    "\n",
    "where\n",
    "\n",
    "$$\n",
    "\\begin{aligned} f(x) &=-\\alpha_{1}(x)+\\alpha_{2}(x)-\\alpha_{3}(x)+\\alpha_{4}(x) \\\\ &=-x(x-1)(x-2) k_{1} / v^{2}+x(x-1) k_{2} / v-x k_{3}+k_{4} v \\\\ d(x) &=\\left[\\alpha_{1}(x)+\\alpha_{2}(x)+\\alpha_{3}(x)+\\alpha_{4}(x)\\right] / 2 \\\\ &=\\left[x(x-1)(x-2) k_{1} / v^{2}+x(x-1) k_{2} / v+x k_{3}+k_{4} v\\right] / 2 \\end{aligned}\n",
    "$$\n",
    "\n",
    "**The following code is implemented to calculate the stationary distribution $p_s(x)$**"
   ]
  },
  {
   "cell_type": "code",
   "execution_count": 18,
   "metadata": {},
   "outputs": [],
   "source": [
    "import numpy as np\n",
    "from scipy.integrate import quad\n",
    "\n",
    "K1=0.00025\n",
    "K2=0.18\n",
    "K3=37.5\n",
    "K4=2200\n",
    "V=1\n",
    "\n",
    "def f(x,k1,k2,k3,k4,v):\n",
    "        return -x*(x-1)*(x-2)*k1/v**2+x*(x-1)*k2/v-x*k3+k4*v\n",
    "    \n",
    "def d(x,k1,k2,k3,k4,v):\n",
    "    return 0.5*(x*(x-1)*(x-2)*k1/v**2+x*(x-1)*k2/v+x*k3+k4*v)\n",
    "\n",
    "def f_d(x,k1,k2,k3,k4,v):\n",
    "    return (-x*(x-1)*(x-2)*k1/v**2+x*(x-1)*k2/v-x*k3+k4*v)/(0.5*(x*(x-1)*(x-2)*k1/v**2+x*(x-1)*k2/v+x*k3+k4*v))\n",
    "\n",
    "# calculate the constant 2C\n",
    "def intC(x,k1,k2,k3,k4,v):\n",
    "    return np.exp(quad(f_d,0,x,args=(k1,k2,k3,k4,v))[0])/d(x,k1,k2,k3,k4,v)\n",
    "\n",
    "def intPs(k1,k2,k3,k4,v):\n",
    "    C = 1/quad(intC, 0, np.inf, args=(k1,k2,k3,k4,v))[0]\n",
    "    xlst = np.linspace(0,600,3000)\n",
    "    pslst = [0]\n",
    "    for i in range(1,len(xlst)):\n",
    "        pslst.append(C*intC(xlst[i],k1,k2,k3,k4,v))\n",
    "        \n",
    "    return xlst, pslst\n",
    "\n"
   ]
  },
  {
   "cell_type": "code",
   "execution_count": 19,
   "metadata": {},
   "outputs": [
    {
     "data": {
      "text/plain": [
       "Text(0, 0.5, 'stationary distribution')"
      ]
     },
     "execution_count": 19,
     "metadata": {},
     "output_type": "execute_result"
    },
    {
     "data": {
      "image/png": "[encoded data removed]",
      "text/plain": [
       "<Figure size 432x288 with 1 Axes>"
      ]
     },
     "metadata": {
      "needs_background": "light"
     },
     "output_type": "display_data"
    }
   ],
   "source": [
    "A,Pslst = intPs(K1,K2,K3,K4,V)\n",
    "%matplotlib inline\n",
    "import matplotlib.pyplot as plt\n",
    "plt.plot(A[1:],Pslst[1:],'b-',linewidth=2)\n",
    "plt.xlabel('x')\n",
    "plt.ylabel('stationary distribution')"
   ]
  },
  {
   "cell_type": "markdown",
   "metadata": {},
   "source": [
    "**The stationary distribution $p_{s}(x)$ has two local maxima $x_{s 1}=95$ and $x_{s 2}=392 .$ The local minimum between them is attained at the point $x_{u}=235 .$** Using the following equation, we get the mean transition time from $x_{s1}$ to $x_{s2}$ is $\n",
    "2\\tau\\left(x_{s 1}\\right)=2\\tau(95)=15.6\\times 2 \\mathrm{min}\n",
    "$.\n",
    "\n",
    "$$\n",
    "\\tau(y)=\\int_{y}^{x_{u}} \\frac{1}{d(z) p_{s}(z)} \\int_{0}^{z} p_{s}(x) \\mathrm{d} x \\mathrm{d} z\\text{---(3)}\n",
    "$$"
   ]
  },
  {
   "cell_type": "markdown",
   "metadata": {},
   "source": [
    "## Approximation of Equation (3)\n",
    "\n",
    "We can approximate eqn.(3) by first defining the potential:\n",
    "\n",
    "$$\n",
    "\\Phi(x)=-\\int_{0}^{x} \\frac{f(y)}{d(y)} \\mathrm{d} y+\\log (d(x))\\text{---(4)}\n",
    "$$\n",
    "\n",
    "Because, $p_{s}(x)=\\frac{C}{d(x)} \\exp \\left[\\int_{0}^{x} \\frac{f(y)}{d(y)} \\mathrm{d} y\\right]$, this approximation indicates that:\n",
    "\n",
    "$$\n",
    "p_{s}(x)=C \\exp [-\\Phi(x)]\n",
    "$$\n",
    "\n",
    "And eqn.(3) now becomes:\n",
    "\n",
    "$$\n",
    "\\tau\\left(x_{s 1}\\right)=\\int_{x_{s 1}}^{x_{u}} \\frac{\\exp [\\Phi(z)]}{d(z)} \\int_{0}^{z} \\exp [-\\Phi(x)] \\mathrm{d} x \\mathrm{d} z\n",
    "$$\n",
    "\n",
    "Notice that $x_{s 1}$ is a **local minimum** of $\\Phi,$ and $x_{u}$ is a **local maximum** of $\\Phi .$\n",
    "\n",
    "Now, if $\\Phi \\text { is large, then the exponential exp[- } \\Phi(x)]$ is dominated by the region near $\\left.x_{s 1} \\text { where } \\Phi \\text { is minimum, while exp[ } \\Phi(x)\\right]$ is dominated by the region near $x_{u}$ where $\\Phi$ is maximum. In this case we introduce only a small error when we replace the integration interval $(0, z)$ of the inner integral by $\\left(0, x_{u}\\right),$ since the main contribution to the inner integral comes from the region close to $x_{s 1} .$ Thus we can approximate\n",
    "\n",
    "$$\n",
    "\\tau\\left(x_{s 1}\\right) \\approx\\left(\\int_{x_{\\mathrm{s} 1}}^{x_{u}} \\frac{\\exp [\\Phi(z)]}{d(z)} \\mathrm{d} z\\right)\\left(\\int_{0}^{x_{\\mathrm{u}}} \\exp [-\\Phi(x)] \\mathrm{d} x\\right)\\text{---(5)}\n",
    "$$\n",
    "\n",
    "We can now use **Laplace's method** to evaluate these integrals. This involves Taylor expanding the exponents about $x_{u}$ and $x_{s 1}$ as\n",
    "\n",
    "$$\n",
    "\\begin{aligned} \\Phi(z) & \\approx \\Phi\\left(x_{u}\\right)-\\left(z-x_{u}\\right)^{2}\\left|\\Phi^{\\prime \\prime}\\left(x_{u}\\right)\\right| / 2 \\\\ \\Phi(x) & \\approx \\Phi\\left(x_{s 1}\\right)+\\left(x-x_{s 1}\\right)^{2} \\Phi^{\\prime \\prime}\\left(x_{s 1}\\right) / 2 \\end{aligned}\n",
    "$$\n",
    "\n",
    "remembering that $\\Phi^{\\prime}\\left(x_{s 1}\\right)=0,$ while $\\Phi^{\\prime \\prime}\\left(x_{s 1}\\right)>0, \\Phi^{\\prime \\prime}\\left(x_{u}\\right)<0$. Substituting into eqn. (5), we get the so-called **Kramers approximation**:\n",
    "\n",
    "$$\n",
    "\\tau\\left(x_{s 1}\\right) \\approx \\frac{\\pi \\exp \\left[\\Phi\\left(x_{u}\\right)-\\Phi\\left(x_{s 1}\\right)\\right]}{d\\left(x_{u}\\right) \\sqrt{\\left|\\Phi^{\\prime \\prime}\\left(x_{u}\\right)\\right| \\Phi^{\\prime \\prime}\\left(x_{s 1}\\right)}}\n",
    "$$"
   ]
  },
  {
   "cell_type": "code",
   "execution_count": null,
   "metadata": {},
   "outputs": [],
   "source": []
  }
 ],
 "metadata": {
  "kernelspec": {
   "display_name": "Python 3",
   "language": "python",
   "name": "python3"
  },
  "language_info": {
   "codemirror_mode": {
    "name": "ipython",
    "version": 3
   },
   "file_extension": ".py",
   "mimetype": "text/x-python",
   "name": "python",
   "nbconvert_exporter": "python",
   "pygments_lexer": "ipython3",
   "version": "3.7.4"
  }
 },
 "nbformat": 4,
 "nbformat_minor": 2
}
