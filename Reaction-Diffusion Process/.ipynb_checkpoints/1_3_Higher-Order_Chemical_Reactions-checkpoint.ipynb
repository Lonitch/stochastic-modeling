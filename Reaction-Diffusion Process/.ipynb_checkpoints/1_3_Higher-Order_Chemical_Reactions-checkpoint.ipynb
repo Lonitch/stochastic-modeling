{
 "cells": [
  {
   "cell_type": "markdown",
   "metadata": {},
   "source": [
    "## Overview\n",
    "Now we consider the *second-order* chemical reactions:\n",
    "$$\n",
    "A+B \\stackrel{k}{\\longrightarrow} C\n",
    "$$\n",
    "we would expect the two molecules to collide twice as often in a box that is half the size. Thus for one molecule of A and one molecule of B the probability of a reaction occurring in the time interval $[t,t+dt)$ is $(k/v)dt$. Consequently, the probability that a second-order reaction takes place in the time interval $[t, t+d t)$ between any of these pairs is equal to $A(t) B(t)(k / v) \\mathrm{d} t$, where $A(t) B(t)(k / v)=\\alpha(t)$ is a **propensity function**. For the reaction of $A+A \\stackrel{k}{\\longrightarrow} C$, we have $\\alpha(t)=A(t)(A(t)-1) k / v$, where $\\left(\\begin{array}{c}{A(t)} \\\\ {2}\\end{array}\\right)=\\frac{A(t)(A(t)-1)}{2}$, and the factor of 2 is absorbed into the rate constant.\n",
    "\n",
    "## Stochastic Simulation of Dimerization\n",
    "We consider a chemical species $A$ in a container of volume $v$ which is subject to the following two chemical reactions:\n",
    "$$\n",
    "A+A \\stackrel{k_{1}}{\\longrightarrow} \\emptyset, \\quad \\quad \\emptyset \\stackrel{k_{2}}{\\longrightarrow} A\n",
    "$$\n",
    "we get the propensity functions of the first and second reactions as $\\alpha_{1}(t)=A(t)(A(t)-1) k_{1} / v$ and $\\alpha_{2}(t)=k_{2} v$ respectively.\n",
    "\n",
    "To simulate the system of chemical reactions above we perform the following four steps at time $t$ (starting with $A(0)=n_{0}$ at time $t=0$):\n",
    "\n",
    "1. Generate two random numbers $r_{1}, r_{2}$ uniformly distributed in $(0,1) .$\n",
    "\n",
    "2. Compute the propensity functions of both reactions: $\\alpha_{1}=A(t)(A(t)-1) k_{1} / v$ and $\\alpha_{2}=k_{2} v .$ Compute $\\alpha_{0}=\\alpha_{1}+\\alpha_{2}$\n",
    "\n",
    "3. Compute the time when the next chemical reaction takes place as $t+\\tau$ where $\\tau$ is calculated according to the exponential distribution\n",
    "\n",
    "4. Compute the number of molecules at time $t+\\tau$ by\n",
    "$$\n",
    "A(t+\\tau)=\\left\\{\\begin{array}{ll}{A(t)-2} & {\\text { if } r_{2}<\\alpha_{1} / \\alpha_{0}} \\\\ {A(t)+1} & {\\text { if } r_{2} \\geq \\alpha_{1} / \\alpha_{0}}\\end{array}\\right.\n",
    "$$\n",
    "\n",
    "5. Go back to step 1.\n",
    "\n",
    "## Master Equation\n",
    "Again, we denote by $p_n(t)$ the probability that there are n molecules of A at time t in the system, i.e. that $A(t) = n$:\n",
    "$$\n",
    "\\begin{aligned} p_{n}(t+\\mathrm{d} t)=& p_{n}(t) \\times\\left(1-\\frac{k_{1}}{v} n(n-1) \\mathrm{d} t-k_{2} v \\mathrm{d} t\\right) \\\\ &+p_{n+2}(t) \\times \\frac{k_{1}}{v}(n+2)(n+1) \\mathrm{d} t+p_{n-1}(t) \\times k_{2} v \\mathrm{d} t \\end{aligned}\n",
    "$$\n",
    "So the **master eqn.** in this case is:\n",
    "$$\n",
    "\\frac{\\mathrm{d} p_{n}}{\\mathrm{d} t}=\\frac{k_{1}}{v}(n+2)(n+1) p_{n+2}-\\frac{k_{1}}{v} n(n-1) p_{n}+k_{2} v p_{n-1}-k_{2} v p_{n}\n",
    "$$\n",
    "For higher-order reaction, it is possible to derive the long-term quantities:$M_s, V_s, \\phi(n)$. To do that, we define the **probability-generating functio** as:\n",
    "$$\n",
    "G(x, t)=\\sum_{n=0}^{\\infty} x^{n} p_{n}(t)\n",
    "$$\n",
    "and thus,\n",
    "$$\n",
    "M(t)=\\frac{\\partial G}{\\partial x}(1, t)\n",
    "$$\n",
    "$$\n",
    "\\begin{aligned} V(t) &=\\frac{\\partial^{2} G}{\\partial x^{2}}(1, t)+M(t)-M(t)^{2} \\\\ &=\\frac{\\partial^{2} G}{\\partial x^{2}}(1, t)+\\frac{\\partial G}{\\partial x}(1, t)-\\left(\\frac{\\partial G}{\\partial x}(1, t)\\right)^{2} \\end{aligned}\n",
    "$$\n",
    "$$\n",
    "p_{n}(t)=\\frac{1}{n !} \\frac{\\partial^{n} G}{\\partial x^{n}}(0, t)\n",
    "$$\n",
    "for $n\\geq 0$. **To find $G(x, t),$ we multiply the chemical master equationby $x^{n}$ and sum over $n$ to deduce:**\n",
    "$$\n",
    "\\begin{aligned} \\frac{\\partial}{\\partial t} \\sum_{n=0}^{\\infty} x^{n} p_{n}=& \\frac{k_{1}}{v} \\sum_{n=0}^{\\infty} x^{n}(n+2)(n+1) p_{n+2}-\\frac{k_{1}}{v} \\sum_{n=2}^{\\infty} x^{n} n(n-1) p_{n} \\\\ &+k_{2} v \\sum_{n=1}^{\\infty} x^{n} p_{n-1}-k_{2} v \\sum_{n=0}^{\\infty} x^{n} p_{n} \\end{aligned}\n",
    "$$\n",
    "Now we have a **PDE for $G$**:\n",
    "$$\n",
    "\\frac{\\partial G}{\\partial t}=\\frac{k_{1}}{v}\\left(1-x^{2}\\right) \\frac{\\partial^{2} G}{\\partial x^{2}}+k_{2} v(x-1) G\n",
    "$$\n",
    "To solve this PDE, **we have the following two BC**:\n",
    "$$\n",
    "G(1, t)=\\sum_{n=0}^{\\infty} p_{n}(t)=1\n",
    "$$\n",
    "$$\n",
    "\\frac{\\partial}{\\partial t} G(-1, t)=-2 k_{2} v G(-1, t)\n",
    "$$\n",
    "**The second condition is that the second derivative $\\partial^{2} G / \\partial x^{2}$ should be bounded at $x=-1 .$ This means that the second term on the right-hand side of the PDE above vanishes at $x=-1 .$** From this we deduce that\n",
    "$$\n",
    "G(-1, t)=G(-1,0) \\exp \\left[-2 k_{2} v t\\right]\n",
    "$$\n",
    "and the **stationary probability-generating function satisfies the stationary version of the PDE:**\n",
    "$$\n",
    "0=\\frac{k_{1}}{v}\\left(1-x^{2}\\right) \\frac{\\mathrm{d}^{2} G_{s}}{\\mathrm{d} x^{2}}+k_{2} v(x-1) G_{s}\n",
    "$$\n",
    "**The general solution of the equation above is:**\n",
    "$$\n",
    "G_{s}(x)=C_{1} \\sqrt{1+x} I_{1}(2 \\sqrt{\\frac{k_{2} v^{2}(1+x)}{k_{1}}})+C_{2} \\sqrt{1+x} K_{1}(2 \\sqrt{\\frac{k_{2} v^{2}(1+x)}{k_{1}}})\n",
    "$$\n",
    "where $I_{1}$ and $K_{1}$ are modified Bessel functions and $C_{1}$ and $C_{2}$ are arbitrary constant.\n",
    "\n",
    "To determine the coefficients $C_{1}$ and $C_{2}$ we impose the **steady versions of the boundary conditions.** Taking the limit as $t \\rightarrow \\infty$ in $G(-1, t)=G(-1,0) \\exp \\left[-2 k_{2} v t\\right]$. We find $G_{s}(-1)=0 .$ Since $I_{1}(z) \\sim z / 2$ and $K_{1}(z) \\sim 1 / z$ as $z \\rightarrow 0,$ this implies that $C_{2}=0 .$ Taking the limit as $t \\rightarrow \\infty$ in the normalization condition gives:$G_{s}(1)=1$. So that:\n",
    "$$\n",
    "C_{1}=\\left[\\sqrt{2} I_{1}(2 \\sqrt{\\frac{2 k_{2} v^{2}}{k_{1}}})\\right]^{-1}\n",
    "$$\n",
    "Now, \n",
    "$$\n",
    "M_{s}=G_{s}^{\\prime}(1)=\\frac{1}{4}+\\sqrt{\\frac{k_{2} v^{2}}{2 k_{1}}} I_{1}^{\\prime}(2 \\sqrt{\\frac{2 k_{2} v^{2}}{k_{1}}})\\left[I_{1}(2 \\sqrt{\\frac{2 k_{2} v^{2}}{k_{1}}})\\right]^{-1}\n",
    "$$\n",
    "$$\n",
    "V_{s}=\\frac{k_{2} v^{2}}{2 k_{1}}+M_{s}-M_{s}^{2}\n",
    "$$\n",
    "$$\n",
    "\\phi(n)=C_{1} \\frac{1}{n !}\\left(\\frac{k_{2} v^{2}}{k_{1}}\\right)^{n} I_{n-1}(2 \\sqrt{\\frac{k_{2} v^{2}}{k_{1}}}), \\quad n=0,1,2,3, \\ldots\n",
    "$$\n",
    "\n",
    "## Deterministic description\n",
    "Let us consider a classic deterministic description of the chemical system. This would be written for the concentration $a(t)=$$A(t) / v$ as the following ODE:\n",
    "$$\n",
    "\\frac{\\mathrm{d} a}{\\mathrm{d} t}=-2 k_{1} a^{2}+k_{2}\n",
    "$$\n",
    "Let $\\bar{A}(t)=a(t) v$, we have:\n",
    "$$\n",
    "\\frac{d \\bar{A}}{d t}=-\\frac{2 k_{1}}{v} \\bar{A}^{2}+k_{2} v\n",
    "$$\n",
    "\n",
    "We emphasize that, **in contrast to the case of first-order reactions, this equation does not give the time evolution of the stochastic mean $M(t),$ that is, $\\bar{A}(t) \\neq M(t) .$** To see that, let us consider the stationary value of $\\bar{A}(t),$ which is given by:\n",
    "$$\n",
    "\\begin{array}{c}{0=-\\left(2 k_{1} / v\\right) \\bar{A}_{s}^{2}+k_{2} v} \\\\ {\\bar{A}_{s}=v \\sqrt{\\frac{k_{2}}{2 k_{1}}}}\\end{array}\n",
    "$$\n",
    "However, even if we compute $M_{s}$ not exactly, but as an\n",
    "average over many stochastic realizations, the difference can still be identified (at least 1%). Thus even in the case of the simple second-order chemical reaction presented here, the **deterministic system of ODEs not provide the exact description\n",
    "of the stochastic mean. Moreover, the deterministic approach does not give any description of stochastic fluctuations about the mean value.**"
   ]
  },
  {
   "cell_type": "markdown",
   "metadata": {},
   "source": [
    "## Gillespie Algorithm\n",
    "\n",
    "Suppose that we have a system of $q$ chemical reactions. Let $\\alpha_{i}(t)$ be the propensity function of the $i$ th reaction, $i=1,2, \\ldots, q,$ at time $t,$ that is, $\\alpha_{i}(t) \\mathrm{d} t$ is the probability that the $i$ th reaction occurs in the time interval $[t, t+\\mathrm{d} t)$. The Gillespie SSA consists of the following four steps at\n",
    "time t:\n",
    "\n",
    "1. Generate two random numbers $r_{1}, r_{2}$ uniformly distributed in $(0,1) .$\n",
    "\n",
    "2. Compute the propensity function $\\alpha_{i}(t)$ of each reaction. Compute\n",
    "$$\n",
    "\\alpha_{0}=\\sum_{i=1}^{q} \\alpha_{i}(t)\n",
    "$$\n",
    "3. Compute the time when the next chemical reaction takes place as $t+\\tau,$ where\n",
    "$$\n",
    "\\tau=\\frac{1}{\\alpha_{0}} \\ln \\left[\\frac{1}{r_{1}}\\right]\n",
    "$$\n",
    "4. Compute which reaction occurs at time $t+\\tau .$ Find $j$ such that\n",
    "$$\n",
    "r_{2} \\geq \\frac{1}{\\alpha_{0}} \\sum_{i=1}^{j-1} \\alpha_{i}(t) \\quad \\text { and } \\quad r_{2}<\\frac{1}{\\alpha_{0}} \\sum_{i=1}^{j} \\alpha_{i}(t)\n",
    "$$\n",
    "Then the $j$ th reaction takes place, so update numbers of reactants and products of the $j$ th reaction.\n",
    "\n",
    "5. Continue with step 1 for time $t+\\tau$\n",
    "\n",
    "Here, we implement the algorithm above for the following system of four chemical reactions:\n",
    "$$\n",
    "\\begin{aligned} A+A & \\stackrel{k_{1}}{\\longrightarrow} & \\emptyset, & A+B \\stackrel{k_{2}}{\\longrightarrow} \\emptyset \\\\ & \\emptyset \\stackrel{k_{3}}{\\longrightarrow} A, & & \\emptyset \\stackrel{k_{4}}{\\longrightarrow} B \\end{aligned}\n",
    "$$\n",
    "The propensities are:$ \\alpha_{1}(t)=A(t)(A(t)-1) k_{1} / v, \\alpha_{2}(t)=A(t) B(t) k_{2} / v, \\alpha_{3}=k_{3} v \\text { and } \\alpha_{4}=k_{4} v$.\n",
    "\n",
    "Now, the `step 4` reads as follows:\n",
    "$$\n",
    "A(t+\\tau)=\\left\\{\\begin{array}{cc}{A(t)-2} & {\\text { if } 0 \\leq r_{2}<\\alpha_{1} / \\alpha_{0}} \\\\ {A(t)-1} & {\\text { if } \\alpha_{1} / \\alpha_{0} \\leq r_{2}<\\left(\\alpha_{1}+\\alpha_{2}\\right) / \\alpha_{0}} \\\\ {A(t)+1} & {\\text { if } \\alpha_{1} / \\alpha_{0} \\leq r_{2}<\\left(\\alpha_{1}+\\alpha_{2}+\\alpha_{3}\\right) / \\alpha_{0}} \\\\ {A(t)} & {\\text { if }\\left(\\alpha_{1}+\\alpha_{2}+\\alpha_{3}\\right) / \\alpha_{0} \\leq r_{2}<1}\\end{array}\\right.\n",
    "$$\n",
    "$$\n",
    "B(t+\\tau)=\\left\\{\\begin{array}{cc}{B(t)} & {\\text { if } 0 \\leq r_{2}<\\alpha_{1} / \\alpha_{0}} \\\\ {B(t)-1} & {\\text { if } \\alpha_{1} / \\alpha_{0} \\leq r_{2}<\\left(\\alpha_{1}+\\alpha_{2}\\right) / \\alpha_{0}} \\\\ {B(t)} & {\\text { if }\\left(\\alpha_{1}+\\alpha_{2}\\right) / \\alpha_{0} \\leq r_{2}<\\left(\\alpha_{1}+\\alpha_{2}+\\alpha_{3}\\right) / \\alpha_{0}} \\\\ {B(t)+1} & {\\text { if }\\left(\\alpha_{1}+\\alpha_{2}+\\alpha_{3}\\right) / \\alpha_{0} \\leq r_{2}<1}\\end{array}\\right.\n",
    "$$"
   ]
  },
  {
   "cell_type": "code",
   "execution_count": 3,
   "metadata": {},
   "outputs": [],
   "source": [
    "import numpy as np\n",
    "from numpy.random import uniform\n",
    "\n",
    "def gillespie(k1,k2,k3,k4,v,T,a0=0,b0=0):\n",
    "    tlst = [0]\n",
    "    count={'A':[a0],'B':[b0]}\n",
    "    alpha3 = k3*v\n",
    "    alpha4 = k4*v\n",
    "    outcA = {0:-1,1:-1,2:1,3:0}\n",
    "    outcB = {0:0,1:-1,2:0,3:1}\n",
    "    while tlst[-1]<T:\n",
    "        a,b=count['A'][-1],count['B'][-1]\n",
    "        r1,r2 = uniform(size=2)\n",
    "        \n",
    "        if a>0:\n",
    "            alpha1=a*(a-1)*k1/v\n",
    "        else:\n",
    "            alpha1=0\n",
    "        alpha2 =a*b/v*k2\n",
    "        alpha0= alpha1+alpha2+alpha3+alpha4\n",
    "        tlst.append(tlst[-1]+1/alpha0*np.log(1/r1))\n",
    "        plst = np.cumsum([alpha1,alpha2,alpha3,alpha4])/alpha0\n",
    "        rs = sum(plst<r2)\n",
    "        count['A'].append(a+outcA[rs])\n",
    "        count['B'].append(b+outcB[rs])\n",
    "    \n",
    "    return tlst, count"
   ]
  },
  {
   "cell_type": "code",
   "execution_count": 10,
   "metadata": {},
   "outputs": [],
   "source": [
    "K1=1\n",
    "V=1000\n",
    "K2=10\n",
    "K3=0.0012\n",
    "K4=0.001\n",
    "Tscal=100\n",
    "simlst,cts=gillespie(K1,K2,K3,K4,V,Tscal)"
   ]
  },
  {
   "cell_type": "code",
   "execution_count": 11,
   "metadata": {},
   "outputs": [
    {
     "data": {
      "text/plain": [
       "<matplotlib.legend.Legend at 0x179f5ce1f48>"
      ]
     },
     "execution_count": 11,
     "metadata": {},
     "output_type": "execute_result"
    },
    {
     "data": {
      "image/png": "[encoded data removed]",
      "text/plain": [
       "<Figure size 720x360 with 1 Axes>"
      ]
     },
     "metadata": {
      "needs_background": "light"
     },
     "output_type": "display_data"
    }
   ],
   "source": [
    "%matplotlib inline\n",
    "import matplotlib.pyplot as plt\n",
    "plt.rcParams['figure.figsize'] = [10, 5]\n",
    "plt.step(simlst,cts['A'],color='r',label='A')\n",
    "plt.step(simlst,cts['B'],color='b',label='B')\n",
    "plt.xlabel('time')\n",
    "plt.ylabel('count')\n",
    "plt.legend()"
   ]
  },
  {
   "cell_type": "code",
   "execution_count": 15,
   "metadata": {},
   "outputs": [],
   "source": [
    "Tscal=100000\n",
    "simlst,cts=gillespie(K1,K2,K3,K4,V,Tscal)"
   ]
  },
  {
   "cell_type": "code",
   "execution_count": 16,
   "metadata": {},
   "outputs": [
    {
     "data": {
      "text/plain": [
       "Text(0, 0.5, 'stationary distri')"
      ]
     },
     "execution_count": 16,
     "metadata": {},
     "output_type": "execute_result"
    },
    {
     "data": {
      "image/png": "[encoded data removed]",
      "text/plain": [
       "<Figure size 720x360 with 1 Axes>"
      ]
     },
     "metadata": {
      "needs_background": "light"
     },
     "output_type": "display_data"
    }
   ],
   "source": [
    "plt.hist(cts['A'],30, density=1)\n",
    "plt.xlabel('# of A')\n",
    "plt.ylabel('stationary distri')"
   ]
  },
  {
   "cell_type": "code",
   "execution_count": 17,
   "metadata": {},
   "outputs": [
    {
     "data": {
      "text/plain": [
       "Text(0, 0.5, 'stationary distri')"
      ]
     },
     "execution_count": 17,
     "metadata": {},
     "output_type": "execute_result"
    },
    {
     "data": {
      "image/png": "[encoded data removed]",
      "text/plain": [
       "<Figure size 720x360 with 1 Axes>"
      ]
     },
     "metadata": {
      "needs_background": "light"
     },
     "output_type": "display_data"
    }
   ],
   "source": [
    "plt.hist(cts['B'],30, density=1)\n",
    "plt.xlabel('# of B')\n",
    "plt.ylabel('stationary distri')"
   ]
  },
  {
   "cell_type": "code",
   "execution_count": null,
   "metadata": {},
   "outputs": [],
   "source": []
  }
 ],
 "metadata": {
  "kernelspec": {
   "display_name": "Python 3",
   "language": "python",
   "name": "python3"
  },
  "language_info": {
   "codemirror_mode": {
    "name": "ipython",
    "version": 3
   },
   "file_extension": ".py",
   "mimetype": "text/x-python",
   "name": "python",
   "nbconvert_exporter": "python",
   "pygments_lexer": "ipython3",
   "version": "3.7.4"
  }
 },
 "nbformat": 4,
 "nbformat_minor": 2
}
