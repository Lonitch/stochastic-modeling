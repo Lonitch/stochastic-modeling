{
 "cells": [
  {
   "cell_type": "markdown",
   "metadata": {},
   "source": [
    "## Overview\n",
    "\n",
    "Let us suppose that we have a chemical species A in a container of volume $v$ which is subject to the followisng two chemical reactions:\n",
    "$$\n",
    "A \\stackrel{k_{1}}{\\longrightarrow} \\emptyset, \\quad \\quad \\emptyset \\stackrel{k_{2}}{\\longrightarrow} A\n",
    "$$\n",
    "In the second reaction, we have the production of chemical A with the rate constant $k_2$ per unit volume. It means that one molecule of A is created during the time interval $[t,t+dt)$ with probability $k_2vdt$. **The impact of other chemical species on the rate of production of A is assumed to be time-independent and is already incorporated in the rate constany** $k_2$\n",
    "\n",
    "**The rate constants $k_{1}$ and $k_{2}$ have different physical units**. The rate constant $k_{1}$ is expressed in the units of $\\left[\\sec ^{-1}\\right] .$ The units of the rate constant $k_{2}$ are $\\left[\\mathrm{m}^{-3} \\mathrm{sec}^{-1}\\right] .$ The scaling with the volume $v$ is natural: **each A molecule degrades independently in the volume,but the production of A depends on the concentration of other species in the volume** $v$. In other words, if we divide the container into two equal parts, the production rate in each part will be half of the production rate in the whole container.\n",
    "\n",
    "## Simulation algorithm\n",
    "\n",
    "1. Generate two random numbers $r_{1}, r_{2}$ uniformly distributed in $(0,1) .$\n",
    "\n",
    "2. Compute $\\alpha_{0}=A(t) k_{1}+k_{2} v .$\n",
    "\n",
    "3. Compute the time when the next chemical reaction takes place as $t+\\tau$ where\n",
    "\n",
    "$$\n",
    "\\tau=\\frac{1}{\\alpha_{0}} \\ln \\left[\\frac{1}{r_{1}}\\right]\n",
    "$$\n",
    "\n",
    "4. Compute the number of molecules at time $t+\\tau$ by\n",
    "\n",
    "$$\n",
    "A(t+\\tau)=\\left\\{\\begin{array}{ll}{A(t)+1} & {\\text { if } r_{2}<k_{2} v / \\alpha_{0}} \\\\ {A(t)-1} & {\\text { if } r_{2} \\geq k_{2} v / \\alpha_{0}}\\end{array}\\right.\n",
    "$$\n",
    "\n",
    "Then continue with step 1 for time $t+\\tau$\n",
    "\n",
    "## Chemical master equation\n",
    "**To compute the mean and quantify the stochastic fluctuations**, we again use the chemical master equation.\n",
    "\n",
    "let $p_{n}(t)$ denote the probability that $A(t)=n$ for $n=0,1,2,3, \\ldots$ This time there are three ways we can arrive at $n$ molecules at time $t+\\mathrm{d} t:$ \n",
    "\n",
    "- there could have been $n$ molecules at time $t$ and no reactions\n",
    "\n",
    "- there could have been $n+1$ molecules and one was degraded\n",
    "\n",
    "- there could have been $n-1$ molecules and one was produced.\n",
    "\n",
    "Thus,\n",
    "\n",
    "$$\n",
    "\\begin{aligned} p_{n}(t+\\mathrm{d} t)=& p_{n}(t) \\times\\left(1-k_{1} n \\mathrm{d} t-k_{2} v \\mathrm{d} t\\right) \\\\ &+p_{n+1}(t) \\times k_{1}(n+1) \\mathrm{d} t+p_{n-1}(t) \\times k_{2} v \\mathrm{d} t \\end{aligned}\n",
    "$$\n",
    "$$\n",
    "\\frac{\\mathrm{d} p_{n}}{\\mathrm{d} t}=k_{1}(n+1) p_{n+1}-k_{1} n p_{n}+k_{2} v p_{n-1}-k_{2} v p_{n}\n",
    "$$\n",
    "where $p_{-1} \\equiv 0$. **Because of the production reaction, there is no maximum possible number of molecules of A.** Thus, the equation above indeed represents an infinite set of ODEs. To solve this system numerically, we need to truncate ODEs with large $n$, that is, $p_{n} \\rightarrow 0$ as $n \\rightarrow \\infty$.\n",
    "\n",
    "The mean $M(t)$ and variance $V(t)$ are defined by\n",
    "\n",
    "$$\n",
    "M(t)=\\sum_{n=0}^{\\infty} n p_{n}(t), \\quad V(t)=\\sum_{n=0}^{\\infty}(n-M(t))^{2} p_{n}(t)\n",
    "$$\n",
    "\n",
    "Now, let's try to use the chemical master equation to **derive an evolution equation for** $M(t)$. If succeed, we can find $M(t)$ without solving the ODE system. From the master equation, we multiply both sides by $n$ and summing over $n$:\n",
    "\n",
    "$$\n",
    "\\begin{aligned} \\frac{\\mathrm{d}}{\\mathrm{d} t} \\sum_{n=0}^{\\infty} n p_{n}=& k_{1} \\sum_{n=0}^{\\infty} n(n+1) p_{n+1}-k_{1} \\sum_{n=0}^{\\infty} n^{2} p_{n} \\\\ &+k_{2} v \\sum_{n=1}^{\\infty} n p_{n-1}-k_{2} v \\sum_{n=0}^{\\infty} n p_{n} \\end{aligned}\n",
    "$$\n",
    "\n",
    "Changing the indices at the first and third term, we have:\n",
    "\n",
    "$$\n",
    "\\frac{\\mathrm{d} M}{\\mathrm{d} t}=k_{1} \\sum_{n=0}^{\\infty}(n-1) n p_{n}-k_{1} \\sum_{n=0}^{\\infty} n^{2} p_{n}+k_{2} v \\sum_{n=0}^{\\infty}(n+1) p_{n}-k_{2} v \\sum_{n=0}^{\\infty} n p_{n}\n",
    "$$\n",
    "\n",
    "Combining the terms:\n",
    "\n",
    "$$\n",
    "\\frac{\\mathrm{d} M}{\\mathrm{d} t}=-k_{1} \\sum_{n=0}^{\\infty} n p_{n}+k_{2} v \\sum_{n=0}^{\\infty} p_{n}\n",
    "$$\n",
    "\n",
    "since $\\sum_{n=0}^{\\infty} p_{n}(t)=1$, we finally arrive at **the evolution eqn.** for $M(t)$:\n",
    "\n",
    "$$\n",
    "\\frac{\\mathrm{d} M}{\\mathrm{d} t}=-k_{1} M+k_{2} v\n",
    "$$\n",
    "\n",
    "Thus, the solution for $M(t)$ is:\n",
    "\n",
    "$$\n",
    "M(t)=\\frac{k_{2} v}{k_{1}}+\\left(M(0)-\\frac{k_{2} v}{k_{1}}\\right) \\exp \\left(-k_{1} t\\right)\n",
    "$$\n",
    "\n",
    "To calculate the variance, we first write:\n",
    "\n",
    "$$\n",
    "\\begin{aligned} \\frac{\\mathrm{d}}{\\mathrm{d} t} \\sum_{n=0}^{\\infty} n^{2} p_{n}=k_{1} & \\sum_{n=0}^{\\infty} n^{2}(n+1) p_{n+1}-k_{1} \\sum_{n=0}^{\\infty} n^{3} p_{n} \\\\ &+k_{2} v \\sum_{n=1}^{\\infty} n^{2} p_{n-1}-k_{2} v \\sum_{n=0}^{\\infty} n^{2} p_{n} \\end{aligned}\n",
    "$$\n",
    "\n",
    "Again, change the indices $n+1 \\rightarrow n(\\text { resp. } n-1 \\rightarrow n)$ and we have:\n",
    "$$\n",
    "\\frac{\\mathrm{d}}{\\mathrm{d} t} \\sum_{n=0}^{\\infty} n^{2} p_{n}=k_{1} \\sum_{n=0}^{\\infty}\\left(-2 n^{2}+n\\right) p_{n}+k_{2} v \\sum_{n=0}^{\\infty}(2 n+1) p_{n}\n",
    "$$\n",
    "and,\n",
    "$$\n",
    "\\frac{\\mathrm{d} V}{\\mathrm{d} t}+2 M \\frac{\\mathrm{d} M}{\\mathrm{d} t}=-2 k_{1}\\left[V+M^{2}\\right]+k_{1} M+2 k_{2} v M+k_{2} v\n",
    "$$\n",
    "Substitute eqn. for $dM/dt$, we now derive **the evolution equation for the variance** $V(t)$:\n",
    "\n",
    "$$\n",
    "\\frac{\\mathrm{d} V}{\\mathrm{d} t}=-2 k_{1} V+k_{1} M+k_{2} v\n",
    "$$\n",
    "\n",
    "With the two evolution equation, we can calculate the **steady-state behavior**:\n",
    "$$\n",
    "0=-k_{1} M_{s}+k_{2} v \\quad \\text { and } \\quad 0=-2 k_{1} V_{s}+k_{1} M_{s}+k_{2} v\n",
    "$$\n",
    "Consequently,\n",
    "$$\n",
    "M_{s}=V_{s}=\\frac{k_{2} v}{k_{1}}\n",
    "$$\n",
    "\n",
    "More detailed information about the fluctuations is given by the so-called **stationary distribution** $\\phi(n), n=0,1,2,3, \\ldots,$ which is defined as:\n",
    "$$\n",
    "\\phi(n)=\\lim _{t \\rightarrow \\infty} p_{n}(t)\n",
    "$$\n",
    "\n",
    "One way to compute $\\phi(n)$ is to run the algorithm for a long time and compute the histogram of values of $A(t)$. An alternative way to compute $\\phi(n)$ is to **use the steady-state version of the chemical master equation,** namely:\n",
    "\n",
    "$$\n",
    "\\begin{array}{l}{0=k_{1} \\phi(1)-k_{2} v \\phi(0)} \\\\ {0=k_{1}(n+1) \\phi(n+1)-k_{1} n \\phi(n)+k_{2} v \\phi(n-1)-k_{2} v \\phi(n), \\quad \\text { for } n \\geq 1}\\end{array}\n",
    "$$\n",
    "Which implies,\n",
    "\n",
    "$$\n",
    "\\begin{aligned} \\phi(1) &=\\frac{k_{2} v}{k_{1}} \\phi(0) \\\\ \\phi(n+1) &=\\frac{1}{k_{1}(n+1)}\\left[k_{1} n \\phi(n)+k_{2} v \\phi(n)-k_{2} v \\phi(n-1)\\right], \\quad \\text { for } n \\geq 1 \\end{aligned}\n",
    "$$\n",
    "\n",
    "Because $\\sum_{n=0}^{\\infty} \\phi(n)=1$, we can **first set $\\phi(0)=1$ and compute $\\phi(n),$ for sufficiently many $n$. Then normalize by dividing each $\\phi(n)$ by $\\sum \\phi(n)$**. We can verify that the solution the the equations above can be written as:\n",
    "\n",
    "$$\n",
    "\\phi(n)=\\frac{1}{n !}\\left(\\frac{k_{2} v}{k_{1}}\\right)^{n} \\exp \\left[-\\frac{k_{2} v}{k_{1}}\\right]\n",
    "$$\n",
    "\n",
    "**Considering initial condition $A(0)=0$, we can also show that the time-dependent solution, $p_{n}(t),$ of the corresponding\n",
    "chemical master equation is given by the Poisson distribution with mean $M(t)$ for all times $t>0 .$**\n",
    "\n",
    "If we consider a general initial condition, where $M(0) \\neq V(0),$ then an analytical formula for $p_{n}(t)$ could be found using the approach of Jahnke and Huisinga $(2007)$ [here](https://link.springer.com/article/10.1007/s00285-006-0034-x). but it would **no longer be a simple Poisson distribution**."
   ]
  },
  {
   "cell_type": "code",
   "execution_count": 6,
   "metadata": {},
   "outputs": [],
   "source": [
    "import numpy as np\n",
    "from numpy.random import uniform\n",
    "%matplotlib inline\n",
    "import matplotlib.pyplot as plt\n",
    "plt.rcParams['figure.figsize'] = [10, 5]\n",
    "\n",
    "def degr_prod(A0, k1, k2v, T):\n",
    "    tlst = [0]\n",
    "    count = [A0]\n",
    "    while tlst[-1]<T:\n",
    "        r1,r2 = uniform(size=2)\n",
    "        if count[-1]==0:\n",
    "            a0 = k2v\n",
    "            p_prod = 1\n",
    "        else:\n",
    "            a0 = count[-1]*k1+k2v\n",
    "            p_prod = k2v/a0\n",
    "        tau = 1/a0*np.log(1/r1)\n",
    "        tlst.append(tau+tlst[-1])\n",
    "        if r2<p_prod:\n",
    "            count.append(count[-1]+1)\n",
    "        else:\n",
    "            count.append(count[-1]-1)\n",
    "            \n",
    "    return tlst,count"
   ]
  },
  {
   "cell_type": "code",
   "execution_count": 7,
   "metadata": {},
   "outputs": [
    {
     "data": {
      "text/plain": [
       "Text(0, 0.5, 'Concentration')"
      ]
     },
     "execution_count": 7,
     "metadata": {},
     "output_type": "execute_result"
    },
    {
     "data": {
      "image/png": "[encoded data removed]",
      "text/plain": [
       "<Figure size 720x360 with 1 Axes>"
      ]
     },
     "metadata": {
      "needs_background": "light"
     },
     "output_type": "display_data"
    }
   ],
   "source": [
    "Ainit = 0\n",
    "k_degr = 0.1\n",
    "k_prod = 1\n",
    "Tscal = 100 # in second\n",
    "tsim,csim = degr_prod(Ainit, k_degr, k_prod, Tscal)\n",
    "plt.step(tsim,csim)\n",
    "plt.xlabel('Time(s)')\n",
    "plt.ylabel('Concentration')"
   ]
  },
  {
   "cell_type": "markdown",
   "metadata": {},
   "source": [
    "**Now, let's check the stationary distribution**"
   ]
  },
  {
   "cell_type": "code",
   "execution_count": 17,
   "metadata": {},
   "outputs": [
    {
     "data": {
      "text/plain": [
       "<matplotlib.legend.Legend at 0x195ef174e88>"
      ]
     },
     "execution_count": 17,
     "metadata": {},
     "output_type": "execute_result"
    },
    {
     "data": {
      "image/png": "[encoded data removed]",
      "text/plain": [
       "<Figure size 720x360 with 1 Axes>"
      ]
     },
     "metadata": {
      "needs_background": "light"
     },
     "output_type": "display_data"
    }
   ],
   "source": [
    "from collections import Counter\n",
    "from scipy.special import factorial as f\n",
    "Tscal = 100000 # in second\n",
    "_,csim = degr_prod(Ainit, k_degr, k_prod, Tscal)\n",
    "cdict = Counter(csim)\n",
    "ckey = list(cdict.keys())\n",
    "cval = list(cdict.values())\n",
    "cval =np.array(cval)/np.sum(cval)\n",
    "analytical = [1/f(n)*((k_prod/k_degr)**n)*np.exp(-k_prod/k_degr) for n in range(max(ckey)+2)]\n",
    "plt.bar(ckey,cval)\n",
    "plt.plot(list(range(max(ckey)+2)),analytical,'r-',label='analytical')\n",
    "plt.xlabel('n')\n",
    "plt.ylabel('$\\phi(n)$')\n",
    "plt.legend()"
   ]
  }
 ],
 "metadata": {
  "kernelspec": {
   "display_name": "Python 3",
   "language": "python",
   "name": "python3"
  },
  "language_info": {
   "codemirror_mode": {
    "name": "ipython",
    "version": 3
   },
   "file_extension": ".py",
   "mimetype": "text/x-python",
   "name": "python",
   "nbconvert_exporter": "python",
   "pygments_lexer": "ipython3",
   "version": "3.7.4"
  }
 },
 "nbformat": 4,
 "nbformat_minor": 2
}
