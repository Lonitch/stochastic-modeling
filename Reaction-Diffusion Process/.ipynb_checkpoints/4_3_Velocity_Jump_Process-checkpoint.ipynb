{
 "cells": [
  {
   "cell_type": "markdown",
   "metadata": {},
   "source": [
    "## Overview\n",
    "\n",
    "In a velocity-jump processes, the particle position evolves according to the velocity, with the velocity subject to a stochastic process. A simple example of a diffusion model based on a velocity-jump process can be formulated as follows. We assume that **a particle moves along the x-axis at a constant speed s**. It can go either to the left or to the right. The diffusing particle reverses its direction at random instants of time. **The probability of turning in the infinitesimally small time interval $[t, t+\\mathrm{d} t)$ is equal to $\\lambda \\mathrm{d} t,$ where the turning frequency $\\lambda$ is given by:**\n",
    "\n",
    "$$\n",
    "\\lambda=\\frac{s^{2}}{2 D}\\text{---(1)}\n",
    "$$"
   ]
  },
  {
   "cell_type": "markdown",
   "metadata": {},
   "source": [
    "## Reformulated SSA\n",
    "\n",
    "We first formally  notice that $V(t)=\\pm s$, and $V(t)=\\frac{\\mathrm{d} X}{\\mathrm{d} t}(t)$. So we have:\n",
    "\n",
    "$$\n",
    "X(t+\\Delta t)=X(t)+V(t) \\Delta t \\text{---(2)}\n",
    "$$\n",
    "\n",
    "If the time step $\\Delta t$ is small enough (satisfying $\\lambda \\Delta t \\ll 1$ ), we can reformulate the above definition of the velocity-jump process as the following SSA. Starting with $X(0)=x_{0}$ and $V(0)=v_{0}$:\n",
    "\n",
    "1. Generate a random number r uniformly distributed in (0, 1).\n",
    "\n",
    "2. Compute the position of the molecule at time $t+\\Delta t$ by eqn.(2)\n",
    "\n",
    "3. If $r<\\lambda \\Delta t,$ then put $V(t+\\Delta t)=-V(t) .$ Otherwise, $V(t+\\Delta t)=V(t)$\n",
    "\n",
    "4. Then continue with step $1$ for time $t+\\Delta t .$\n",
    "\n",
    "Instead, we can calculate **the time of the next turn directly using only one random number**. Assuming that the diffusing particle turned at time t, we can compute the time of its next turn as $t+\\tau$ by:\n",
    "\n",
    "$$\n",
    "\\tau=\\frac{1}{\\lambda} \\ln \\left[\\frac{1}{r}\\right]\\text{---(3)}\n",
    "$$\n",
    "\n",
    "since the particle velocity is equal to $V(t)$ in the interval $[t, t+\\tau)$ we compute its position at time $t+\\tau$ by\n",
    "\n",
    "$$\n",
    "X(t+\\tau)=X(t)+V(t) \\tau\\text{---(4)}\n",
    "$$\n",
    "\n",
    "Thus, we derived the following SSA. Starting with the initial conditions $X(0)=$$x_{0}$ and $V(0)=v_{0},$ we perform three steps at time $t$ :\n",
    "\n",
    "1.  Generate a random number $r$ uniformly distributed in $(0,1) .$\n",
    "\n",
    "2. Compute the time of the next turn of the molecule as $t+\\tau,$ where $\\tau$ is given by $(3) .$\n",
    "\n",
    "3. Compute the position of the molecule at time $t+\\tau$ by $(4) .$ Put $V(t+\\tau)=-V(t)$.\n",
    "\n",
    "4. Then continue with step (a11) for time $t+\\tau .$"
   ]
  },
  {
   "cell_type": "code",
   "execution_count": 1,
   "metadata": {},
   "outputs": [],
   "source": [
    "import numpy as np\n",
    "from numpy.random import uniform\n",
    "\n",
    "def jump_vel1(lam,ttot,x0,v0):\n",
    "    v = v0\n",
    "    xlst = [x0]\n",
    "    tlst = [0]\n",
    "    while tlst[-1]<ttot:\n",
    "        r = uniform()\n",
    "        tau = 1/lam*np.log(1/r)\n",
    "        xlst.append(xlst[-1]+v*tau)\n",
    "        tlst.append(tlst[-1]+tau)\n",
    "        v = -v\n",
    "    return tlst,xlst"
   ]
  },
  {
   "cell_type": "code",
   "execution_count": 14,
   "metadata": {},
   "outputs": [],
   "source": [
    "LAM = 10**8/(2*10**-4) # lambda=s^2/2D\n",
    "T = 10**-9 #1 ns\n",
    "X0=0\n",
    "V0=10**4 #s\n",
    "x,y = jump_vel1(LAM,T,X0,V0)"
   ]
  },
  {
   "cell_type": "code",
   "execution_count": 15,
   "metadata": {},
   "outputs": [
    {
     "data": {
      "text/plain": [
       "Text(0, 0.5, 'x[nm]')"
      ]
     },
     "execution_count": 15,
     "metadata": {},
     "output_type": "execute_result"
    },
    {
     "data": {
      "image/png": "[encoded data removed]",
      "text/plain": [
       "<Figure size 432x288 with 1 Axes>"
      ]
     },
     "metadata": {
      "needs_background": "light"
     },
     "output_type": "display_data"
    }
   ],
   "source": [
    "y=np.array(y)*10**6\n",
    "x=np.array(x)*10**9\n",
    "%matplotlib inline\n",
    "import matplotlib.pyplot as plt\n",
    "plt.plot(x,y)\n",
    "plt.xlabel('time[ns]')\n",
    "plt.ylabel('x[nm]')"
   ]
  },
  {
   "cell_type": "markdown",
   "metadata": {},
   "source": [
    "## Justify Equation (1)\n",
    "\n",
    "Let $p^{+}(x, t)$ d $x$ be the probability that $X(t) \\in[x, x+d x)$ and $V(t)=s$ and let $p^{-}(x, t) \\mathrm{d} x$ be the probability that $X(t) \\in[x, x+d x)$ and $V(t)=-s .$ There are two possible ways for $X(t+\\Delta t)$ to be in the interval $[x, x+d x)$ and moving to the right: either $X(t) \\in[x-s \\Delta t, x-s \\Delta t+d x)$,$V(t)=s$ and the particle did not turn, or $X(t) \\in[x+s \\Delta t, x+$$s \\Delta t+\\mathrm{d} x), V(t)=-s$ and the particle did turn. Thus we have:\n",
    "\n",
    "$$\n",
    "\\begin{array}{l}{p^{+}(x, t+\\Delta t) \\mathrm{d} x} \\\\ {\\quad=p^{+}(x-s \\Delta t, t) \\mathrm{d} x \\times(1-\\lambda \\Delta t)+p^{-}(x+s \\Delta t, t) \\mathrm{d} x \\times \\lambda \\Delta t}\\end{array}\\text{---(5)}\n",
    "$$\n",
    "\n",
    "By Taylor expansion,\n",
    "$$\n",
    "\\begin{aligned} p^{+}(x, t+\\Delta t) &=p^{+}(x, t)+\\Delta t \\frac{\\partial p^{+}}{\\partial t}(x, t)+o\\left(\\Delta t^{2}\\right) \\\\ p^{+}(x-s \\Delta t, t) &=p^{+}(x, t)-s \\Delta t \\frac{\\partial p^{+}}{\\partial x}(x, t)+o\\left(\\Delta t^{2}\\right) \\\\ p^{-}(x+s \\Delta t, t) &=p^{-}(x, t)+o(\\Delta t) \\end{aligned}\n",
    "$$\n",
    "substituting into (5):\n",
    "$$\n",
    "\\frac{\\partial p^{+}}{\\partial t}+s \\frac{\\partial p^{+}}{\\partial x}=-\\lambda p^{+}+\\lambda p^{-}\\text{---(6)}\n",
    "$$\n",
    "\n",
    "Similarly, we derive the evolution equation for $p^{-}(x, t)$ as\n",
    "$$\n",
    "\\frac{\\partial p^{-}}{\\partial t}-s \\frac{\\partial p^{-}}{\\partial x}=\\lambda p^{+}-\\lambda p^{-}\\text{---(7)}\n",
    "$$\n",
    "\n",
    "Now suppose we are interested only in the position of the molecules, we have:\n",
    "\n",
    "$$\n",
    "p(x, t)=p^{+}(x, t)+p^{-}(x, t)\n",
    "$$\n",
    "\n",
    "By adding and subtracting (6) and (7), we get:\n",
    "\n",
    "$$\n",
    "\\begin{array}{c}{\\frac{\\partial p}{\\partial t}+s \\frac{\\partial q}{\\partial x}=0}\\text{---(8)} \\\\ {\\frac{\\partial q}{\\partial t}+s \\frac{\\partial p}{\\partial x}=-2 \\lambda q}\\text{---(9)}\\end{array}\n",
    "$$\n",
    "Eliminating q by differentiating (8) with respect to x, and using (9), we obtain the **telegraph equation** for $p$:\n",
    "\n",
    "$$\n",
    "\\frac{1}{2 \\lambda} \\frac{\\partial^{2} p}{\\partial t^{2}}+\\frac{\\partial p}{\\partial t}=\\frac{s^{2}}{2 \\lambda} \\frac{\\partial^{2} p}{\\partial x^{2}}\n",
    "$$\n",
    "\n",
    "it can be shown (Zauderer, 1983; Karch,2000) that the long-time behaviour of solutions of this equation satisfies the parabolic equation:\n",
    "\n",
    "$$\n",
    "\\frac{\\partial p}{\\partial t}=\\frac{s^{2}}{2 \\lambda} \\frac{\\partial^{2} p}{\\partial x^{2}}\n",
    "$$\n",
    "\n",
    "which is obtained by simply dropping the first term. This approximation is good for times $t \\gg 1 / 2 \\lambda$ (which is what we mean by \"long-time\" above).\n",
    "\n",
    "Now, it is obvious to establish:\n",
    "\n",
    "$$\n",
    "D=\\frac{s^{2}}{2 \\lambda}\n",
    "$$"
   ]
  },
  {
   "cell_type": "markdown",
   "metadata": {},
   "source": [
    "## Velocity Jump Process with Any Real-valued Velocity\n",
    "\n",
    "To evolve the position and the velocity, we use the following formula:\n",
    "\n",
    "$$\n",
    "\\begin{array}{l}{X(t+\\Delta t)=X(t)+V(t) \\Delta t}\\text{---(10)} \\\\ {V(t+\\Delta t)=V(t)-\\beta V(t) \\Delta t+\\beta \\sqrt{2 D \\Delta t} \\xi}\\text{---(11)}\\end{array}\n",
    "$$\n",
    "\n",
    "where $\\beta$ is the **friction coefficient.** The eqn.(11) can be interpreted as Newton's second law of motion in the following sense: \n",
    "\n",
    "- The rate of change of momentum is proportional to the net force on the diffusing particle.\n",
    "\n",
    "- This force has two components: a deterministic friction and a random forcing corresponding to collisions by surrounding (solvent) molecules.\n",
    "\n",
    "We now consider the limit $\\beta \\rightarrow \\infty$ in the probability distribution. To that end we let $f(x, v, t)$ be the probability density that the diffusing molecule is at the position $x$ with the velocity $v$ at time $t,$ i.e. $f(x, v, t) \\mathrm{d} x \\mathrm{d} v$ is\n",
    "the probability that $X(t) \\in[x, x+\\mathrm{d} x]$ with vith vith velocity between $v$ and $v+\\mathrm{d} v$ at time $t .$ And $f$ satisfies the PDE:\n",
    "\n",
    "$$\n",
    "\\frac{\\partial f}{\\partial t}+v \\frac{\\partial f}{\\partial x}=\\beta \\frac{\\partial}{\\partial v}\\left(v f+\\beta D \\frac{\\partial f}{\\partial v}\\right)\n",
    "$$\n",
    "\n",
    "This PDE is often called the **position–velocity Fokker–Planck equation**. The probability density for finding a diffusing molecule at the point x at time t (with any\n",
    "velocity) is given by integrating $f$ over all possible velocities:\n",
    "\n",
    "$$\n",
    "p(x, t)=\\int_{\\mathbb{R}} f(x, v, t) \\mathrm{d} v\n",
    "$$\n",
    "\n",
    "We hope to derive the diffusion equation for $p$ in the limit that $\\beta$ is large. To this end we rescale the velocity variable by setting:\n",
    "\n",
    "$$\n",
    "\\begin{array}{l}{v=\\eta \\sqrt{\\beta}, \\quad \\bar{f}(x, \\eta, t)=f(x, v, t)} \\\\ {\\frac{1}{\\beta} \\frac{\\partial \\bar{f}}{\\partial t}+\\frac{1}{\\sqrt{\\beta}} \\eta \\frac{\\partial \\bar{f}}{\\partial x}=\\frac{\\partial}{\\partial \\eta}\\left(\\eta \\bar{f}+D \\frac{\\partial \\bar{f}}{\\partial \\eta}\\right)}\\text{---(12)}\\end{array}\n",
    "$$\n",
    "\n",
    "**We now expand $\\bar{f}$ in inverse powers of $\\sqrt{\\beta}$ as**\n",
    "$$\n",
    "\\bar{f}(x, \\eta, t)=f_{0}(x, \\eta, t)+\\frac{1}{\\sqrt{\\beta}} f_{1}(x, \\eta, t)+\\frac{1}{\\beta} f_{2}(x, \\eta, t)+\\cdots\\text{---(13)}\n",
    "$$\n",
    "\n",
    "Substitutinh(13) into (12), we have the following PDE system:\n",
    "\n",
    "$$\n",
    "\\begin{aligned} \\frac{\\partial}{\\partial \\eta}\\left(\\eta f_{0}+D \\frac{\\partial f_{0}}{\\partial \\eta}\\right) &=0 \\text{---(14)}\\\\ \\frac{\\partial}{\\partial \\eta}\\left(\\eta f_{1}+D \\frac{\\partial f_{1}}{\\partial \\eta}\\right) &=\\eta \\frac{\\partial f_{0}}{\\partial x} \\text{---(15)}\\\\ \\frac{\\partial}{\\partial \\eta}\\left(\\eta f_{2}+D \\frac{\\partial f_{2}}{\\partial \\eta}\\right) &=\\eta \\frac{\\partial f_{1}}{\\partial x}+\\frac{\\partial f_{0}}{\\partial t}\\text{---(16)} \\end{aligned}\n",
    "$$\n",
    "\n",
    "Solving $f_0$, we get:\n",
    "\n",
    "$$\n",
    "f_{0}(x, \\eta, t)=\\varrho(x, t) \\exp \\left[-\\frac{\\eta^{2}}{2 D}\\right]\\text{---(17)}\n",
    "$$\n",
    "\n",
    "where the function $\\varrho(x, t)$ is independent of $\\eta$. Since $f_{0}$ has separated into a function of position multiplied by a function of velocity, we see that **in the limit $\\beta \\rightarrow \\infty$ the position and velocity of a particle are independent.** Introducing the normalization constant, **we see that velocities are distributed according to the\n",
    "distribution function**:\n",
    "\n",
    "$$\n",
    "\\frac{1}{\\sqrt{2 D \\beta \\pi}} \\exp \\left[-\\frac{v^{2}}{2 D \\beta}\\right]\n",
    "$$\n",
    "\n",
    "And we just got **Maxwell’s velocity distribution**."
   ]
  },
  {
   "cell_type": "markdown",
   "metadata": {},
   "source": [
    "Proceeding with (15) to give:\n",
    "\n",
    "$$\n",
    "f_{1}(x, \\eta, t)=-\\frac{\\partial \\varrho}{\\partial x}(x, t) \\eta \\exp \\left[-\\frac{\\eta^{2}}{2 D}\\right]\\text{---(18)}\n",
    "$$\n",
    "Substituting (18),(17) into (16), we obtain:\n",
    "\n",
    "$$\n",
    "\\frac{\\partial}{\\partial \\eta}\\left(\\eta f_{2}+D \\frac{\\partial f_{2}}{\\partial \\eta}\\right)=-\\frac{\\partial^{2} \\varrho}{\\partial x^{2}} \\eta^{2} \\exp \\left[-\\frac{\\eta^{2}}{2 D}\\right]+\\frac{\\partial \\varrho}{\\partial t} \\exp \\left[-\\frac{\\eta^{2}}{2 D}\\right]\n",
    "$$\n",
    "\n",
    "Now integrating over $\\eta$ and using the fact that $f_{2} \\rightarrow 0$ as $\\eta \\rightarrow \\pm \\infty$ gives the solvability condition\n",
    "\n",
    "$$\n",
    "\\frac{\\partial \\varrho}{\\partial t}=D \\frac{\\partial^{2} \\varrho}{\\partial x^{2}}\n",
    "$$"
   ]
  },
  {
   "cell_type": "code",
   "execution_count": null,
   "metadata": {},
   "outputs": [],
   "source": []
  }
 ],
 "metadata": {
  "kernelspec": {
   "display_name": "Python 3",
   "language": "python",
   "name": "python3"
  },
  "language_info": {
   "codemirror_mode": {
    "name": "ipython",
    "version": 3
   },
   "file_extension": ".py",
   "mimetype": "text/x-python",
   "name": "python",
   "nbconvert_exporter": "python",
   "pygments_lexer": "ipython3",
   "version": "3.7.4"
  }
 },
 "nbformat": 4,
 "nbformat_minor": 2
}
