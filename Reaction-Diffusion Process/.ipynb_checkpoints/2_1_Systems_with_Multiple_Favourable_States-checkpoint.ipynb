{
 "cells": [
  {
   "cell_type": "markdown",
   "metadata": {},
   "source": [
    "The following system, first considered by Schlögl (1972), has two favourable states.\n",
    "$$\n",
    "3 A \\overset{k_1}{\\underset{k_2}\\leftrightarrow} 2 A\n",
    "$$\n",
    "$$\n",
    "A \\overset{k_3}{\\underset{k_4}\\longleftrightarrow}\\emptyset\n",
    "$$\n",
    "The (approximate) deterministic ODE/model can be written for the concentration $a(t)$ as\n",
    "$$\n",
    "\\frac{\\mathrm{d} a}{\\mathrm{d} t}=-k_{1} a^{3}+k_{2} a^{2}-k_{3} a+k_{4}\n",
    "$$\n",
    "To solve steady-state solution, we first write $\\bar{A}(t)=a(t) v$ to give:\n",
    "$$\n",
    "\\frac{\\mathrm{d} \\bar{A}}{\\mathrm{d} t}=-\\frac{k_{1}}{v^{2}} \\bar{A}^{3}+\\frac{k_{2}}{v} \\bar{A}^{2}-k_{3} \\bar{A}+k_{4} v\n",
    "$$\n",
    "and\n",
    "$$\n",
    "-\\left(k_{1} / v^{2}\\right) \\bar{A}^{3}+\\left(k_{2} / v\\right) \\bar{A}^{2}-k_{3} \\bar{A}+k_{4} v=0\n",
    "$$\n",
    "We choose the rate constants to be $k_{1} / v^{2}=2.5 \\times 10^{-4} \\min ^{-1}, k_{2} / v=0.18 \\mathrm{min}^{-1},$ $k_{3}=37.5 \\mathrm{min}^{-1}$ and $k_{4} v=2200 \\mathrm{min}^{-1} .$ Then, we find that $$\n",
    "\\bar{A}_{s 1}=100, \\quad \\bar{A}_{u}=220 \\quad \\text { and } \\quad \\bar{A}_{s 2}=400\n",
    "$$\n",
    "$\\bar{A}_{s 1}$ and $\\bar{A}_{s 2}$ **are stable steady states and $\\bar{A}_{u}$ is an unstable steady state**. **The solution of the ODE converges to one of the steady states, with the choice of the steady state dependent on the initial condition.**\n",
    "\n",
    "If the initial condition $\\bar{A}(0)$ satisfies $\\bar{A}(0) \\in\\left[0, \\bar{A}_{u}\\right),$ then the solution converges to the stable steady state $\\bar{A}_{s 1}=100 .$ If $\\bar{A}(0)>\\bar{A}_{u}$ then the solution converges to the second stable steady state $\\bar{A}_{s 2}=400$\n",
    "\n",
    "The following implementation shows **periodic fluctuations,which is missed by the deterministic description**. "
   ]
  },
  {
   "cell_type": "code",
   "execution_count": 1,
   "metadata": {},
   "outputs": [],
   "source": [
    "import numpy as np\n",
    "from numpy.random import uniform\n",
    "from scipy.integrate import odeint\n",
    "\n",
    "def favorStat(k1,k2,k3,k4,v,T,A0=0):\n",
    "    ct = [A0]\n",
    "    tlst = [0]\n",
    "    a4 = k4*v\n",
    "    responds = {0:-1,1:+1,2:-1,3:+1}\n",
    "    while tlst[-1]<T:\n",
    "        a3 = ct[-1]*k3\n",
    "        if ct[-1]>2:\n",
    "            a1 = ct[-1]*(ct[-1]-1)*(ct[-1]-2)*k1/v**2\n",
    "        else:\n",
    "            a1 = 0\n",
    "        if ct[-1]>1:\n",
    "            a2 = ct[-1]*(ct[-1]-1)*k2/v\n",
    "        else:\n",
    "            a2 = 0\n",
    "        a = a1+a2+a3+a4\n",
    "        plst = np.cumsum([a1,a2,a3,a4])/a\n",
    "        r1,r2 = uniform(size=2)\n",
    "        tau = 1/a*np.log(1/r1)\n",
    "        tlst.append(tlst[-1]+tau)\n",
    "        dA=responds[sum(plst<r2)]\n",
    "        ct.append(ct[-1]+dA)\n",
    "    return tlst,ct\n",
    "\n",
    "def solvODE(k1,k2,k3,k4,v,T):\n",
    "    p1,p2,p3,p4=-k1/v**2,k2/v,-k3,k4*v\n",
    "    \n",
    "    def func(a,t,f1,f2,f3,f4):\n",
    "        return f1*a**3+f2*a**2+f3*a+f4\n",
    "    \n",
    "    tt = np.linspace(0, T, 1000)\n",
    "    sol = odeint(func, 0, tt, args=(p1,p2,p3,p4))\n",
    "    return tt,sol[:,0]"
   ]
  },
  {
   "cell_type": "code",
   "execution_count": 5,
   "metadata": {},
   "outputs": [],
   "source": [
    "V=1\n",
    "K1=0.00025\n",
    "K2=0.18\n",
    "K3=37.5\n",
    "K4=2200\n",
    "T=100\n",
    "simt,simct = favorStat(K1,K2,K3,K4,V,T)\n",
    "odet,odect = solvODE(K1,K2,K3,K4,V,T)"
   ]
  },
  {
   "cell_type": "code",
   "execution_count": 9,
   "metadata": {},
   "outputs": [
    {
     "data": {
      "text/plain": [
       "<matplotlib.legend.Legend at 0x26c85b3d188>"
      ]
     },
     "execution_count": 9,
     "metadata": {},
     "output_type": "execute_result"
    },
    {
     "data": {
      "image/png": "[encoded data removed]",
      "text/plain": [
       "<Figure size 432x288 with 1 Axes>"
      ]
     },
     "metadata": {
      "needs_background": "light"
     },
     "output_type": "display_data"
    }
   ],
   "source": [
    "%matplotlib inline\n",
    "import matplotlib.pyplot as plt\n",
    "\n",
    "plt.plot(simt,simct,'b-',label='Simulation')\n",
    "plt.plot(odet,odect,'r-',linewidth=2,label='ODE')\n",
    "plt.xlabel('Time')\n",
    "plt.ylabel('A(t)')\n",
    "plt.legend(loc='upper left')"
   ]
  },
  {
   "cell_type": "markdown",
   "metadata": {},
   "source": [
    "**The fluctuation missed by ODE is shown above**"
   ]
  },
  {
   "cell_type": "markdown",
   "metadata": {},
   "source": [
    "## Master equation\n",
    "Let $p_{n}(t)$ be the probability that there are $n$ molecules of $A$ at time $t$ in the system, we have the following equation:\n",
    "$$\n",
    "\\begin{aligned} \\frac{\\mathrm{d} p_{n}}{\\mathrm{d} t}=&\\left(k_{1} / v^{2}\\right)(n+1) n(n-1) p_{n+1}-\\left(k_{1} / v^{2}\\right) n(n-1)(n-2) p_{n} \\\\ &+\\left(k_{2} / v\\right)(n-1)(n-2) p_{n-1}-\\left(k_{2} / v\\right) n(n-1) p_{n} \\\\ &+k_{3}(n+1) p_{n+1}-k_{3} n p_{n}+k_{4} v p_{n-1}-k_{4} v p_{n} \\end{aligned}\n",
    "$$\n",
    "with $\\frac{\\mathrm{d} p_{n}}{\\mathrm{d} t}=0$, we have the stationary distribution:\n",
    "$$\n",
    "\\phi(n)=\\phi(0) \\prod_{i=0}^{n-1} \\frac{\\left(k_{2} / v\\right) i(i-1)+k_{4} v}{\\left(k_{1} / v^{2}\\right)(i+1) i(i-1)+k_{3}(i+1)}\n",
    "$$"
   ]
  }
 ],
 "metadata": {
  "kernelspec": {
   "display_name": "Python 3",
   "language": "python",
   "name": "python3"
  },
  "language_info": {
   "codemirror_mode": {
    "name": "ipython",
    "version": 3
   },
   "file_extension": ".py",
   "mimetype": "text/x-python",
   "name": "python",
   "nbconvert_exporter": "python",
   "pygments_lexer": "ipython3",
   "version": "3.7.4"
  }
 },
 "nbformat": 4,
 "nbformat_minor": 2
}
