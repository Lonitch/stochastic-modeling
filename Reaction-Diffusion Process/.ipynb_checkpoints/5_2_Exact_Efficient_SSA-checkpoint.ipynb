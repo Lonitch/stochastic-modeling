{
 "cells": [
  {
   "cell_type": "markdown",
   "metadata": {},
   "source": [
    "## First-reaction SSA Algorithm\n",
    "\n",
    "First reaction method is often less efficient than the Gillespie SSA, but it can be transformed to the more efficient next-reaction exact SSA.\n",
    "\n",
    "Suppose we have a system of $q$ chemical reactions. Let $\\alpha_{i}(t)$ be the propensity function of the $i$ th chemical reaction, $i=1,2, \\ldots, q,$ at time $t,$ that\n",
    "is, $\\alpha_{i}(t) \\mathrm{d} t$ is the probability that the $i$ th reaction occurs in the time interval $[t, t+\\mathrm{d} t) .$ Then the first-reaction SSA consists of the following four steps at time $t:$\n",
    "\n",
    "1. Generate $q$ random numbers $r_{1}, r_{2}, \\ldots, r_{q}$ uniformly distributed in the interval $(0,1) .$\n",
    "\n",
    "2. Compute the propensity function $\\alpha_{i}(t)$ of each reaction and the tentative reaction time $\\tau_{i}$ by\n",
    "$$\n",
    "\\tau_{i}=\\frac{1}{\\alpha_{i}(t)} \\ln \\left[\\frac{1}{r_{i}}\\right], \\quad i=1,2, \\ldots, q\\text{---(1)}\n",
    "$$\n",
    "\n",
    "3. Find $j$ which is the index of $\\min \\left\\{\\tau_{1}, \\tau_{2}, \\ldots, \\tau_{q}\\right\\} .$ Compute the time when the next chemical reaction takes place as $t+\\tau_{j} .$\n",
    "\n",
    "4. It is the $j$ th reaction that occurs at time $t+\\tau_{j},$ so update numbers of reactants and products of the $j$ th reaction.\n",
    "\n",
    "5. return to 1"
   ]
  },
  {
   "cell_type": "markdown",
   "metadata": {},
   "source": [
    "## Next-reaction SSAs\n",
    "\n",
    "In every time step of the first-reaction $\\mathrm{SSA}$ above, we use $q$ uniformly distributed random numbers to compute the times $\\tau_{i}$ by $(1) .$ Only the smallest one $\\left(\\tau_{j}\\right)$ is actually used for updating the system. Let us consider the remaining times $\\tau_{i}, i \\neq j .$ By virtue of $(1),$ they all satisfy:\n",
    "$$\n",
    "\\begin{array}{c}{\\tau_{j} \\leq \\tau_{i}, \\quad \\text { for } i=1,2, \\ldots, q} \\\\ {r_{i}=\\exp \\left[-\\alpha_{i}(t) \\tau_{i}\\right]}\\end{array}\n",
    "$$\n",
    "Consequently, the $r_{i}, i \\neq j,$ satisfy\n",
    "$$\n",
    "r_{i}=\\exp \\left[-\\alpha_{i}(t) \\tau_{i}\\right] \\leq \\exp \\left[-\\alpha_{i}(t) \\tau_{j}\\right], \\quad \\text { for } i=1,2, \\ldots, q\n",
    "$$\n",
    "Thus $r_{i}, i \\neq j,$ is a random number uniformly distributed in the interval\n",
    "\n",
    "$$\n",
    "\\left(0, \\exp \\left[-\\alpha_{i}(t) \\tau_{j}\\right]\\right)\n",
    "$$\n",
    "\n",
    "Consequently,\n",
    "\n",
    "$$\n",
    "\\bar{r}_{i}=r_{i} \\exp \\left[\\alpha_{i}(t) \\tau_{j}\\right]=\\exp \\left[\\alpha_{i}(t)\\left(\\tau_{j}-\\tau_{i}\\right)\\right]\n",
    "$$\n",
    "\n",
    "**is a random number uniformly distributed in the interval (0, 1).** The number $r_{i}$ can be used in the next time step to evaluate the formula (1).\n",
    "\n",
    "Let us denote the tentative times at the time $t_{old}=t$ as $\\tau_{i,old}$ and the tentative time at the time $t_{new}=t+\\tau_{j}$ as $\\tau_{i,new}$. Let $\\alpha_{i,old}$(resp. $\\alpha_{i,new}$) be the propensity function of the $i$th chemical reaction at time $t_{old}$ (resp. $t_{new}$). Using $\\bar{r}_i$ in (1) at time $t_{new}$, we obtain:\n",
    "\n",
    "$$\n",
    "\\begin{aligned} \\tau_{i, \\text { new }} &=\\frac{1}{\\alpha_{i, \\text { new }}} \\ln \\left[\\frac{1}{\\bar{r}_{i}}\\right]=\\frac{1}{\\alpha_{i, \\text { new }}} \\ln \\left[\\frac{1}{\\exp \\left[\\alpha_{i, \\text { old }}\\left(\\tau_{j}-\\tau_{\\text {i,old}}\\right)\\right]}\\right] \\\\ &=\\frac{\\alpha_{\\text {i,old}}}{\\alpha_{\\text {i, new }}}\\left(\\tau_{\\text {i,old}}-\\tau_{j}\\right), \\quad \\text { for } i=1,2, \\ldots, q, i \\neq j \\end{aligned}\\text{---(2)}\n",
    "$$\n",
    "\n",
    "Consequently, instead of generating a new set of random numbers, we can transform the old set of tentative times $\\tau_{i, old}$ to the new set of tentative times $\\tau_{i, n e w}$ by the formula (2). To use this formula efficiently, we rewrite it in terms of the absolute tentative times $t_{i}$ of the occurrence of the $i$ th reaction. The absolute tentative times $t_{i}$ are related to the relative tentative times $\\tau_{i}$ by\n",
    "$$\n",
    "t_{i}=t+\\tau_{i}, \\quad i=1,2, \\ldots, q\n",
    "$$\n",
    "where $t$ is the time for which the relative tentative times were generated. In particular, we denote\n",
    "$$\n",
    "t_{i, \\text { new }}=t_{\\text {new }}+\\tau_{i, \\text { new }} \\quad \\text { and } \\quad t_{i, \\text { old }}=t_{\\text {old }}+\\tau_{i, \\text { old }}\\text{---(3)}\n",
    "$$\n",
    "\n",
    "The equation(3) implies that we only need to recompute the absolute tentative times only if the value of the propensity function changes as a consequence of the occurrence of the $j$th chemical reaction. To make use of this observation, we can define a so-called **dependency graph**. This is a data structure that tells us precisely which propensity function $\\alpha_i$ should change when a given reaction occurs. Each reaction is a node in the graph. A directed edge $j \\rightarrow$ i connects the $j$ th node to the $i$ th node if and only if the execution of the $j$ th reaction affects the reactants of the $i$ th reaction. The dependency graph can be constructed prior to the stochastic simulation. Then the next-reaction SSA can be formulated as follows. \n",
    "\n",
    "0. We generate $q$ random numbers $r_{1}, r_{2}, \\ldots, r_{q}$ uniformly distributed in $(0,1)$ and we compute the initial absolute tentative times $t_{i}$ by\n",
    "$$\n",
    "t_{i}=\\frac{1}{\\alpha_{i}(0)} \\ln \\left[\\frac{1}{r_{i}}\\right], \\quad i=1,2, \\ldots, q\n",
    "$$\n",
    "\n",
    "1. Find $j$ such that $t_{j}=\\min \\left\\{t_{1}, t_{2}, \\ldots, t_{q}\\right\\} .$ It is the $j$ th reaction which occurs at time $t_{j},$ so set the current time as $t=t_{j}$ and update numbers of reactants and products of the jth reaction.\n",
    "\n",
    "2. For each edge $j \\rightarrow i, 2, \\ldots, q, i \\neq j,$ in the dependency graph, compute the new value of the propensity function $\\alpha_{i}(t)$ and transform the absolute tentative time by the formula\n",
    "$$\n",
    "t_{i}=t+\\frac{\\alpha_{i, \\text { old }}}{\\alpha_{i}(t)}\\left(t_{i, \\text { old }}-t\\right)\n",
    "$$\n",
    "where $t_{i, \\text { old }}$ and $\\alpha_{\\text {i,old }}$ are the old values of the absolute tentative time and propensity function of the ith reaction, respectively.\n",
    "\n",
    "3. Generate one random number r uniformly distributed in (0, 1). Compute the propensity function αj(t) and the absolute tentative time $t_{j}$ of the $j$ th chemical reaction by \n",
    "$$\n",
    "t_{j}=t+\\frac{1}{\\alpha_{j}(t)} \\ln \\left[\\frac{1}{r}\\right]\n",
    "$$\n",
    "\n",
    "4. Go back to 1"
   ]
  },
  {
   "cell_type": "code",
   "execution_count": 62,
   "metadata": {},
   "outputs": [],
   "source": [
    "import numpy as np\n",
    "from numpy.random import uniform\n",
    "# Implement the next-reaction SSA for the system described in notebook(5.1), but with different kinetic coefficients\n",
    "\n",
    "class node:\n",
    "    def __init__(self, k, n, order):\n",
    "        self.k = k\n",
    "        if order>=0:\n",
    "            self.propold = k*n[order]\n",
    "            self.propnew = k*n[order]\n",
    "        else:\n",
    "            self.propold=k\n",
    "            self.propnew=k\n",
    "        self.order = order\n",
    "        self.next = []\n",
    "    def advance(self, val):\n",
    "        if self.order>=0:\n",
    "            self.propnew = self.k*val[self.order]\n",
    "    def sync(self):\n",
    "        self.propold = self.propnew\n",
    "        \n",
    "K1,K2,K3,K4=1,2,2,1\n",
    "X0=[0,0,0] # Non-zero initial condition\n",
    "\n",
    "# Build dependency graph\n",
    "def graph_builder(k1,k2,k3,k4,x0):\n",
    "    R1 = node(k1,x0,-1)\n",
    "    R2 = node(k2,x0,0)\n",
    "    R3 = node(k3,x0,1)\n",
    "    R4 = node(k4,x0,1)\n",
    "    R1.next = [R2]\n",
    "    R2.next = [R3,R4]\n",
    "    R3.next = [R4]\n",
    "    R4.next = [R3]\n",
    "    return [R1,R2,R3,R4]\n",
    "\n",
    "def nrSSA(graph,ttot,x0):\n",
    "    responds={0:[1,0,0],1:[-1,1,0],2:[1,-1,0],3:[0,-1,1]}\n",
    "    a,b,c=x0\n",
    "    rs = uniform(size=4)\n",
    "    t = np.zeros(len(graph))\n",
    "    for i, g in enumerate(graph):\n",
    "        if g.propold>0:\n",
    "            t[i] = 1/g.propold*np.log(1/rs[i])\n",
    "        else:\n",
    "            t[i]=10*ttot\n",
    "    cur = np.argmin(t)\n",
    "    while min(t)<ttot:\n",
    "        a+=responds[cur][0]\n",
    "        b+=responds[cur][1]\n",
    "        c+=responds[cur][2]\n",
    "        if any(el<0 for el in [a,b,c]):\n",
    "            # Debugging\n",
    "            print(\"!!!a:{},b:{},c:{}\".format(a,b,c))\n",
    "            print(\"!!!t1:{},t2:{},t3:{},t4:{}\".format(*t))\n",
    "            break\n",
    "        graph[cur].advance([a,b,c])\n",
    "        graph[cur].sync()\n",
    "        for g in graph[cur].next:\n",
    "            g.advance([a,b,c])\n",
    "            \n",
    "            if g.propnew>0:\n",
    "                t[g.order+1]=t[cur]+g.propold/g.propnew*(t[g.order+1]-t[cur])\n",
    "            else:\n",
    "                t[g.order+1]=10*ttot\n",
    "            g.sync()\n",
    "        if graph[cur].propnew>0:\n",
    "            t[cur] = t[cur]+1/graph[cur].propnew*np.log(1/uniform())\n",
    "        else:\n",
    "            t[cur]=10*ttot\n",
    "        cur = np.argmin(t)\n",
    "    return [a,b,c]"
   ]
  },
  {
   "cell_type": "code",
   "execution_count": 63,
   "metadata": {},
   "outputs": [],
   "source": [
    "rep = 1000\n",
    "T = 50\n",
    "alst = []\n",
    "blst = []\n",
    "clst = []\n",
    "for i in range(rep):\n",
    "    temp = nrSSA(graph_builder(K1,K2,K3,K4,X0),T,X0)\n",
    "    alst.append(temp[0])\n",
    "    blst.append(temp[1])\n",
    "    clst.append(temp[2])"
   ]
  },
  {
   "cell_type": "code",
   "execution_count": 64,
   "metadata": {},
   "outputs": [
    {
     "data": {
      "text/plain": [
       "Text(0, 0.5, 'Pr{A(50)=n}')"
      ]
     },
     "execution_count": 64,
     "metadata": {},
     "output_type": "execute_result"
    },
    {
     "data": {
      "image/png": "[encoded data removed]",
      "text/plain": [
       "<Figure size 432x288 with 1 Axes>"
      ]
     },
     "metadata": {
      "needs_background": "light"
     },
     "output_type": "display_data"
    }
   ],
   "source": [
    "%matplotlib inline\n",
    "import matplotlib.pyplot as plt\n",
    "plt.hist(alst,width=0.9,density=True)\n",
    "plt.xlabel('n')\n",
    "plt.ylabel('Pr{A(50)=n}')"
   ]
  },
  {
   "cell_type": "code",
   "execution_count": 65,
   "metadata": {},
   "outputs": [
    {
     "data": {
      "text/plain": [
       "Text(0, 0.5, 'Pr{B(50)=n}')"
      ]
     },
     "execution_count": 65,
     "metadata": {},
     "output_type": "execute_result"
    },
    {
     "data": {
      "image/png": "[encoded data removed]",
      "text/plain": [
       "<Figure size 432x288 with 1 Axes>"
      ]
     },
     "metadata": {
      "needs_background": "light"
     },
     "output_type": "display_data"
    }
   ],
   "source": [
    "plt.hist(blst,width=0.1,density=True)\n",
    "plt.xlabel('n')\n",
    "plt.ylabel('Pr{B(50)=n}')"
   ]
  },
  {
   "cell_type": "code",
   "execution_count": 66,
   "metadata": {},
   "outputs": [
    {
     "data": {
      "text/plain": [
       "Text(0, 0.5, 'Pr{C(50)=n}')"
      ]
     },
     "execution_count": 66,
     "metadata": {},
     "output_type": "execute_result"
    },
    {
     "data": {
      "image/png": "[encoded data removed]",
      "text/plain": [
       "<Figure size 432x288 with 1 Axes>"
      ]
     },
     "metadata": {
      "needs_background": "light"
     },
     "output_type": "display_data"
    }
   ],
   "source": [
    "plt.hist(clst,width=0.1,density=True)\n",
    "plt.xlabel('n')\n",
    "plt.ylabel('Pr{C(50)=n}')"
   ]
  },
  {
   "cell_type": "code",
   "execution_count": null,
   "metadata": {},
   "outputs": [],
   "source": []
  }
 ],
 "metadata": {
  "kernelspec": {
   "display_name": "Python 3",
   "language": "python",
   "name": "python3"
  },
  "language_info": {
   "codemirror_mode": {
    "name": "ipython",
    "version": 3
   },
   "file_extension": ".py",
   "mimetype": "text/x-python",
   "name": "python",
   "nbconvert_exporter": "python",
   "pygments_lexer": "ipython3",
   "version": "3.7.4"
  }
 },
 "nbformat": 4,
 "nbformat_minor": 2
}
