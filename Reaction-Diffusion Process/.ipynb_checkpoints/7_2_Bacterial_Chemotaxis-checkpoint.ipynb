{
 "cells": [
  {
   "cell_type": "markdown",
   "metadata": {},
   "source": [
    "## Overview\n",
    "---\n",
    "The movement of individual biological agents often depends on external signal fields (for example, cells are attracted by nutrients and repelled by toxins). We start with a simple signal-dependent one-dimensional random walk\n",
    "which leads to the chemotaxis equation. Let us suppose\n",
    "that a particle moves along the x-axis at a constant speed $s$, but that at random instants of time it reverses direction. Now though, **we bias the random walk by supposing that the particle is less likely to change direction when moving.** Specifically we suppose that the turning frequency is\n",
    "$$\n",
    "\\lambda=\\lambda_{0} \\pm b \\frac{\\partial S}{\\partial x}\\text{---(1)}\n",
    "$$\n",
    "\n",
    "where the sign depends on the direction of the particle movement: a plus sign is for the particles moving to the left and a minus sign is for the particles moving to the right. Now, if we use the equation (6) and (7) in notebook (4.3) and (1) in this notebook, we find:\n",
    "$$\n",
    "\\begin{aligned} \\frac{\\partial p^{+}}{\\partial t}+& s \\frac{\\partial p^{+}}{\\partial x}=-\\left(\\lambda_{0}-b \\frac{\\partial S}{\\partial x}\\right) p^{+}+\\left(\\lambda_{0}+b \\frac{\\partial S}{\\partial x}\\right) p^{-} \\\\ \\frac{\\partial p^{-}}{\\partial t}-s \\frac{\\partial p^{-}}{\\partial x} &=\\left(\\lambda_{0}-b \\frac{\\partial S}{\\partial x}\\right) p^{+}-\\left(\\lambda_{0}+b \\frac{\\partial S}{\\partial x}\\right) p^{-} \\end{aligned}\n",
    "$$\n",
    "The density of particles at $(x, t)$ is given by the sum $n(x, t)=p^{+}(x, t)+p^{-}(x, t) .$ It can be shown that $n(x, t)$ satisfies the second-order PDE:\n",
    "\n",
    "$$\n",
    "\\frac{1}{2 \\lambda_{0}} \\frac{\\partial^{2} n}{\\partial t^{2}}+\\frac{\\partial n}{\\partial t}=\\frac{s^{2}}{2 \\lambda_{0}} \\frac{\\partial^{2} n}{\\partial x^{2}}-\\frac{b s}{\\lambda_{0}} \\frac{\\partial}{\\partial x}\\left(n \\frac{\\partial S}{\\partial x}\\right)^{\\prime}\\text{---(2)}\n",
    "$$\n",
    "\n",
    "This is a **hyperbolic version of the chemotaxis equation**. The hyperbolic PDE might reduce for sufficiently large times to the parabolic diffusion equation. The same is true here [Hillen\n",
    "and Stevens, 2000](https://www.sciencedirect.com/science/article/abs/pii/S0362546X99002849?via%3Dihub). **Thus we have shown that we can add advection to the velocity-jump model by changing the constant turning rate $\\lambda$ to the signal-dependent rate.**"
   ]
  },
  {
   "cell_type": "markdown",
   "metadata": {},
   "source": [
    "## Memory of a Bacterium\n",
    "---\n",
    "For a bacterium to know that it is moving in a favourable direction, it must have a \"memory\":**it must remember the quality of the previous environment.**\n",
    "\n",
    "A bacterium can be modelled as a point that is described not only by its position $\\mathbf{X}(t)$ and velocity $\\mathbf{V}(t),$ but also by additional, **internal variables $\\mathbf{Y}(t)$**. In detailed models, the components of the internal vector $Y(t)$ would stand for\n",
    "concentrations (or numbers) of molecules in the signal transduction and the dimension of $Y(t)$ would be quite large."
   ]
  },
  {
   "cell_type": "code",
   "execution_count": null,
   "metadata": {},
   "outputs": [],
   "source": []
  }
 ],
 "metadata": {
  "kernelspec": {
   "display_name": "Python 3",
   "language": "python",
   "name": "python3"
  },
  "language_info": {
   "codemirror_mode": {
    "name": "ipython",
    "version": 3
   },
   "file_extension": ".py",
   "mimetype": "text/x-python",
   "name": "python",
   "nbconvert_exporter": "python",
   "pygments_lexer": "ipython3",
   "version": "3.7.4"
  }
 },
 "nbformat": 4,
 "nbformat_minor": 2
}
