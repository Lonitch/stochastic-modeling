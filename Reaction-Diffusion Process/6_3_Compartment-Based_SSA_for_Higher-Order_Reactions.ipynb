{
 "cells": [
  {
   "cell_type": "markdown",
   "metadata": {},
   "source": [
    "## Overview\n",
    "\n",
    "Again, we consider the elongated domain $[0, L] \\times[0, h] \\times[0, h]$ where $L=1 \\mathrm{mm}$ and $h=25 \\mu \\mathrm{m} .$ We consider two chemical species $A$ and $B$\n",
    "that diffuse in this domain and are subject to chemical reactions:\n",
    "\n",
    "$$\n",
    "A+A \\stackrel{k_{1}}{\\longrightarrow} \\emptyset, \\quad A+B \\stackrel{k_{2}}{\\longrightarrow} \\emptyset\\text{---(1)}\n",
    "$$\n",
    "$$\n",
    "A \\stackrel{k_{3}}{\\longrightarrow} 0, \\quad B \\stackrel{k_{4}}{\\longrightarrow} \\emptyset, \\quad \\stackrel{c}{\\longrightarrow} A\\text{---(2)}\n",
    "$$\n",
    "$$\n",
    "\\emptyset \\stackrel{k_{6}}{\\longrightarrow} B \\text { in }[3 L / 5, L] \\times[0, h] \\times[0, h]\\text{---(3)}\n",
    "$$\n",
    "\n",
    "We then divide the domain into $K=40$ compartments of volume $h^3$. We denote the number of molecules of chemical species A (resp. B) in the ith compartment $[(i-1) h, i h) \\times[0, h] \\times[0, h]$ by $A_{i}\\left(\\text { resp. } B_{i}\\right)$. We denote the diffusion coefficients of $A$ and $B$ by $D_{A}$ and $D_{B}$ respectively. Then diffusion corresponds to two chains of \"chemical reactions\":\n",
    "\n",
    "$$\n",
    "A_1\\overset{d_A}{\\underset{d_A}{\\leftrightarrow}}A_2\\dots\\overset{d_A}{\\underset{d_A}{\\leftrightarrow}}A_K\\text{---(4)}\n",
    "$$\n",
    "$$\n",
    "B_1\\overset{d_B}{\\underset{d_B}{\\leftrightarrow}}B_2\\dots\\overset{d_B}{\\underset{d_B}{\\leftrightarrow}}B_K\\text{---(5)}\n",
    "$$\n",
    "where $d_{A}=D_{A} / h^{2}$ and $d_{B}=D_{B} / h^{2}$. Thus the reactions (1) are modelled as the following set of chemical reactions:\n",
    "\n",
    "$$\n",
    "A_{i}+A_{i} \\stackrel{k_{1}}{\\longrightarrow} \\emptyset, \\quad A_{i}+B_{i} \\stackrel{k_{2}}{\\longrightarrow} \\emptyset, \\quad \\text { for } i=1,2, \\ldots, K\\text{---(6)}\n",
    "$$\n",
    "\n",
    "Consequently, reactions (2)-(3) read as:\n",
    "\n",
    "$$\n",
    "A_{i} \\stackrel{k_{3}}{\\longrightarrow} \\emptyset, \\quad B_{i} \\stackrel{k_{4}}{\\longrightarrow} \\emptyset, \\quad \\emptyset \\stackrel{k_{5}}{\\longrightarrow} A_{i}\\text{---(7)}\n",
    "$$\n",
    "$$\n",
    "\\emptyset \\stackrel{k_{6}}{\\longrightarrow} B_{i}, \\quad \\text { for } i=3 K / 5+1, \\ldots, K\\text{---(8)}\n",
    "$$\n",
    "where the last set of reactions takes into account the fact that molecules of chemical species $B$ are only produced in subdomain $[3 L / 5, L] \\times[0, h] \\times[0, h]$ with the rate $k_{6} h^{3}$ per compartment (of volume $h^{3}$ )."
   ]
  },
  {
   "cell_type": "markdown",
   "metadata": {},
   "source": [
    "## Deterministic System of PDEs\n",
    "\n",
    "Let us first define the concentration of A and B as:\n",
    "$$\n",
    "a(x, t) \\approx A_{i}(t) / h^{3} \\text { and } b(x, t) \\approx B_{i}(t) / h^{3} \\text { where } x \\approx i h\n",
    "$$\n",
    "\n",
    "We simply add diffusion and degradation to the system of ODEs to obtain:\n",
    "\n",
    "$$\n",
    "\\begin{array}{l}{\\frac{\\partial a}{\\partial t}=D \\frac{\\partial^{2} a}{\\partial x^{2}}-2 k_{1} a^{2}-k_{2} a b-k_{3} a+k_{5}} \\\\ {\\frac{\\partial b}{\\partial t}=D \\frac{\\partial^{2} b}{\\partial x^{2}}-k_{2} a b-k_{4} b+k_{6} \\chi_{[3 L / 5, L]}}\\end{array}\n",
    "$$\n",
    "\n",
    "and couple it with zero-flux boundary conditions:\n",
    "\n",
    "$$\n",
    "\\frac{\\partial a}{\\partial x}(0)=\\frac{\\partial a}{\\partial x}(L)=\\frac{\\partial b}{\\partial x}(0)=\\frac{\\partial b}{\\partial x}(L)=0\n",
    "$$\n",
    "\n",
    "Again,**the solution of the PDEs is not equal to the stochastic mean**"
   ]
  },
  {
   "cell_type": "markdown",
   "metadata": {},
   "source": [
    "## A Choice of Compartment Size $h$\n",
    "---\n",
    "**What is the appropriate choice of the compartment size $h$?**\n",
    "\n",
    "Generally, for reaction–diffusion systems involving only zeroth- and first-order chemical reactions we can increase the accuracy of the SSA by decreasing h.\n",
    "\n",
    "The situation is much more delicate when the system involves second- or higher-order reactions. In that case, **although diffusion is modelled more accurately as h is decreased, the reactions are modelled less accurately as h is decreased, so that we lose accuracy if we choose h too small**.\n",
    "\n",
    "The reason for the bound on h from below is that **the second-order reaction does not happen as frequently as it should for small values of h**. One way to fix this problem is to **increase the probability of reaction for two molecules in the same compartment**. Please see [Erban and Chapman (2009)](https://iopscience.iop.org/article/10.1088/1478-3975/6/4/046001/meta) for more details.\n",
    "\n",
    "It is suggested to choose $h \\text { small (to satisfy } L \\gg h)$ but not too small (to satisfy $\\left.h \\gg k /\\left(D_{A}+D_{B}\\right)\\right) .$ The optimal choice of $h$ is a subject of current research, see [Isaacson and Zhang (2018).](https://arxiv.org/pdf/1711.04220.pdf) and [Hellander and Petzold (2016)](https://cse.cs.ucsb.edu/sites/cse.cs.ucsb.edu/files/publications/1.5002773.pdf)."
   ]
  },
  {
   "cell_type": "code",
   "execution_count": null,
   "metadata": {},
   "outputs": [],
   "source": []
  }
 ],
 "metadata": {
  "kernelspec": {
   "display_name": "Python 3",
   "language": "python",
   "name": "python3"
  },
  "language_info": {
   "codemirror_mode": {
    "name": "ipython",
    "version": 3
   },
   "file_extension": ".py",
   "mimetype": "text/x-python",
   "name": "python",
   "nbconvert_exporter": "python",
   "pygments_lexer": "ipython3",
   "version": "3.7.4"
  }
 },
 "nbformat": 4,
 "nbformat_minor": 2
}
