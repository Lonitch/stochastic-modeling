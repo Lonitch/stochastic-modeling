{
 "cells": [
  {
   "cell_type": "markdown",
   "metadata": {},
   "source": [
    "## Model Formulation\n",
    "\n",
    "We consider molecules of chemical species $A$ that diffuse in the domain $[0, L] \\times[0, h] \\times[0, h],$ where $L=1 \\mathrm{mm}$ and $h=25 \\mu \\mathrm{m} .$ Our illustrative reaction–diffusion model can be formulated as follows.\n",
    "\n",
    "The molecules of chemical species $A$ diffuse in the domain $[0, L] \\times[0, h] \\times[0, h]$ with the diffusion constant $D=10^{-4} \\mathrm{mm}^{2}\\mathrm{sec}^{-1}$. Initially, there are no molecules\n",
    "in the system. Molecules are produced uniformly in the part of the domain $[0, L / 5] \\times[0, h] \\times[0, h]$ with rate $k_{2}=2 \\times 10^{-5} \\mu \\mathrm{m}^{-3} \\mathrm{sec}^{-1} .$ This means that\n",
    "the probability that a molecule is created in a subvolume $v \\subset[0, L / 5] \\times[0, h] \\times[0, h]$ during the time interval $[t, t+\\mathrm{d} t)$ is equal to $k_{2} v \\mathrm{d} t .$ Consequently, the probability that a molecule is created somewhere in the subdomain $[0, L / 5] \\times[0, h] \\times[0, h]$ during the time interval $[t, t+d t)$ is equal to $\\left(k_{2}\\right)^{2} L / 5$ dt. Molecules are degraded at the rate $k_{1}=10^{-3} \\sec ^{-1}$.\n",
    "\n",
    "We now divide the computational domain into $K=L/h=40$ compartments each of volume $h^3$. We denote the number of molecules of chemical species $A$ in the $i$ th com-\n",
    "partment $[(i-1) h, i h) \\times[0, h] \\times[0, h]$ by $A_{i},$ where $i$ runs from 1 to $K$. Then our reaction-diffusion process is described by the system of chemical reactions:\n",
    "\n",
    "$$\n",
    "A_1\\overset{d}{\\underset{d}{\\leftrightarrow}}A_2\\dots\\overset{d}{\\underset{d}{\\leftrightarrow}}A_k\\text{---(1)}\n",
    "$$\n",
    "$$\n",
    "A_{i} \\stackrel{k_{1}}{\\longrightarrow} \\emptyset, \\quad \\text { for } i=1,2, \\dots, K\\text{---(2)}\n",
    "$$\n",
    "$$\n",
    "\\emptyset \\stackrel{k_{2}}{\\longrightarrow} A_{i}, \\quad \\text { for } i=1,2, \\dots, K / 5 \\text{---(3)}\n",
    "$$\n",
    "\n",
    "Thus, the propensity function of chemical reactions in (3) are $k_2h^3$"
   ]
  },
  {
   "cell_type": "markdown",
   "metadata": {},
   "source": [
    "## Reaction-diffusion master equation\n",
    "\n",
    "Let $p(\\mathbf{n}, t)$ be the joint probability that $A_{i}(t)=n_{i}, i=1,2, \\ldots, K,$ where we use the notation $\\mathbf{n}=\\left[n_{1}, n_{2}, \\ldots, n_{K}\\right] .$ Let us define operators $R_{i}, L_{i}: \\mathbb{N}^{K} \\rightarrow \\mathbb{N}^{K}$ by:\n",
    "\n",
    "$$\n",
    "R_{i}:\\left[n_{1}, \\ldots, n_{i}, n_{i+1}, \\ldots, n_{K}\\right] \\rightarrow\\left[n_{1}, \\ldots, n_{i}+1, n_{i+1}-1, \\ldots, n_{K}\\right]\n",
    "$$\n",
    "$L_{i}:\\left[n_{1}, \\ldots, n_{i-1}, n_{i}, \\ldots, n_{K}\\right] \\rightarrow\\left[n_{1}, \\ldots, n_{i-1}-1, n_{i}+1, \\ldots, n_{K}\\right]$\n",
    "\n",
    "Then the reaction-diffusion master equation, which corresponds to the system of reactions (1)-(3), can be written as follows:\n",
    "$$\n",
    "\\begin{aligned} \\frac{\\partial p(\\mathbf{n})}{\\partial t}=& d \\sum_{i=1}^{K-1}\\left\\{\\left(n_{i}+1\\right) p\\left(R_{i} \\mathbf{n}\\right)-n_{i} p(\\mathbf{n})\\right\\}+d \\sum_{i=2}^{K}\\left\\{\\left(n_{i}+1\\right) p\\left(L_{i} \\mathbf{n}\\right)-n_{i} p(\\mathbf{n})\\right\\} \\\\ &+k_{1} \\sum_{i=1}^{K}\\left\\{\\left(n_{i}+1\\right) p\\left(n_{1}, n_{2}, \\ldots, n_{i}+1, \\ldots, n_{K}\\right)-n_{i} p(\\mathbf{n})\\right\\} \\\\ &+k_{2} h^{3} \\sum_{i=1}^{K / 5}\\left\\{p\\left(n_{1}, n_{2}, \\ldots, n_{i}-1, \\ldots, n_{K}\\right)-p(\\mathbf{n})\\right\\} \\end{aligned}\\text{---(4)}\n",
    "$$\n",
    "\n",
    "We then define a vector of mean number of molecules as:\n",
    "$$\n",
    "M_{i}(t)=\\sum_{\\mathbf{n}} n_{i} p(\\mathbf{n}, t) \\equiv \\sum_{n_{1}=0}^{\\infty} \\sum_{n_{2}=0}^{\\infty} \\cdots \\sum_{n_{K}=0}^{\\infty} n_{i} p(\\mathbf{n}, t)\n",
    "$$\n",
    "\n",
    "Multiplying (4) by $n_i$ and sum over all the $n_j$ for $j=1,2,\\dots,K$, we obtain the following:\n",
    "\n",
    "$$\n",
    "\\begin{aligned} \\frac{\\partial M_{1}}{\\partial t} &=d\\left(M_{2}-M_{1}\\right)+k_{2} h^{3}-k_{1} M_{1} \\\\ \\frac{\\partial M_{i}}{\\partial t} &=d\\left(M_{i+1}+M_{i-1}-2 M_{i}\\right)+k_{2} h^{3}-k_{1} M_{i}, \\quad i=2, \\ldots, K / 5 \\\\ \\frac{\\partial M_{i}}{\\partial t} &=d\\left(M_{i+1}+M_{i-1}-2 M_{i}\\right)-k_{1} M_{i}, \\quad i=K / 5+1, \\ldots, K-1 \\\\ \\frac{\\partial M_{K}}{\\partial t} &=d\\left(M_{K-1}-M_{K}\\right)-k_{1} M_{K} \\end{aligned}\\text{---(5)}\n",
    "$$\n",
    "\n",
    "Dividing (6) by $h^3$ and using $d=D/h^2$, we can write a system of ODEs for $\\bar{M}_i$ in the following form:\n",
    "\n",
    "$$\n",
    "\\begin{array}{l}{\\frac{\\partial \\bar{M}_{1}}{\\partial t}=D \\frac{\\bar{M}_{2}-\\bar{M}_{1}}{h^{2}}+k_{2}-k_{1} \\bar{M}_{1}} \\\\ {\\frac{\\partial \\bar{M}_{i}}{\\partial t}=D \\frac{\\bar{M}_{i+1}+\\bar{M}_{i-1}-2 \\bar{M}_{i}}{h^{2}}+k_{2}-k_{1} \\bar{M}_{i}, \\quad i=2, \\ldots, K / 5} \\\\ {\\frac{\\partial \\bar{M}_{i}}{\\partial t}=D \\frac{\\bar{M}_{i+1}+\\bar{M}_{i-1}-2 \\bar{M}_{i}}{h^{2}}-k_{1} \\bar{M}_{i}, \\quad i=K / 5+1, \\ldots, K-1} \\\\ {\\frac{\\partial \\bar{M}_{K}}{\\partial t}=D \\frac{\\bar{M}_{K-1}-\\bar{M}_{K}}{h^{2}}-k_{1} \\bar{M}_{K}}\\end{array}\n",
    "$$\n",
    "\n",
    "This is a discretized version of the reaction-diffusion PDE\n",
    "\n",
    "$$\n",
    "\\frac{\\partial a}{\\partial t}=D \\frac{\\partial^{2} a}{\\partial x^{2}}+k_{2} \\chi_{[0, L / 5]}-k_{1} a\\text{---(6)}\n",
    "$$\n",
    "\n",
    "with zero-flux boundary conditions:\n",
    "\n",
    "$$\n",
    "\\frac{\\partial a}{\\partial x}(0)=\\frac{\\partial a}{\\partial x}(L)=0\n",
    "$$\n",
    "\n",
    "Here $a(x, t)$ is the concentration of molecules of $A$ at point $x$ and time $t,$ and $\\chi_{10, L f / 51}$ is the characteristic function of the interval $[0, L / 5],$ so that $\\chi_{[0, L / 5}(x)=1$ if $x \\in[0, L / 5],$ and otherwise it is zero. **Equation (6) provides a classic deterministic description of the reaction–diffusion process.**"
   ]
  },
  {
   "cell_type": "code",
   "execution_count": null,
   "metadata": {},
   "outputs": [],
   "source": []
  }
 ],
 "metadata": {
  "kernelspec": {
   "display_name": "Python 3",
   "language": "python",
   "name": "python3"
  },
  "language_info": {
   "codemirror_mode": {
    "name": "ipython",
    "version": 3
   },
   "file_extension": ".py",
   "mimetype": "text/x-python",
   "name": "python",
   "nbconvert_exporter": "python",
   "pygments_lexer": "ipython3",
   "version": "3.7.4"
  }
 },
 "nbformat": 4,
 "nbformat_minor": 2
}
